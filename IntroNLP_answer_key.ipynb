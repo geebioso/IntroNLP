{
 "cells": [
  {
   "cell_type": "markdown",
   "metadata": {
    "slideshow": {
     "slide_type": "slide"
    }
   },
   "source": [
    "# Introduction to Natural Language Processing\n",
    "\n",
    "**Garren Gaut with contributions from Avishek Kumar**\n",
    "\n",
    "---"
   ]
  },
  {
   "cell_type": "markdown",
   "metadata": {
    "slideshow": {
     "slide_type": "slide"
    }
   },
   "source": [
    "\n",
    "# Table of Contents\n",
    " - [Data Source](#Data-Source:-Reddit-Comments-from-May-2015-in-JSON-format)\n",
    " - [Preprocess](#Preprocess-the-data)\n",
    " - [Supervised Learning](#Comment-Classification:-Supervised-Learning)\n",
    " - [Unsupervised Learning](#Comment-Similarity-and-Clustering:-Unsupervised-Learning)\n",
    " - [Dimensionality Reduction](#Topic-Modeling:-Dimensionality-Reduction )\n",
    " \n",
    "---"
   ]
  },
  {
   "cell_type": "markdown",
   "metadata": {
    "slideshow": {
     "slide_type": "slide"
    }
   },
   "source": [
    "# Introduction\n",
    "\n",
    "\n",
    "Text Analysis is used for summarizing or extracting useful information from large amounts of  unstructured text. Text analysis encompases a large array of tasks: \n",
    "\n",
    "<img src=\"figs/nlp_tasks.png\">\n",
    "\n",
    "---\n"
   ]
  },
  {
   "cell_type": "markdown",
   "metadata": {
    "slideshow": {
     "slide_type": "subslide"
    }
   },
   "source": [
    " ## Demos \n",
    "\n",
    " - [Stanford NLP](http://nlp.stanford.edu:8080/corenlp/process)    \n",
    " - [Illinois Cognitive Computation Group](http://cogcomp.cs.illinois.edu/page/demos/)    \n",
    " - [Event Search](http://eventregistry.org/searchEvents)    \n",
    " \n",
    " ---\n"
   ]
  },
  {
   "cell_type": "markdown",
   "metadata": {
    "slideshow": {
     "slide_type": "subslide"
    }
   },
   "source": [
    "## Why is Language Analysis Hard?\n",
    "\n",
    "- Ambiguity of Language\n",
    "- Commonsense knowledge is typically omitted from social communications\n",
    "- Abduction\n",
    "- Language is dynamic \n",
    "- Symbol grounding"
   ]
  },
  {
   "cell_type": "markdown",
   "metadata": {
    "slideshow": {
     "slide_type": "subslide"
    }
   },
   "source": [
    "## How do we represent a word? \n",
    "\n",
    "### One-hot Encoding\n",
    "\n",
    "`[0,0,0,...,0,1,0,...,0]`\n",
    "\n",
    "### Distributed Representation \n",
    "\n",
    "`[0.34, 0.51,...,0.49, 0.56, 0.72]`\n",
    "\n",
    "<!-- LSA, word embeddings, vector space embedding --> \n"
   ]
  },
  {
   "cell_type": "markdown",
   "metadata": {
    "slideshow": {
     "slide_type": "subslide"
    }
   },
   "source": [
    "## How do we represent a document? \n",
    "\n",
    "### Bag-of-words \n",
    "\n",
    "A bag of words is created by summing the one-hot encodings for all words in a document.     \n",
    "\n",
    "\n",
    "<img src=\"figs/scrabble-2133.jpg\" style=\"width: 50%; height: 50%\"/>\n",
    "\n",
    "\n",
    "### Document Embedding \n",
    "\n",
    "Document embeddings can be created by averaging over word embeddings. This assumes that words and document are 'occupying' the same semantic vector space. \n",
    "\n"
   ]
  },
  {
   "cell_type": "markdown",
   "metadata": {
    "slideshow": {
     "slide_type": "subslide"
    }
   },
   "source": [
    "## Glossary of Terms\n",
    "\n",
    "\n",
    "* **Document Classification**: Predicting which class label belongs to a document (in this tutorial comments are documents). \n",
    "\n",
    "* **LDA**: LDA (latent Dirichlet allocation) is a type of probabilistic model commonly used for topic modelling. \n",
    "\n",
    "* **Stemming**: Stemming is a type of text normalization where words that have different forms but their essential meaning are normalized to the original dictionary form of a word. For example \"go,\" \"went,\" and \"goes\" all stem from the lemma \"go.\"\n",
    "\n",
    "* **Stop Words**: Stop words are words that have little semantic meaning like prepositions, articles and common nouns. They can often be ingnored. \n",
    "\n",
    "* **TFIDF**: TFIDF (Term frequency-inverse document frequency) is an example of feature enginnering where the most important words are extracted by taking account their frequency in documents and the entire corpus of documents as a whole.\n",
    "\n",
    "* **Tokenize**: Tokenization is the process by which text is sepearated into meaningful terms or phrases. For instance, separating sentences using punctuation. \n",
    "\n",
    "* **Topic Modeling**: Topic modeling is an unsupervised learning method where groups of co-occuring words are clustered into topics. Typically, the words in a a cluster should be related and make sense (e.g, boat, ship, captain). Individual documents will then fall into multiple topics. \n",
    "\n",
    "* **Word (type) vs word token**: In text analysis, *word (type)* refers to a unique set of characters. A *word token* is any occurance of a *word (type)*. For example, the sentence 'Oh boy, that boy is impressive!' contains 6 *word tokens*, but only 5 *word (types)*.   \n",
    "\n",
    " ---"
   ]
  },
  {
   "cell_type": "markdown",
   "metadata": {
    "slideshow": {
     "slide_type": "slide"
    }
   },
   "source": [
    "# Text Preprocessing\n",
    "\n",
    "- Cleaning & Tokenization\n",
    "- Stop Word Removal\n",
    "- Normalization: Stemming & Lemmatization\n",
    "- N-grams "
   ]
  },
  {
   "cell_type": "markdown",
   "metadata": {
    "slideshow": {
     "slide_type": "subslide"
    }
   },
   "source": [
    "## Text Processing Example \n",
    "\n",
    "**Original Sentence**    \n",
    "`Dude! I’m dying to go surfing. Let’s shred the gnar!` "
   ]
  },
  {
   "cell_type": "markdown",
   "metadata": {
    "slideshow": {
     "slide_type": "fragment"
    }
   },
   "source": [
    "**Clearning and Tokenizing**    \n",
    "`[dude,im,dying,to,go,surfing,lets,shred,the,gnar]`"
   ]
  },
  {
   "cell_type": "markdown",
   "metadata": {
    "slideshow": {
     "slide_type": "fragment"
    }
   },
   "source": [
    "**Stop Word Removal**    \n",
    "`[dying,surfing,shred,gnar]` "
   ]
  },
  {
   "cell_type": "markdown",
   "metadata": {
    "slideshow": {
     "slide_type": "fragment"
    }
   },
   "source": [
    "**Stemming and Lemmatization**    \n",
    "`[dy,surf,shred,gnar]   [die,surf,shred,gnar]` "
   ]
  },
  {
   "cell_type": "markdown",
   "metadata": {
    "slideshow": {
     "slide_type": "fragment"
    }
   },
   "source": [
    "**N-grams**    \n",
    "`[die,die_surf,surf,surf_shred,shred,shred_gnar,gnar]` "
   ]
  },
  {
   "cell_type": "markdown",
   "metadata": {
    "slideshow": {
     "slide_type": "fragment"
    }
   },
   "source": [
    "**N-grams using POS**    \n",
    "`[die,surf,shred,shred_gnar,gnar] `"
   ]
  },
  {
   "cell_type": "markdown",
   "metadata": {
    "slideshow": {
     "slide_type": "slide"
    }
   },
   "source": [
    "# Text Processing In Scikit Learn \n",
    "\n",
    "<img src=\"figs/sklearn_preprocessing.png\" style=\"width: 75%; height: 75%\"/>"
   ]
  },
  {
   "cell_type": "markdown",
   "metadata": {
    "slideshow": {
     "slide_type": "subslide"
    }
   },
   "source": [
    "## Sci-kit Learn and Nltk\n",
    "\n",
    "We are going to use sci-kit learn and nltk to process a dataset of comments from reddit. We will train machine learning classifiers to predict which subreddit a comment came from, and will cluster comments. First, we process comment text. \n"
   ]
  },
  {
   "cell_type": "code",
   "execution_count": 54,
   "metadata": {
    "collapsed": false,
    "slideshow": {
     "slide_type": "fragment"
    }
   },
   "outputs": [
    {
     "name": "stdout",
     "output_type": "stream",
     "text": [
      "Populating the interactive namespace from numpy and matplotlib\n",
      "[nltk_data] Downloading package stopwords to\n",
      "[nltk_data]     /Users/Garren/nltk_data...\n",
      "[nltk_data]   Package stopwords is already up-to-date!\n"
     ]
    },
    {
     "name": "stderr",
     "output_type": "stream",
     "text": [
      "/Library/Frameworks/Python.framework/Versions/3.5/lib/python3.5/site-packages/IPython/core/magics/pylab.py:161: UserWarning: pylab import has clobbered these variables: ['clf']\n",
      "`%matplotlib` prevents importing * from pylab and numpy\n",
      "  \"\\n`%matplotlib` prevents importing * from pylab and numpy\"\n"
     ]
    },
    {
     "data": {
      "text/plain": [
       "True"
      ]
     },
     "execution_count": 54,
     "metadata": {},
     "output_type": "execute_result"
    }
   ],
   "source": [
    "%pylab inline \n",
    "import nltk\n",
    "import ujson\n",
    "import re\n",
    "import time\n",
    "import scipy\n",
    "\n",
    "from sklearn.feature_extraction.text import CountVectorizer, TfidfTransformer\n",
    "from sklearn.decomposition import LatentDirichletAllocation\n",
    "from sklearn.linear_model import LogisticRegression\n",
    "from sklearn.metrics import precision_recall_curve, roc_auc_score, roc_curve, auc\n",
    "from sklearn.metrics.pairwise import euclidean_distances, cosine_distances, cosine_similarity\n",
    "from sklearn import preprocessing\n",
    "from sklearn.cluster import AgglomerativeClustering, spectral_clustering\n",
    "from collections import Counter, OrderedDict\n",
    "from nltk.corpus import stopwords\n",
    "from nltk import SnowballStemmer\n",
    "\n",
    "from utils import load_reddit, plot_roc, print_variable_sizes, print_memory\n",
    "\n",
    "nltk.download('stopwords') # download the latest stopwords"
   ]
  },
  {
   "cell_type": "markdown",
   "metadata": {
    "slideshow": {
     "slide_type": "subslide"
    }
   },
   "source": [
    "# Load and Preprocess Data\n",
    "\n",
    "### Data Source: Reddit Comments from May 2015 in JSON format\n",
    "\n",
    "For the superivised learning portion of the tutorial we will being attempting to classify whether reddit comments have come from /r/SucideWatch or /r/depression. These two subreddits are somewhat similiar so it poses a non-trivial challenge for a classifier.\n",
    "\n",
    "Return to [TOC](#Table-of-Contents)"
   ]
  },
  {
   "cell_type": "code",
   "execution_count": 55,
   "metadata": {
    "collapsed": false,
    "slideshow": {
     "slide_type": "fragment"
    }
   },
   "outputs": [
    {
     "data": {
      "text/plain": [
       "Counter({'SuicideWatch': 12609, 'depression': 24683})"
      ]
     },
     "execution_count": 55,
     "metadata": {},
     "output_type": "execute_result"
    }
   ],
   "source": [
    "# grab data from the following subreddits\n",
    "ls_subreddits = ['SuicideWatch', 'depression']\n",
    "[corpus, subreddit_id] = load_reddit('./data/RC_2015-05.json', ls_subreddits, MIN_CHAR=30)\n",
    "\n",
    "# count the number of comments in each subreddit \n",
    "Counter(subreddit_id)"
   ]
  },
  {
   "cell_type": "markdown",
   "metadata": {
    "slideshow": {
     "slide_type": "subslide"
    }
   },
   "source": [
    "## Preprocess the data\n",
    "\n",
    "In order to quantify our text, we will have to remove characters that we don't consider parts of words. "
   ]
  },
  {
   "cell_type": "code",
   "execution_count": 56,
   "metadata": {
    "collapsed": false,
    "slideshow": {
     "slide_type": "fragment"
    }
   },
   "outputs": [],
   "source": [
    "# create an expression to remove from data \n",
    "RE_PREPROCESS = re.compile(r\"\"\" \\W + # one or more nonword characters\n",
    "                                |    # the or operator\n",
    "                                \\d+  # the decimal point\"\"\", re.VERBOSE)\n",
    "\n",
    "# remove anything matching RE_PREPROCESS and make lowercase \n",
    "processed_corpus = np.array( [ re.sub(RE_PREPROCESS, ' ', comment).lower() for comment in corpus] )\n",
    "#processed_corpus2 = np.array( [ re.sub(RE_PREPROCESS2, ' ', comment).lower() for comment in corpus] )\n",
    "\n",
    "# check out original and preprocessed data \n",
    "num_comment_to_view = 0\n",
    "for i in range(0, num_comment_to_view):\n",
    "    print(\"Original: subreddit: {}, comment: {}\".format(subreddit_id[i],corpus[i]))\n",
    "    print()\n",
    "    print(\"Processed: subreddit: {}, comment: {}\".format(subreddit_id[i],processed_corpus[i]))\n",
    "    \n",
    "    print('\\n\\n')\n",
    "\n"
   ]
  },
  {
   "cell_type": "markdown",
   "metadata": {
    "slideshow": {
     "slide_type": "subslide"
    }
   },
   "source": [
    "### Activity 1: Internet Stoic\n",
    "**10 mins**\n",
    "\n",
    "Write your own preprocessing routine that removes **only happy and sad emojis** from each comment in the corpus. Write a loop that prints comments `[1788, 2360, 9679, 18096]` to check that your choice of regular expression preprocesses the text as you intended. [Python regular expression documentation](https://docs.python.org/2/library/re.html) will be helpful. \n"
   ]
  },
  {
   "cell_type": "code",
   "execution_count": 57,
   "metadata": {
    "collapsed": false,
    "slideshow": {
     "slide_type": "fragment"
    }
   },
   "outputs": [
    {
     "name": "stdout",
     "output_type": "stream",
     "text": [
      "\n",
      "Comment 1788:\n",
      " \n",
      ":/ this loneliness must be so hard then...I do hope you'll think about calling a friend if these feelings get stronger.  I don't want you to be scared. \n",
      ":/ this loneliness must be so hard then...I do hope you'll think about calling a friend if these feelings get stronger.  I don't want you to be scared. \n",
      "\n",
      "Comment 2360:\n",
      " \n",
      ":( You need to call someone...I had a panic attack right before I swallowed around 10 pills and saw the fucking police coming up the steps for me...I know that feeling.\n",
      "\n",
      "You can do serious damage and please don't take anymore pills. I care about you. :)\n",
      "\n",
      "~LG\n",
      "  You need to call someone...I had a panic attack right before I swallowed around 10 pills and saw the fucking police coming up the steps for me...I know that feeling.\n",
      "\n",
      "You can do serious damage and please don't take anymore pills. I care about you.  \n",
      "\n",
      "~LG\n",
      "\n",
      "Comment 9679:\n",
      " \n",
      ":| seriously? I wanted to get into building this pc as a **hobby**, something to get myself interested in. I already go for jogs and stuff, take pills, but I often feel I'm not doing anything productive with my life\n",
      ":| seriously? I wanted to get into building this pc as a **hobby**, something to get myself interested in. I already go for jogs and stuff, take pills, but I often feel I'm not doing anything productive with my life\n",
      "\n",
      "Comment 18096:\n",
      " \n",
      ":) thank you, Im working on it for sure or at least trying to\n",
      "  thank you, Im working on it for sure or at least trying to\n"
     ]
    }
   ],
   "source": [
    "# ANSWER\n",
    "comments_to_check = [1788, 2360, 9679, 18096]\n",
    "\n",
    "RE_PREPROCESS_EMOJI = re.compile(r'(:\\))|(:\\()')\n",
    "\n",
    "emojiless_corpus = np.array( [ re.sub(RE_PREPROCESS_EMOJI, ' ', comment) for comment in corpus] )\n",
    "for i in comments_to_check:\n",
    "    print(\"\\nComment {}:\\n \\n{}\\n{}\".format(i, corpus[i], emojiless_corpus[i]))\n",
    "\n",
    "# clear some memory\n",
    "emojiless_corpus = None"
   ]
  },
  {
   "cell_type": "markdown",
   "metadata": {
    "slideshow": {
     "slide_type": "slide"
    }
   },
   "source": [
    "# Comment Classification: Supervised Learning\n",
    "\n",
    "In this section we are going to train a classifier to properly tag the original subreddit in which the comment appeared. First we split our data into a testing and training set using the first 80% of the data as the training set and the remaining 20% as the testing set. \n",
    "\n",
    "\n",
    "Return to [TOC](#Table-of-Contents)"
   ]
  },
  {
   "cell_type": "markdown",
   "metadata": {
    "slideshow": {
     "slide_type": "subslide"
    }
   },
   "source": [
    "## Create Training/Test Splits"
   ]
  },
  {
   "cell_type": "code",
   "execution_count": 58,
   "metadata": {
    "collapsed": false,
    "slideshow": {
     "slide_type": "fragment"
    }
   },
   "outputs": [
    {
     "name": "stdout",
     "output_type": "stream",
     "text": [
      "Training Labels Counter({'depression': 19382, 'SuicideWatch': 10451})\n",
      "Testing Labels Counter({'depression': 5301, 'SuicideWatch': 2158})\n"
     ]
    }
   ],
   "source": [
    "#split the data into training and testing sets. \n",
    "#refactor this in the test train-split\n",
    "train_set_size = int(0.8*len(subreddit_id))\n",
    "train_idx = np.arange(0,train_set_size)\n",
    "test_idx = np.arange(train_set_size, len(subreddit_id))\n",
    "\n",
    "train_subreddit_id = subreddit_id[train_idx]\n",
    "train_corpus = processed_corpus[train_idx]\n",
    "\n",
    "test_subreddit_id = subreddit_id[test_idx]\n",
    "test_processed_corpus = processed_corpus[test_idx]\n",
    "test_corpus = corpus[test_idx]\n",
    "\n",
    "print('Training Labels', Counter(subreddit_id[train_idx]))\n",
    "print('Testing Labels', Counter((subreddit_id[test_idx])))"
   ]
  },
  {
   "cell_type": "markdown",
   "metadata": {
    "slideshow": {
     "slide_type": "subslide"
    }
   },
   "source": [
    "## Tokenize and stem to create features\n",
    "\n",
    "Now that we have the data and we have done a bit of preprocessing, we want to create features. We quantify words as **one-hot encodings** and create document word counts by summing encodings over words in a documents. Scikit-learn as a [CountVectorizer method](http://scikit-learn.org/stable/modules/generated/sklearn.feature_extraction.text.CountVectorizer.html) that makes this step simple. \n",
    "\n",
    "We first create a vectorizer object that stores the frequency of words in each of the documents in a **document-term count matrix**. We will discard very high and low frequency words. For example, the words *the* or *for* may appear often throughout a corpus but contain very little semantic information. Conversely a document may contain obscure words that do not occur anywhere in else in the corpus which could cause models to overfit. These cases are managed by setting a threshold for the Min and Max Document Frequency(DF).  "
   ]
  },
  {
   "cell_type": "code",
   "execution_count": 59,
   "metadata": {
    "collapsed": false,
    "slideshow": {
     "slide_type": "fragment"
    }
   },
   "outputs": [],
   "source": [
    "# parameters for vectorizer \n",
    "ANALYZER = \"word\" # unit of features are single words rather then phrases of words \n",
    "STRIP_ACCENTS = 'unicode' \n",
    "TOKENIZER = None\n",
    "NGRAM_RANGE = (0,2) # Range for n-grams \n",
    "MIN_DF = 100/len(corpus) # Exclude words that are contained in less that x percent of documents \n",
    "MAX_DF = 0.8  # Exclude words that are contained in more than x percent of documents \n",
    "\n",
    "vectorizer = CountVectorizer(analyzer=ANALYZER,\n",
    "                            tokenizer=None, # alternatively tokenize_and_stem but it will be slower \n",
    "                            ngram_range=NGRAM_RANGE,\n",
    "                            stop_words = stopwords.words('english'),\n",
    "                            strip_accents=STRIP_ACCENTS,\n",
    "                            min_df = MIN_DF,\n",
    "                            max_df = MAX_DF)\n",
    "                            # could add 'token_pattern' argument to specify what denotes a token "
   ]
  },
  {
   "cell_type": "markdown",
   "metadata": {
    "slideshow": {
     "slide_type": "subslide"
    }
   },
   "source": [
    "**TFIDF (Term Frequency Inverse Document Frequency)** transforms a count matrix--what we created above--into a TFIDF represenation. This is done by reweighting words that occur throughout the entire corpus to a lower weight due to empirically being found to be less discriminative. Intuitively, TFIDF counts the number of times each term occurs in each document and weights each term frequency by how rare that term is in the corpus. Rare words receive higher weight to quantify that rare words are more discriminative. \n",
    "\n",
    "Term frequency (TF) for a word $t$ and document $d$ is computed as:\n",
    "\n",
    "$$\n",
    "\\textrm{tf} (t,d)= \\frac{n_{t,d}}{\\sum\\limits_{t^\\prime \\in \\mathbb{T}} { n_{t^\\prime,d}}}\n",
    "$$\n",
    "\n",
    "where $n_{t,d}$ is the number of times term $t$ occurs in document $d$ and $\\mathbb{T}$ is the set of all terms in the corpus. The inverse document frequency (IDF) for a term and a set of documents $D$ is computed as:\n",
    "\n",
    "\\begin{align}\n",
    " \\mathrm{idf}(t, D) &=  \\log \\frac{|D|}{1 + df(D,t)} \\\\ \n",
    " df(D,t) &= |\\{d \\in D: t \\in d\\}| \n",
    "\\end{align}\n",
    "\n",
    "where $|\\{d \\in D: t \\in d\\}|$ is the number of documents where term $t$ appears. The 1 added in the demoninator prevents division-by-zero. Then TFIDF is just the weighting of each term frequency by the inverse document frequency:\n",
    "\n",
    "$$ \n",
    "{\\displaystyle \\mathrm {tfidf} (t,d,D)=\\mathrm {tf} (t,d)\\cdot \\mathrm {idf} (t,D)}\n",
    "$$ \n",
    "\n",
    "[TFIDF in sci-kit learn](http://scikit-learn.org/stable/modules/feature_extraction.html#text-feature-extraction) differs from the textbook definition. "
   ]
  },
  {
   "cell_type": "code",
   "execution_count": 60,
   "metadata": {
    "collapsed": false,
    "slideshow": {
     "slide_type": "subslide"
    }
   },
   "outputs": [
    {
     "name": "stderr",
     "output_type": "stream",
     "text": [
      "/Library/Frameworks/Python.framework/Versions/3.5/lib/python3.5/site-packages/ipykernel/__main__.py:7: RuntimeWarning: divide by zero encountered in true_divide\n"
     ]
    },
    {
     "data": {
      "image/png": "[encoded data removed]",
      "text/plain": [
       "<matplotlib.figure.Figure at 0x22a32e080>"
      ]
     },
     "metadata": {},
     "output_type": "display_data"
    }
   ],
   "source": [
    "## Plot different IDF options\n",
    "document_freq = np.arange(0,10,1)\n",
    "n_d = 10\n",
    "\n",
    "default = np.log((1 + n_d)/(1 + document_freq)) + 1\n",
    "textbook = np.log( n_d / (1 + document_freq))\n",
    "smooth_idf_false = np.log( n_d/document_freq)\n",
    "\n",
    "plt.figure()\n",
    "lw = 2\n",
    "plt.plot(document_freq, default, color='blue',\n",
    "     lw=lw, label='default')\n",
    "plt.plot(document_freq, textbook, color='red',\n",
    "     lw=lw, label='textbook')\n",
    "plt.plot(document_freq, smooth_idf_false, color='green',\n",
    "     lw=lw, label='smooth_idf_false')\n",
    "\n",
    "plt.xlabel('document frequency')\n",
    "plt.ylabel('inverse document frequency')\n",
    "plt.title('IDF')\n",
    "plt.legend(loc=\"upper right\")\n",
    "plt.show()\n"
   ]
  },
  {
   "cell_type": "code",
   "execution_count": 61,
   "metadata": {
    "collapsed": false,
    "slideshow": {
     "slide_type": "subslide"
    }
   },
   "outputs": [],
   "source": [
    "NORM = None #turn on normalization flag\n",
    "SMOOTH_IDF = True #prvents division by zero errors\n",
    "SUBLINEAR_IDF = True #replace TF with 1 + log(TF)\n",
    "USE_IDF = True #flag to control whether to use TFIDF\n",
    "\n",
    "transformer = TfidfTransformer(norm = NORM,smooth_idf = SMOOTH_IDF,sublinear_tf = True)"
   ]
  },
  {
   "cell_type": "code",
   "execution_count": 62,
   "metadata": {
    "collapsed": false,
    "slideshow": {
     "slide_type": "subslide"
    }
   },
   "outputs": [
    {
     "name": "stdout",
     "output_type": "stream",
     "text": [
      "Time Elapsed: 13.39s\n"
     ]
    }
   ],
   "source": [
    "#get the bag-of-words from the vectorizer and\n",
    "#then use TFIDF to weight the tokens found throughout the text \n",
    "start_time = time.time()\n",
    "train_bag_of_words = vectorizer.fit_transform( train_corpus ) \n",
    "test_bag_of_words = vectorizer.transform( test_processed_corpus )\n",
    "if USE_IDF:\n",
    "    train_tfidf = transformer.fit_transform(train_bag_of_words)\n",
    "    test_tfidf = transformer.transform(test_bag_of_words)\n",
    "features = vectorizer.get_feature_names()\n",
    "print('Time Elapsed: {0:.2f}s'.format(\n",
    "        time.time()-start_time))"
   ]
  },
  {
   "cell_type": "markdown",
   "metadata": {
    "slideshow": {
     "slide_type": "subslide"
    }
   },
   "source": [
    "### Activity 2: Words are *Just Too Long*\n",
    "\n",
    "**20 mins**\n",
    "\n",
    "In text analysis, words are frequently **stemmed** or **lemmatized** in order to reduce the size of the vocubalary and treat words with similar semantic meaning as the same word. Stemming consists of removing parts of words to create a stem. For example, the word tokens `eat, eating, eatery, eaten, eater` would all be stemmed to the word `eat`. The CountVectorizer provides an easy way incorporate stemming into preprocessing via the *tokenizer* parameter which takes a function handle as an argument. For this activity, create a function to pass to the [CountVectorizer](http://scikit-learn.org/stable/modules/generated/sklearn.feature_extraction.text.CountVectorizer.html) that will stem all words in your corpora. Use the CountVectorizer with this function as an argument to preprocess the corpus (this may take some time). Store the result in a variable called `stemmed_corpus`. Below is an example of a stemmer from the nltk toolkit that will be helpful.  "
   ]
  },
  {
   "cell_type": "code",
   "execution_count": 63,
   "metadata": {
    "collapsed": false,
    "slideshow": {
     "slide_type": "fragment"
    }
   },
   "outputs": [
    {
     "data": {
      "text/plain": [
       "'eat'"
      ]
     },
     "execution_count": 63,
     "metadata": {},
     "output_type": "execute_result"
    }
   ],
   "source": [
    "stemmer = SnowballStemmer(\"english\")\n",
    "x = 'eating'\n",
    "stemmer.stem(x)"
   ]
  },
  {
   "cell_type": "code",
   "execution_count": 64,
   "metadata": {
    "collapsed": false,
    "slideshow": {
     "slide_type": "fragment"
    }
   },
   "outputs": [
    {
     "name": "stdout",
     "output_type": "stream",
     "text": [
      "Time Elapsed: 12.03s\n"
     ]
    }
   ],
   "source": [
    "# ANSWER \n",
    "def tokenize_and_stem(comment, stemmer = stemmer):\n",
    "    \"\"\"\n",
    "    Takes a reddit comment and stemmer as input\n",
    "    and returns a list of stemmed words\n",
    "    \n",
    "    params: \n",
    "        str comment: comment to stem \n",
    "        nltk.stemmer stemmer: nltk stemmer object \n",
    "        \n",
    "    rtype: ls[str]\n",
    "    \"\"\"\n",
    "    stemmed_comment = [stemmer.stem(word) for word in comment]\n",
    "    return stemmed_comment\n",
    "    \n",
    "vectorizer_stem = CountVectorizer(analyzer=ANALYZER,\n",
    "                            tokenizer=tokenize_and_stem, # alternatively tokenize_and_stem but it will be slower \n",
    "                            ngram_range=NGRAM_RANGE,\n",
    "                            stop_words = stopwords.words('english'),\n",
    "                            strip_accents=STRIP_ACCENTS,\n",
    "                            min_df = MIN_DF,\n",
    "                            max_df = MAX_DF)\n",
    "\n",
    "start_time = time.time()\n",
    "train_bag_of_words_stem = vectorizer.fit_transform( train_corpus ) \n",
    "test_bag_of_words_stem = vectorizer.transform( test_corpus )\n",
    "if USE_IDF:\n",
    "    train_tfidf_stem = transformer.fit_transform(train_bag_of_words)\n",
    "    test_tfidf_stem = transformer.transform(test_bag_of_words)\n",
    "features_stem = vectorizer.get_feature_names()\n",
    "print('Time Elapsed: {0:.2f}s'.format(\n",
    "        time.time()-start_time))"
   ]
  },
  {
   "cell_type": "code",
   "execution_count": 65,
   "metadata": {
    "collapsed": false,
    "slideshow": {
     "slide_type": "notes"
    }
   },
   "outputs": [],
   "source": [
    "#relabel our labels as a 0 or 1\n",
    "# depression corresponds to a 1 \n",
    "le = preprocessing.LabelEncoder() \n",
    "le.fit(subreddit_id)\n",
    "subreddit_id_binary = le.transform(subreddit_id)"
   ]
  },
  {
   "cell_type": "markdown",
   "metadata": {
    "slideshow": {
     "slide_type": "subslide"
    }
   },
   "source": [
    "## Fit and Evaluate a Supervised Model\n",
    "\n",
    "**Fit** \n",
    "We will fit a regularized logistic regression model that takes a comment as input and produces a subreddit classification (/r/SuicideWatch or /r/depression) as output. \n",
    "\n",
    "### Regularized Logistic Regression \n",
    "\n",
    "Regularized logistic regression solves the following optimization problem:\n",
    "\n",
    "$$ \\min_{\\bf w}{\\frac{1}{2}||{\\bf w}||_d + C \\sum_{i=1}^{N}{\\textrm{log}(1+e^{−{y_i}{\\bf w}^{T}x_i})} }$$\n",
    "\n",
    "where $(x_i, y_i)$ are the features and label for the $i$th datapoint, $\\bf w$ is a vector of model coefficients (or weights), $C$ is a regularization parameter, and $d$ specifies a norm (usually l1 or l2). The l1 norm will force coefficients that are not useful for class dicrimination to zero. The loss function $\\textrm{log}(1+e^{−{y_i}{\\bf w}^{T}x_i})$ is derived from a probabilistic model and is referred to as the logistic loss.  \n"
   ]
  },
  {
   "cell_type": "code",
   "execution_count": 66,
   "metadata": {
    "collapsed": true,
    "slideshow": {
     "slide_type": "subslide"
    }
   },
   "outputs": [],
   "source": [
    "# Fit a regularized logistic regression model  \n",
    "clf = LogisticRegression(penalty='l2')\n",
    "mdl = clf.fit(train_tfidf, \n",
    "              subreddit_id_binary[train_idx])\n",
    "y_score = mdl.predict_proba( test_tfidf )"
   ]
  },
  {
   "cell_type": "markdown",
   "metadata": {
    "slideshow": {
     "slide_type": "subslide"
    }
   },
   "source": [
    "\n",
    "### Evaluate\n",
    "To evalute how our classifer performed we plot the Receiver Operating Characteristic (ROC) curve. The ROC curve is a way of lookin at overall classifier performance. For each test comment, the classifier produces a score indicating how confident the classifier is that the comment was posted in the depression subreddit. In order to produce classifications from these scores, we need to set a threshold above which a score is converted into a positive classificaiton. The ROC curve plots the false positive and true positive rate for every possible threshold we could set. We find the Area Under the Curve (AUC) which ranges from 0.5 (chance) to 1 (perfect prediction). The dashed line plots chance ROC."
   ]
  },
  {
   "cell_type": "code",
   "execution_count": 67,
   "metadata": {
    "collapsed": false,
    "slideshow": {
     "slide_type": "fragment"
    }
   },
   "outputs": [
    {
     "data": {
      "image/png": "[encoded data removed]",
      "text/plain": [
       "<matplotlib.figure.Figure at 0x10b1ffa58>"
      ]
     },
     "metadata": {},
     "output_type": "display_data"
    }
   ],
   "source": [
    "plot_roc(subreddit_id_binary[test_idx], y_score[:,1])"
   ]
  },
  {
   "cell_type": "markdown",
   "metadata": {
    "collapsed": true,
    "slideshow": {
     "slide_type": "subslide"
    }
   },
   "source": [
    "## Feature Importance\n",
    "\n",
    "### Activity 3: \n",
    "\n",
    "**20mins** \n",
    "\n",
    "To understand what the model is doing, we want to see which features make the model more likely to classify a comment as a certain class. The CountVectorizer provides a list of features (using the `get_feature_names()` method) and model coefficients can be found in using the `coef_` method. For this activity, make a sorted list or dictionary of features and their importances (i.e., the corresponding coefficient value). Print the 5 most important features for classifying a comment as each of our class labels, SuicideWatch and depression. \n",
    "\n",
    "Note, this is pretty easy since we are using Logistic Regression. Feature importance may require more complicated analysis for other methods. "
   ]
  },
  {
   "cell_type": "code",
   "execution_count": 68,
   "metadata": {
    "collapsed": false,
    "slideshow": {
     "slide_type": "fragment"
    }
   },
   "outputs": [
    {
     "name": "stdout",
     "output_type": "stream",
     "text": [
      "SuicideWatch:  ['lg', 'esteem', 'www reddit', 'https www', 'www youtube']\n",
      "depression:  ['youtube com', 'reddit com', 'depression', 'self esteem', 'productive']\n"
     ]
    }
   ],
   "source": [
    "# ANSWER \n",
    "coef = mdl.coef_.ravel()\n",
    "\n",
    "dict_feature_importances = dict( zip(features, coef) )\n",
    "orddict_feature_importances = OrderedDict( \n",
    "                                sorted(dict_feature_importances.items(), key=lambda x: x[1]) )\n",
    "                                # lambda is an anonymous function. in this case, we take the first \n",
    "                                # element of each item of the dictionary as the key to sort by\n",
    "        \n",
    "\n",
    "ls_sorted_features  = list(orddict_feature_importances.keys())\n",
    "\n",
    "num_features = 5\n",
    "suicidewatch_features = ls_sorted_features[:5] #SuicideWatch\n",
    "depression_features = ls_sorted_features[-5:] #depression\n",
    "print('SuicideWatch: ',suicidewatch_features)\n",
    "print('depression: ', depression_features[::-1])"
   ]
  },
  {
   "cell_type": "markdown",
   "metadata": {
    "slideshow": {
     "slide_type": "subslide"
    }
   },
   "source": [
    "## Examine Confident Predictions \n",
    "\n",
    "We want to see which comments the model scores as highly probable to belong to either class. This step can help to look for patterns in model classification and to check for any obvious errors. The predict probability refers to the probablity of a comment belonging to the depression subreddit. Therefore, comments belonging to the SucideWatch subreddit will have a low probablity.\n",
    "\n"
   ]
  },
  {
   "cell_type": "code",
   "execution_count": 69,
   "metadata": {
    "collapsed": false,
    "slideshow": {
     "slide_type": "fragment"
    }
   },
   "outputs": [],
   "source": [
    "# maybe do something with this crazy indexing: this is python not C!\n",
    "num_comments = 5\n",
    "subreddit0_comment_idx = y_score[:,1].argsort()[:num_comments] #SuicideWatch\n",
    "subreddit1_comment_idx = y_score[:,1].argsort()[-num_comments:] #depression\n",
    "\n",
    "# convert back to the indices of the original dataset\n",
    "top_comments_testing_set_idx = np.concatenate([subreddit0_comment_idx, \n",
    "                                               subreddit1_comment_idx])\n"
   ]
  },
  {
   "cell_type": "code",
   "execution_count": 70,
   "metadata": {
    "collapsed": false,
    "slideshow": {
     "slide_type": "subslide"
    }
   },
   "outputs": [
    {
     "name": "stdout",
     "output_type": "stream",
     "text": [
      "SuicideWatch:0.00021399175338538608\n",
      "---\n",
      "LOL wow...you actually searched that for me. \n",
      "\n",
      "Hmmm...I wouldn't know how to start. I would appreciate a nudge in the right direction though! I REALLY would like to do something like that to maybe help people out. My T even said that once I am more stable for a while that I should go do work advocating for people with mental health issues and maybe go around to schools and such to be sort of a motivational speaker and educator about mental illness--all told from the perspective of someone with severe depression, borderline personality disorder, and anorexia. Interesting...I think a blog or even a vlog would be a good start.\n",
      "\n",
      "&lt;3 I am feeling FANTASTIC right now and I want to share all the love I have in my heart with each person who is still hurting here tonight. I have been in your shoes, and I wouldn't be surprised if I find myself there again (again, just being real), so I understand and I have a lot of compassion and empathy for all of you.\n",
      "\n",
      "My T challenged me today, and maybe this would be a good question to ask everyone:\n",
      "\n",
      "He said \"Why is it that you can have so much compassion and empathy for everyone else (he knows I post here because I was honest with him that I had been still having a lot of thoughts and ideations and he is fine with that) but you can't have compassion and empathy for yourself?\n",
      "\n",
      "What a great question. I have to chew on that one tonight a little and see if I can't come up with an answer. Anyone else have any thoughts about themselves in regards to having compassion and empathy for others but not yourself? \n",
      "\n",
      "I don't mind if you hijack my thread. Please do...I want to hear from you. I don't mind listening to your stories. :) I am really interested in thoughts from the community on this one.\n",
      "\n",
      "Ta for now...going to check back in later. My video awaits. :)\n",
      "\n",
      "(YES...I am STILL procrastinating dang it!!)\n",
      "\n",
      "~LG\n",
      "===\n",
      "SuicideWatch:0.0007878345514254026\n",
      "---\n",
      ":) I am actually doing FANTASTIC tonight! I just posted if you wanna have a look. :)\n",
      "\n",
      "How are YOU doing?\n",
      "\n",
      "SMILE!!!\n",
      "\n",
      "~LG\n",
      "===\n",
      "SuicideWatch:0.0008365994882207714\n",
      "---\n",
      "Thanks everyone, I guess. I was stopped yet again (this time before I could even start) by my kids needing this, and this, and that. I know what you will all say, so save it. :( I am not looking for sympathy anymore (I was in the beginning, but now...I didn't even want to come here and reply because I don't want to waste any more of your time here)...I am making an outright promise. I wish I had a garage so I could just go out that way. That sounds like the BEST way ever to die...just drift off to eternal sleep on an odorless, colorless, tasteless gas. I don't have a garage though. We have street-parking or we use our tiny driveway if someone is in our spot, which happens a lot. \n",
      "\n",
      "I will exist no more. Don't cry for me all...especially you KG. I read your messages. I cried a bit thinking about how you were so lost and that night how we all were so concerned about you. I couldn't sleep at all that night and I tossed and turned as I worried about if you were alive or dead. Don't cry for me, though. I have had a long enough life on this planet and it is just time for me to go. When the pain outweighs the good, then it is time to let go of this life and go on to whatever lies beyond. I am not scared...well...maybe a little. I know that my kids will go on and change the world, and it will be up to them now to make a future for themselves and their future families. I read ALL of your messages, and they all made me tear up and cry.\n",
      "\n",
      "I will live on within each of them. I will be that snowbird outside the window on a cold February morning...I will be the hot sun in the middle of July...I will be the rain and the snow, and the wind that whips along the streets and howls through the pine trees. I will be that train whistle the kids hear, signalling a load coming into the city. I will be the grass under their feet. I will be here with them. Always. \n",
      "\n",
      "I will be here with you guys too. I will be that anonymous poster who can't live anymore...but then finds the strength to go on. I will be those words each of you type on the screen--words that seemingly come out of nowhere and make someone feel better. I will be each teardrop and each smile...I will be every cut that someone makes on their body, and every pill of medication that someone takes to feel better.\n",
      "\n",
      "I will be.\n",
      "\n",
      "Thanks all. I will prepare and sometime soon...just slip off into oblivion.\n",
      "\n",
      "~LG\n",
      "\n",
      "===\n",
      "SuicideWatch:0.002601239155180692\n",
      "---\n",
      "Hey OP, just letting you know I'm here, so I'll just carry over what you posted in your last post over here. I'll respond to that a little later, please give me a little moment. \n",
      "\n",
      "&gt; Original Post:\n",
      "This is my little way of venting and hopefully making myself feel better. Sort of my way of telling the whole world how I feel but not necessarily anyone will read it, if that makes sense. Well it does to me. The best way to describe it is that I prefer to have it here on reddit with the possibility of someone reading it than on microsoft word where I know no one will read it. I'm also typing what I feel none of this is planned so if it seems all over the place this is why. Like I said I just wrote this in attempt to make myself feel better. I'm tired and it's 5:51 am as im writing this so that explains any grammatical errors. Feel free to leave responses. I don't care. If I'm breaking any rules I'd greatly appreciate a PM mods, so I can edit it or if I have to copy it so I can post it somewhere else. Anyway....\n",
      "\n",
      "&gt; In short I want to die. That's it really. I just want to stop living. Not because I'm depressed from sadness, but because I'm tired. I'm only 19 years old and I feel like I'm 80. In high school teachers, counselors, etc. always use to ask my peers and I where we saw ourselves in ten years. I never knew the answer. I still don't. I can't picture my life in 10 years, or 5 years, or even next year. I hope I'm dead. Earlier I said I'm not depressed. That's not entirely true. Let me explain. I don't want to do anything with my life. The thought of going to college and having a career saddens me. Even the thought of having a simple job saddens me. The thought of interacting with strangers frightens me. The thought of living saddens me. I'm scum. I have the possibility to do anything with my life, and I don't have a hard life. My parent's didn't hit me. They didn't divorce. I have wonderful brothers and sisters, and yet I still feel this way. If I had the opportunity to not exist and somehow give my position to somebody who has had a hard life and suffered to them I would because at least they'd do something with it. I'd do it in a heartbeat. This is what depresses me. I am the definition of scum. I shouldn't be depressed, but I am. I don't feel like I deserve to be depressed but I am. And I hate myself even more because I am. I hold a small grudge towards my parents for bringing me into this world. I often find myself at night wishing they never met. Wishing I was never born. The thought of me not existing brings me such joy. But sadly I exist so the next best thing is death. And I would of killed myself by now but the thought of pain stops me. I'm too scared. Death is the only thing I want in life and once again the only person stopping me is me. I'm my own worst enemy. Sometimes I wonder if that's why I wanna kill myself. If somehow by committing suicide, I have killed the person who's made me feel the way I feel. I haven't told anyone the way I feel. No friends or family. I often joke to my friends about suicide but I'm positive they think I'm joking and have no idea how badly I want to die. This one time my friend casually told me at a party that he was kind of depressed, and he was describing exactly how I felt, and what did I do? I basically told him to shut up because no one wanted to hear that. I don't know why I told him that. I wonder if it was because he described my feelings and I felt like I couldn't accept it at the time. I regret it everyday of my life. It's another reason why I hate myself. My friend didn't commit suicide, and we've hung out since then, but he's never talked about it again and I haven't asked him. I'm not even good enough to be his friend. I've never felt connected to my family. At least not enough to ever tell them my feelings. I feel like my brothers and sisters were made for each other, if that makes sense. Like when you learn that they're related you think \"yeah, that makes sense\" but me, not so much. I'm nothing like them. We don't like the same things, and our personalities are so different that when we get together, like at a family gathering, I find that I don't talk to them much. and when we do they generally ask how's it going and I just say \"fine\". I've felt so lonely my entire life. Ever since I was a child. I've never had a girlfriend and at this point I don't even want one because I'm worried if I start dating someone and I tell her how I feel that she'll feel like she now has to stay in the relationship so I don't commit suicide. I often day dream of hanging out with this chick I had a crush on in one of my high school classes. We both love reggae music and we'd listen to it in class every now and then. I kind of gave signals that I was interested, but she never did anything. When I was attending community college she had the professor I had before me, and we'd talk for a few minutes. The first couple times was just catching up cause we didn't see each other for a while, and after that it was just me asking what we did in class. Now that I've dropped out of college I still think about her. I've even had dreams about her where we were just hanging out. I don't think that's healthy. I think I love her, but at the same time I just think I feel this way because I feel shitty. But when I dream of her I don't hurt so bad. But I'm just her friend, and I think I'm ok with that but it still hurts because she'll never know how I feel, but at the same time I know she doesn't feel the same. At this point I feel like I'm carrying a heavy weight and it just gets heavier and heavier. But I keep carrying it, and I want to drop it. But somehow I put a smile on my face, not because I'm happy but because the thought of losing this weight makes me laugh and the thought of me killing myself makes me laugh, because I know I'll carry it forever and I know I won't ever have the balls to kill myself, so I feel I'll always feel this way, but who knows. To me death sounds good all the time so maybe when I'm at my breaking point I'll do it. I have a lot more to say, but at this point I can't really think of a reason to keep going.\n",
      "===\n",
      "SuicideWatch:0.002648786639303404\n",
      "---\n",
      "It sounds like you're exhausted on many levels and are losing hope or have lost hope. I'm so sorry. \n",
      "\n",
      "For what it's worth, it's striking that you give equal weight in your post to your personal struggles and your existential despair at the state of the world. That's pretty remarkable - it speaks to your empathy. You are not worthless. I think that you want to help people. You say that you don't even know why you try - but it sounds like you do know. You care about the world so much that it hurts. Helping people gives life meaning, right? And sometimes jerks may deny that or try to take that from you, but we all have to fight them. \n",
      "\n",
      "I know that I can't imagine the added pain of being trans in a hostile world, though some of this, I get. I'm queer too and not in a good situation right now and it sounds like you've got something eating disordered type stuff going on - that certainly makes the world a harder place to live in. There is help out there though. Personally, I found support groups where people help me and I help them and they make my life not just survivable, but meaningful. Those may not be for everyone, but please don't stop believing that you deserve help. You are worth it and I'll be thinking about you.\n",
      "===\n",
      "depression:0.999964380296143\n",
      "---\n",
      "Sure! I'm taking 50mg of sertraline which is a fairly low dose. I started out at 25mg, they increased me to 50mg and I started seeing improvements. I started on medication and decided to stick with it because I wanted to pass my semester. I had previously dropped out of school and I really wanted to finish my degree. I experience a lot of classroom anxiety so I would avoid going to class. On the sertraline, boom, anxiety in the classroom gone. It took me about 3 months to get to that point - so give your medication time to work.\n",
      "\n",
      "I had no weight gain on the medication at all. In fact, it has probably helped my eating habits because I used to binge eat when I was very depressed. I have since stopped doing that. \n",
      "\n",
      "The side effects I do experience are issues acheiving orgasm. Possible TMI but last time I attempted an orgasm it took me 45 minutes! I still experience sexual satisfaction with my partner but I have just accepted that it will be more difficult for me now. I also experienced mild nausea when I first started taking the pills but that went away within a week. \n",
      "\n",
      "My advice - stick with it. SSRIs need a few months to kick in. But they gave me that little boost. I still struggle with depression - it isn't a magic cure all - but it seriously helped me. Go with what your doctor recommends. Good luck!\n",
      "===\n",
      "depression:0.9999792223876417\n",
      "---\n",
      "As the other commenter said, it works differently for everyone.\n",
      "\n",
      "That being said, it is a perfectly good med. AFAIK research hasn't shown it to be any better or any worse than other antidepressants. I own quite a few psychopharmacology books and one of them says that virtually all antidepressants have a 68% response rate (in other words, 2 out of 3 people who take it will respond in some way). I also recall reading about something called \"the rule of thirds\": this refers to how in clinical studies for a particular antidepressant, the pattern tends to be that 1/3 of patients will go into partial remission (i.e., they are almost completely better but have residual symptoms), 1/3 will go into full remission, and 1/3 will not show any response.\n",
      "\n",
      "Celexa (citalopram) is a very commonly used antidepressant. It's an SSRI (selective serotonin reuptake inhibitor), which is a safe and pretty effective class of meds. SSRIs are commonly used because they don't cause side effects as much or as severely as other types of antidepressants like tricyclics (TCAs) or monoamine oxidase inhibitors (MAOIs).\n",
      "\n",
      "If you'd like to read more about Celexa, I would recommend looking at this site: http://cdn.neiglobal.com/content/pg/live/citalopram.pdf\n",
      "\n",
      "That site has the same info that is in the book my doctor uses for prescribing info (it's called Stahl's Essential Psychopharmacology: The Prescriber's Guide). It explains what it's used for, how it works, notable side effects, how it causes side effects, what to do about side effects, best augmenting agents, dosing, best/worse candidates for taking this med, etc.\n",
      "\n",
      "Good luck!\n",
      "===\n",
      "depression:0.9999920510933308\n",
      "---\n",
      "Hi, I am not actually diagnosed with depression, sometimes I think it may be the case hence why I am browsing this subreddit, but I love the hiphops so I figured I would share with you.  Im not to familiar with Yelawolf, but that song you posted was pretty good.\n",
      "\n",
      "The song that usually sticks with me when it comes to songs about depression is Illogic's \"Hate is a Puddle.\"  I spent many times teary eyed listening to this song, it definitely hit a spot within my brain.  A choice quote, although the whole song is quotable.  Alot of other Illogic songs are real nice to.\n",
      "\n",
      "\"Cause inside he fights feelings that he was a mistake by God\n",
      "I see his confusion and self-deception\n",
      "Questions of relevance and intelligence\n",
      "He holds an illusion of self-acceptance\n",
      "That he shows to those outside lookin in\"\n",
      "\n",
      "https://www.youtube.com/watch?v=ICB-TbY96_8\n",
      "\n",
      "It was kind of a weird time to be a hiphop fan, that grew up with hiphop in the mid to late 90s, in the early 2000s.  Towards the end of the 90s early 2000s, Mase and Puffy and other terrible rappers seemed to be almost all you would hear.  Thanks to the internet I discovered underground hiphop.  The stuff that you would not see on Yo MTV Raps or BET.  Looking back alot of the stuff that I thought was deep and better than the mainstream hiphop did not hold up well (chalk it up to my late teens early 20s trying to be \"cool\" by not listening to any of that popular shit).  But there was still some decent stuff being done during the time, alot of the underground people's were trying to hide their lack of rapping ability/ear for beats with the fact that poured their hearts into their lyrics.  Sage Francis is one of those artists, alot of his stuff does not really hold up for me now a days, but one of his strongest songs that I feel still holds up is \"Inherited Scars.\"  Deals with his sister revealing that she cuts herself to him (dont know if it is a true story), doesnt deal with depression directly, but deals with mental health.\n",
      "\n",
      "https://www.youtube.com/watch?v=9VL0mB8ILeo\n",
      "\n",
      "Years later Sage Francis came out with his song \"The Best of Times.\"  Sage Francis was one of those \"deep\" early 2000s rappers who put out some stuff that held up and some other stuff that was kind of a \"this wasnt really that good.\"  But he did make stuff that seems to stick with me when it comes to songs I would like to listen to when I am not feeling the happiness of the world. \"The Best of Times\" is about loneliness, sadness, awkwardness but also about maybe things might be ok.\n",
      "\n",
      "https://www.youtube.com/watch?v=VA8hzUDXvtk\n",
      "\n",
      "Murs has been doing his thing since the late 90s, he has made alot of songs/albums, again some dont always hold up today, but alot of that has to do with the recording of the albums.  Recorded on a low technology/money so they can be kind of hard to listen to as the quality is not great.  His song \"Varsity Blues\" is more about getting older, but I can see some parallels between his lyrics that he uses to describe getting older and some of the symptoms some people experience with depression.  \n",
      "\n",
      "https://www.youtube.com/watch?v=36HPOA4mN8U\n",
      "\n",
      "My favorite producer to emerge in the last decade Apollo Brown got together with two emcees who werent really known to me, and I am not sure if either of them had a huge following before this album, but the 3 of them came together to produce my 2014 album of the year.  The Ugly Heroes album is an ode to the working man/woman in modern America.  While no songs directly deal with depression, the issue of depression is sprinkled throughout the album.  The double burdens of being part of the working poor and depression heavily influences the lyrics through this album.  The lyrics are backed up by some stellar production, seriously Apollo Brown is one of the greatest hiphop producers of all time.  I listen to this album alot.  \"Desperate\" starts the album off so that you know what you are about to get into, the despair and hopelessness so many in modern society feel yet usually keep to themselves.\n",
      "\n",
      "Verbal Kent - \n",
      "\"I'm in my flat flat broke, last smoke\n",
      "The voice in the back of my mind sighs have hope\n",
      "I have rope, I could end it all feelin' that\n",
      "Local rapper found hanging from a ceiling fan\n",
      "That would be the easy way out though\n",
      "But what would that amount to apart from a outro?\"\n",
      "\n",
      "https://www.youtube.com/watch?v=xxXzkm67yPw\n",
      "\n",
      "\"Long Drive Home\" continues the theme of the downtrodden working man.  Although this album's theme is depressing and dark, listening to this album makes me feel good, it might be the production or it might be the way the emcees were able to capture many of the feelings I have but cant put into such words.  Maybe its because \"every good hero need a theme song.\"\n",
      "\n",
      "Red Pill -\n",
      "\"These student loans, this stupid phones\n",
      "I rarely even answer, peoples wonder what I do at home\n",
      "I sit around with Captain, eat and drink a lot\n",
      "Cause I don't like to think a lot\n",
      "Cause when I think a tend to get myself in trouble\n",
      "My blood pressure doubles\n",
      "An anxiety is coupled\n",
      "With not so subtle hint to try to tell me\n",
      "What I'm doing isn't healthy\n",
      "When people try to help\n",
      "I just tell them \"go to hell\"\n",
      "Let me worry about myself\"\n",
      "\n",
      "https://www.youtube.com/watch?v=wuxysQ-qCAI\n",
      "\n",
      "In the weird early days of aughts there came a group Cunninlynguists, with a young producer name Kno.  The Cunninlynguists are a very capable group (check out all of their stuff, their album Dirty Acres is one of my favorite albums) but their standout is the production from Kno.  Over the years both the rappers and producer grew and got better at their craft.  Kno decided to work on his solo album with a theme.  The theme of course was death.  Now it may not seem that an album about death would be something you would want to listen to when you are depressed, but there is a beauty in it.  For an album about death there is a surprising amount of positivity sprinkled in the lyrics.  Maybe its just the excellent beats Kno crafted but there is something comforting to me about listening to this album about the cousin to sleep.\n",
      "\n",
      "Deacon -\n",
      "\"(They told me) not to fear living for eternity\n",
      "But, not even Heaven seemed pleasant it was burning me\n",
      "Raised with peasants in the crescents we were shadows\n",
      "When reality television was watching adults\n",
      "And, throughout the comedy was drama and alot of pain\n",
      "And that sentence it would run on 'til the comma came\n",
      "Until the eulogy and usually my mama sang\n",
      "About the pheasants and presence we no longer claim\n",
      "(they told me) that Heaven is forever\n",
      "But at times I'd find myself thinking I'd rather never\n",
      "Lived, I mean, my life was like a dream\n",
      "I had everything I wanted but, that ain't all it seems\"\n",
      "\n",
      "https://www.youtube.com/watch?v=1HeikQGmcpM\n",
      "\n",
      "As a little off topic, since you are familiar with Eminem, I was wondering if you were familiar with fellow Detroit emcee Royce Da 5'9, thats on a few of Em's songs.  He released an album with one of the greatest hiphop producers of all time DJ Premier a few months back.  May end up my album of the year.\n",
      "\n",
      "https://www.youtube.com/watch?v=zRZDVhs9xWc\n",
      "\n",
      "I hope this post maybe gives you more music to help you \"get past shit.\"  I am not sure why I was compelled to write this post the way I did, but maybe at the very least you find some more hiphop you like.  \n",
      "\n",
      "TLDR;  This post is long, sorry.  \n",
      "\n",
      "  .  \n",
      "\n",
      "\n",
      "\n",
      "\n",
      "\n",
      "\n",
      "\n",
      "\n",
      "\n",
      "\n",
      "\n",
      "\n",
      "\n",
      "\n",
      "===\n",
      "SuicideWatch:0.999995901304597\n",
      "---\n",
      "##Looking for help?\n",
      "\n",
      "Mid twenties paedophile here.\n",
      "\n",
      "There **are** ethical options:\n",
      "- - -\n",
      "\n",
      "##Therapy &amp; Social Support\n",
      "\n",
      "[Various therapies](http://en.wikipedia.org/wiki/Sex_offender#Therapies) have been shown to reduce (often drastically) the instance of re-offense for sex offenders and (in my opinion) there is no reason or evidence to suggest it would be any different for those with difficult/perilous attractions, paedophilic or otherwise who haven't committed a crime.\n",
      "\n",
      "There are support groups for innocent paedophiles seeking to avoid dangerous or criminal behaviour, some being run by other self-titled \"[Virtuous Pedophiles](http://en.wikipedia.org/wiki/Virtuous_Pedophiles)\" and others by community outreach type groups like \"[Circles of Support and Accountability](http://en.wikipedia.org/wiki/Circles_of_Support_and_Accountability)\" and \"[B4U-ACT](http://www.b4u-act.org)\".\n",
      "\n",
      "\"[Stop It Now](http://www.stopitnow.org)\" is a good resource for survivors and reporting crimes in a general sense but also has [a page](http://www.stopitnow.org/treatment-resources-adults-risk-abuse-and-who-have-abused-0) dedicated specifically to helping us find help.\n",
      "\n",
      "On Reddit there's /r/pedtalk, /r/pedohelp , /r/pedophilia and the generic abuse prevention sub /r/abuseinterrupted that I've found or been referred to so far.\n",
      "\n",
      "In addition to such support, actual psychological treatment in the form of [behaviour modification](https://en.wikipedia.org/wiki/Behavior_modification) (whether through [operant conditioning](http://en.wikipedia.org/wiki/Operant_conditioning) or [respondent conditioning](http://en.wikipedia.org/wiki/Respondent_conditioning) including the ethically controversial [aversion therapy](http://en.wikipedia.org/wiki/Aversion_therapy)) has some substantial positive effect.\n",
      "- - -\n",
      "\n",
      "##Pharmaceutical Aid\n",
      "\n",
      "There is also [chemical castration](http://en.wikipedia.org/wiki/Chemical_castration) which attempts to reduce risk by lessening or eliminating sex drive entirely with varied (though often positive) results.\n",
      "\n",
      "Additionally, several other prescription medications (such as anti-depressants for example) list reduced or eliminated libido as a side effect (some without the more distressing side effects of standard chemical castration drugs) the use of which could allow someone to seek medication without \"outing\" themselves under the guise of someone suffering from something like depression, which is so common as to draw little or no attention, and has the side benefit of reducing the depression that often accompanies low libido and the social isolation associated with having a sexual identity that is incompatible with ethical sexual expression.\n",
      "\n",
      "I'm not certain which work on women but men at least should (very cautiously) research:\n",
      "\n",
      "**Antacids** (famotidine, ranitidine) can cause erectile dysfunction.\n",
      "\n",
      "**Anti-anxiety drugs** (alprazolam, clonazepam, lorazepam, diazepam) may result in lower libido, delayed ejaculation, and erectile dysfunction.\n",
      "\n",
      "**Antidepressants** (selective serotonin reuptake inhibitors [SSRIs], serotonin-norepinephrine reuptake inhibitor [SNRIs], monoamine oxidase inhibitors [MAOIs], tricyclic antidepressants [TCAs]) can lower libido and cause erectile dysfunction, delayed ejaculation, and sometimes painful ejaculation.\n",
      "\n",
      "**Antifungal drugs** (ketoconazole) can lower libido and cause erectile dysfunction.\n",
      "\n",
      "**Antipsychotics** (haloperidol, risperidone, fluphenazine, quetiapine, olanzapine, ziprasidone, clozapine) can result in lower libido, erectile dysfunction, and difficulty ejaculating.\n",
      "\n",
      "**Blood pressure medication** (beta-blockers, antiarrhythmic drugs, diuretics) can cause low libido, erectile dysfunction, and delayed ejaculation.\n",
      "\n",
      "**Cholesterol-lowering drugs** (statins, fibrates) can cause sexual side effects like low libido, and erectile dysfunction since cholesterol is needed to produce testosterone.\n",
      "\n",
      "**Chemotherapy drugs** can cause low libido and ejaculatory problems.\n",
      "\n",
      "**Prostate drugs** (finasteride, prazosin, tamsulosin) can cause erectile dysfunction. Terazosin may result in priapism. Anti-androgen drugs used to treat prostate cancer can also cause side effects because they are made to lower testosterone.\n",
      "- - -\n",
      "##Other Info\n",
      "\n",
      "**Additional Sources:** [I'm a Paedophile. Over ten years since my release without hurting anyone](http://www.reddit.com/r/IAmA/comments/1kpw5g/iama_paedophile_who_has_been_inactive_since_my/).\n",
      "\n",
      "**Other things I've found personally helpful in understanding and regulating my own behaviour in no particular order.**\n",
      "\n",
      "[Cognitive Biases](https://en.wikipedia.org/wiki/List_of_cognitive_biases) are what our minds do to protect our opinions from being challenged.\n",
      "\n",
      "[Logical Fallacies](https://en.wikipedia.org/wiki/List_of_logical_fallacies) are the failures of reasoning that we use intentionally or accidentally to prop up ill-thought-out positions.\n",
      "\n",
      "[YouAreNotSoSmart](http://youarenotsosmart.com/) is a site that has articles on some of each group above.\n",
      "\n",
      "[Mental Disorder.](https://en.wikipedia.org/wiki/Mental_illness) Focus less on these as directly indicative of a mental disorder and more on the potential for someone's brain/mind to just fail to function in some fashion. Understanding this can give you the will to recognize when yours might do the same even if you don't have some specific illness.\n",
      "\n",
      "[Maslow's Hierarchy of needs](https://en.wikipedia.org/wiki/Maslows_hierarchy_of_needs) is a good framework from which to build understanding of your own needs and to strive for their responsible fulfillment and to help others do the same for themselves.\n",
      "\n",
      "[Mindfulness Meditation](http://marc.ucla.edu/) is a particular type of meditation that eschews the metaphysical bullshit in favor of common, secular practices and scientifically studied and evidenced medical and psychological benefits.\n",
      "\n",
      "[Here](http://marc.ucla.edu/body.cfm?id=22) are some links to guided mindfulness meditation sessions from the study of it at UCLA.\n",
      "\n",
      "[TheraminTrees](https://www.youtube.com/user/TheraminTrees) is a YouTube channel that makes some pretty interesting videos about thought, faith, ethics and such. I should warn you it is from a quite secular viewpoint which may be unsettling to you if you are religious.\n",
      "\n",
      "[QualiaSoup](https://www.youtube.com/user/QualiaSoup) is quite similar and works frequently with TheraminTrees.\n",
      "\n",
      "QualiaSoup's [video on a logical basis for morality](https://www.youtube.com/watch?v=T7xt5LtgsxQ&amp;list=SP0EFCB22DFCD4F2E7) is quite helpful in divorcing the notion of morality from your own personal feelings as is [Sam Harris' TED talk on the subject](https://www.youtube.com/watch?v=Hj9oB4zpHww).\n",
      "\n",
      "I'd also recommend Sam's video on [free will](https://www.youtube.com/watch?v=pCofmZlC72g) as it outlines some pretty interesting points.\n",
      "\n",
      "[Phil Hellenes](https://www.youtube.com/user/philhellenes) has some food for thought/secular inspirational videos and is well worth checking out.\n",
      "\n",
      "[This](http://youtu.be/0qDtHdloK44) is a poem titled \"Shake The Dust\" written and performed by \"Anis Mojgani\" at the 2010 \"Heavy and Light\" concert/poetry slam hosted by the suicide/self-harm prevention advocacy group \"To Write Love On Her Arms\" that I've found particularly empowering when I'm struggling.\n",
      "- - -\n",
      "\n",
      "Once again, I derive a lot of my positions from very secular sources (because they're equally available to anyone regardless of belief system) so if you're religious they might put you off a bit.\n",
      "\n",
      "Just remember: You're not alone, you're not evil and you're not doomed.\n",
      "\n",
      "We're all here for you so talk to us.\n",
      "===\n",
      "depression:0.9999991147342128\n",
      "---\n",
      "Nothing is wrong with you.  *hug*  You're just one of us!\n",
      "\n",
      "You don't have a perfect life;  you're afflicted with depression.  If you and I were born naturally happy people, we'd be barely affected by a lousy life situation.  Man, wouldn't that be nice?\n",
      "\n",
      "But depression doesn't much care how good our life is.  My absolute worst year happened when my life was \"perfect\"...on paper.  Still sucked. So so so much.\n",
      "\n",
      "Eek!  Did you decide by yourself to stop taking antidepressants or did you talk to a doctor?  I understand the \"gray\" feeling can be really unpleasant, but maybe you would have better luck trying a different AD med.\n",
      "\n",
      "The guilt is the worst part of depression. Feeling bad about feeling bad:  it's a cycle that so many of us get stuck in.  Do you like logic?  I love logic, so recognizing that guilt is a completely illogical emotion helped me better identify and deal with it.  I'm not guilt free but at least when it hits me, I can take a step back from it and say \"This is stupid but I'm feeling it and that's okay and it's still stupid.\"\n",
      "\n",
      "Is it going to get better?  It did for me. I don't think we ever \"beat\" depression, but I've kept mine well under control for seven years now.  For me, exercise is key.  When I hit rock bottom nine years ago, I set a solid goal to do a triathlon like I always wanted. Crossing that finish line...man, I get goosebumps right now thinking about it. Antidepressants got me through the absolute worst of times, and some major life changes (job, significant other)  got me out of a really bad rut as well.  \n",
      "\n",
      "As for your significant other, it's too bad he doesn't understand.  I've learned that I can't really have deep relationships with people who don't understand depression at all; they're just insensitive about it, and sometimes I find their take on happiness to be pretty painfully simple.  That said, he might still be able to be a great partner to you.  Does he add more good to your life than bad?  Also, he doesn't have to know what to say if you tell him what support you need. My significant other knows when I'm having a down day (which I always recognize could be the start of a slipper slope), he should encourage me to go for a walk somewhere beautiful, and then cook me a healthy meal we can eat while watching comedy.  No real, deep conversational words of wisdom required;  just the anti-depression algorithm I've developed for myself:  exercise, healthy food, and comedy.  Maybe you can develop your own algorithm?\n",
      "\n",
      "I'll repeat: there's nothing wrong with you. *super hug* \n",
      "===\n"
     ]
    }
   ],
   "source": [
    "# these are the 5 comments the model is most sure of \n",
    "for i in top_comments_testing_set_idx:\n",
    "    print(\n",
    "        u\"\"\"{}:{}\\n---\\n{}\\n===\"\"\".format(test_subreddit_id[i],\n",
    "                                          y_score[i,1],\n",
    "                                          test_corpus[i]))"
   ]
  },
  {
   "cell_type": "markdown",
   "metadata": {
    "slideshow": {
     "slide_type": "fragment"
    }
   },
   "source": [
    "As can be seen from the comments for the three highest probablities for SucideWatch and depression, the classifier does a good job. Note the last entry in the list of SuicideWatch top comments is miscategorized. This is most likely due to references to depression, depression medication, and psychological treatment. "
   ]
  },
  {
   "cell_type": "code",
   "execution_count": 71,
   "metadata": {
    "collapsed": false
   },
   "outputs": [
    {
     "name": "stdout",
     "output_type": "stream",
     "text": [
      "3.111460864\n"
     ]
    }
   ],
   "source": [
    "# clear some memory \n",
    "train_corpus = None\n",
    "test_corpus = None\n",
    "\n",
    "print_memory() # prints memory usage in Gb"
   ]
  },
  {
   "cell_type": "markdown",
   "metadata": {
    "slideshow": {
     "slide_type": "slide"
    }
   },
   "source": [
    "# Comment Similarity and Clustering: Unsupervised Learning\n",
    "\n",
    "The first step in grouping documents is to define a measure of similarity between documents. A common measure of similarity for non-text data is euclidean distance. However the euclidean distance between document-term vectors ignore the length of the document. For example, if document one consists of a single sentence and document two consists of that same sentence repeated multiple times, the euclidean distance will be nonzero. To overcome this issue documents are often compared using cosine similarity, which measures the angle between two count vectors. \n",
    "\n",
    "### Cosine Similarity \n",
    "\n",
    "The cosine similarity between two vectors ${\\bf x}$ and ${\\bf y}$ is defined as: \n",
    "\n",
    "$$\\textrm{cos}({\\bf x},{\\bf y}) = \\frac{{\\bf x} \\bullet {\\bf y}}{||\\bf x|| \\; || \\bf y ||}$$. \n",
    "\n",
    "The common conceptual interpretations of the cosine similarity is the angle between two vectors. In text analysis each document is represented as a point in a $V$-dimensional, where $V$ is the size of the vocabulary. Thus by normalizing we are looking at the percent of a document that each word compromises instead of the raw counts of word tokens. \n",
    "\n",
    "\n",
    "Below is an example illustrating why we use cosine distance. The example computes the euclidean and cosine distances between repeated sentences. \n",
    "\n",
    "Return to [TOC](#Table-of-Contents)"
   ]
  },
  {
   "cell_type": "code",
   "execution_count": 72,
   "metadata": {
    "collapsed": false,
    "slideshow": {
     "slide_type": "subslide"
    }
   },
   "outputs": [
    {
     "name": "stdout",
     "output_type": "stream",
     "text": [
      "Euclidean Distance\n",
      " [[ 0.    2.83  5.66]\n",
      " [ 2.83  0.    2.83]\n",
      " [ 5.66  2.83  0.  ]]\n",
      "\n",
      "Cosine Distance\n",
      " [[ 0.  0.  0.]\n",
      " [ 0.  0.  0.]\n",
      " [ 0.  0. -0.]]\n"
     ]
    }
   ],
   "source": [
    "sentences = ['The girl went to the store', \n",
    "             'The girl went to the store. The girl went to the store',\n",
    "             'The girl went to the store. The girl went to the store. The girl went to the store']\n",
    "\n",
    "vectorizer_sim = CountVectorizer(analyzer=ANALYZER,\n",
    "                            tokenizer=None, # alternatively tokenize_and_stem but it will be slower \n",
    "                            ngram_range=(0,1)\n",
    "                            )\n",
    "\n",
    "sentence_count = vectorizer_sim.fit_transform( sentences ) \n",
    "\n",
    "\n",
    "euclidean_distance = euclidean_distances(sentence_count, Y = None)# sentence_count, Y=None, dense_output=True, 'l2')\n",
    "cosine_distance = cosine_distances(sentence_count, Y=None )\n",
    "\n",
    "print(\"Euclidean Distance\\n\", euclidean_distance.round(2))\n",
    "print(\"\\nCosine Distance\\n\", cosine_distance.round(2))"
   ]
  },
  {
   "cell_type": "code",
   "execution_count": 73,
   "metadata": {
    "collapsed": false,
    "slideshow": {
     "slide_type": "subslide"
    }
   },
   "outputs": [],
   "source": [
    "# define count vectorizer for clustering \n",
    "#MIN_DF = 0.001\n",
    "#MAX_DF = 0.8\n",
    "vectorizer_clust = CountVectorizer(analyzer=ANALYZER,\n",
    "                            tokenizer=None, # alternatively tokenize_and_stem but it will be slower \n",
    "                            ngram_range=NGRAM_RANGE,\n",
    "                            stop_words = stopwords.words('english'),\n",
    "                            strip_accents=STRIP_ACCENTS,\n",
    "                            min_df = MIN_DF,\n",
    "                            max_df = MAX_DF)\n",
    "\n",
    "num_comments = 1000\n",
    "bag_of_words_clust = vectorizer_clust.fit_transform( processed_corpus[0:(num_comments-1)] ) \n",
    "processed_corpus_clust = processed_corpus[0:(num_comments-1)]\n",
    "corpus_clust = corpus[0:(num_comments-1)]\n",
    "\n"
   ]
  },
  {
   "cell_type": "code",
   "execution_count": 74,
   "metadata": {
    "collapsed": false
   },
   "outputs": [],
   "source": [
    "# #del corpus_clust[396]\n",
    "# def delete_row_csr(mat, i):\n",
    "#     \"\"\"\n",
    "#     Function to remove a row from a scipy.sparse.csr_matrix. \n",
    "#     Taken from \n",
    "#     http://stackoverflow.com/questions/13077527/is-there-a-numpy-delete-equivalent-for-sparse-matrices\n",
    "    \n",
    "#     params: \n",
    "#         scipy.sparse.csr_matrix mat\n",
    "#         int i: row to delete \n",
    "#     \"\"\"\n",
    "#     if not isinstance(mat, scipy.sparse.csr_matrix):\n",
    "#         raise ValueError(\"works only for CSR format -- use .tocsr() first\")\n",
    "#     n = mat.indptr[i+1] - mat.indptr[i]\n",
    "#     if n > 0:\n",
    "#         mat.data[mat.indptr[i]:-n] = mat.data[mat.indptr[i+1]:]\n",
    "#         mat.data = mat.data[:-n]\n",
    "#         mat.indices[mat.indptr[i]:-n] = mat.indices[mat.indptr[i+1]:]\n",
    "#         mat.indices = mat.indices[:-n]\n",
    "#     mat.indptr[i:-1] = mat.indptr[i+1:]\n",
    "#     mat.indptr[i:] -= n\n",
    "#     mat.indptr = mat.indptr[:-1]\n",
    "#     mat._shape = (mat._shape[0]-1, mat._shape[1])\n",
    "    \n",
    "# corpus_clust = np.delete(corpus_clust, 396)\n",
    "# processed_corpus_clust = np.delete(corpus_clust, 396)\n",
    "# delete_row_csr(bag_of_words_clust, 396)"
   ]
  },
  {
   "cell_type": "markdown",
   "metadata": {},
   "source": [
    "## Agglomerative Clustering \n",
    "\n",
    "The idea behind agglomerative clustering is to cluster nearby data points together in a bottom up fashion. Suppose we have $n$ data points $\\{x_1, ..., x_N\\}$. First, we pre-compute the similarity between all data points using our choice of distance metric (affinity in sci-kit learn). We start with a collection of clusters $C$ that contains $N$ singleton clusters (cluster $c_i = {x_i}$). We repeat the following process until we have $K$ clusters: \n",
    "\n",
    "1. Find the closest pair of clusters ( $\\min_{i,j} D(c_i, c_j)$ ). $D$ depends on the similarity values between each element of each cluster.     \n",
    "2. Add a new cluster $c_{i+j}$ to collection $C$ such that $c_{i+j}= c_i \\cup c_j$.    \n",
    "3. Remove clusters $c_i$ and $c_j$ from $C$.    \n",
    "\n",
    "The distance $D$ is defined between clusters. The following distances are supported in sci-kit learn: \n",
    "\n",
    "* The *ward distance* minimizes the variance of the clusters being merged. I.e., it computes the sum of squares error. \n",
    "* The *average* distance uses the average of the distances of each observation of the two sets.\n",
    "* The *complete or maximum* distance uses the maximum distances between all observations of the two sets.\n",
    "\n",
    "\n",
    "\\* Material is from this [tutorial](https://www.youtube.com/watch?v=XJ3194AmH40). "
   ]
  },
  {
   "cell_type": "code",
   "execution_count": 75,
   "metadata": {
    "collapsed": false,
    "slideshow": {
     "slide_type": "fragment"
    }
   },
   "outputs": [],
   "source": [
    "cluster = AgglomerativeClustering(n_clusters = 4, affinity=\"cosine\", linkage =\"average\")\n",
    "cluster.fit(bag_of_words_clust.toarray())\n",
    "labels = cluster.labels_\n",
    "\n",
    "label_counter = Counter(labels)"
   ]
  },
  {
   "cell_type": "markdown",
   "metadata": {
    "slideshow": {
     "slide_type": "subslide"
    }
   },
   "source": [
    "### Activity 4: Cosine Deception \n",
    "**20 mins**\n",
    "\n",
    "Use the code above to find clusters in the data using [Agglomerative Clusting](http://scikit-learn.org/stable/modules/generated/sklearn.cluster.AgglomerativeClustering.html). Examine the comments that are assigned to each cluster using the function `examine_comment_labels` defined below. Notice that the comments in Group 0 are all short comments. Wasn't the point of using cosine distance to prevent short comments from being similar?  \n",
    "\n",
    "See if you can figure out why these comments are being grouped together. What are some ways to fix this error? \n",
    "\n",
    "**Hint**: look at the comments after converting them into bags of words. "
   ]
  },
  {
   "cell_type": "code",
   "execution_count": 76,
   "metadata": {
    "collapsed": false,
    "slideshow": {
     "slide_type": "fragment"
    }
   },
   "outputs": [
    {
     "name": "stdout",
     "output_type": "stream",
     "text": [
      "Counter({1: 997, 0: 1, 3: 1})\n",
      "False\n",
      "\n",
      "-------Group0-------\n",
      "\n",
      "\n",
      "Comment 396: Why are you doing this to yourself? \n",
      "\n",
      "\n",
      "-------Group1-------\n",
      "\n",
      "\n",
      "Comment 0: Systems of living have been built around us to make us miserable.  Idk where you are but if you can.  Go shooting.   Trust me on this. Something about shooting guns helps with that feeling.  \n",
      "\n",
      "Comment 1: Just logged back onto my alt. Thank you. That means a lot to me, I know I'm late and all but ... thanks.\n",
      "\n",
      "Comment 2: Hey, do you know what it is that makes you feel such hatred towards these things? Does the violence make your thoughts go in an unwanted direction? And when you say these things make them bad people, do you mean you think your friends are bad people for enjoying the shows/games, or that the people who make them are bad? It sounds like it could easily be a depression thing tbh.\n",
      "\n",
      "Comment 3: Right there with you. National merit scholar now failing classes. Gpa from 3.7 to 2.5. Depression is a bitch. You just have to find what works for you study wise. For me, empty classrooms help. Space and isolation. You have to be strict about setting study days. It's incredibly difficult and I'm nowhere near succeeding, but it's given me some improvement.  Do it for yourself, not your family. \n",
      "\n",
      "\n",
      "-------Group3-------\n",
      "\n",
      "\n",
      "Comment 261: prohibition of pornography generally increases incidence of rape\n",
      "\n"
     ]
    }
   ],
   "source": [
    "def examine_comment_labels(num_comments_to_view, label_counter, corpus_clust, num_comments):\n",
    "    \"\"\"\n",
    "    Function that prints comments and their cluster labels. The function can print\n",
    "    the raw comments, processed comments, or bag of words. \n",
    "    \n",
    "    params: \n",
    "        int num_comments_to_view: the number of comments to view for \n",
    "            each group\n",
    "        Counter label_counter: contains the cluster labels for each item \n",
    "            in the dataset\n",
    "        numpy.ndarray or scipy.sparse.csr.csr_matrix corpus: the corpus \n",
    "            processed corpus, or bag of words representation of our data \n",
    "        int num_comments: number of comments contained in corpus\n",
    "    \"\"\"\n",
    "    for key, value in label_counter.items():\n",
    "        count = 0\n",
    "        print(\"\\n-------Group{}-------\\n\\n\".format(key))\n",
    "        for i in range(0, num_comments-1):\n",
    "            if (labels[i] == key) & (count < num_comments_to_view):\n",
    "                print(\"Comment {0}: {1}\\n\".format(i, corpus_clust[i]))\n",
    "                #print(\"Comment {0}: {1}\\n\".format(i, processed_corpus[i]))\n",
    "                count += 1\n",
    "\n",
    "                \n",
    "# examine the comments that fall in each group\n",
    "# what defines each group?\n",
    "print(label_counter)\n",
    "num_comments_to_view = 4\n",
    "print('prohibition' in stopwords.words('english'))\n",
    "examine_comment_labels(num_comments_to_view, label_counter, corpus_clust, num_comments-1)\n",
    "\n",
    "\n"
   ]
  },
  {
   "cell_type": "code",
   "execution_count": 77,
   "metadata": {
    "collapsed": false,
    "slideshow": {
     "slide_type": "skip"
    }
   },
   "outputs": [],
   "source": [
    "# clear memory \n",
    "corpus = None\n",
    "processed_corpus = None\n",
    "test_processed_corpus = None"
   ]
  },
  {
   "cell_type": "markdown",
   "metadata": {
    "slideshow": {
     "slide_type": "slide"
    }
   },
   "source": [
    "# Topic Modeling: Dimensionality Reduction\n",
    "\n",
    "In this portion of the tutorial we will be extracting topics in the form of commonly co-occuring words from the corpus of data. A topic model is a generative model of document creation used for automatic summarization of text into topics, or mixtures of words. While many variants exist (e.g., supervised, unsupervised, dynamic, hierarchical, structural), this tutorial will cover the standard topic model. The standard topic model makes three assumptions: \n",
    "\n",
    "- Bag-of-words: semantic meaning can be extracted from word co-occurance\n",
    "- Dimensionality reduction is essential to understanding semantic information \n",
    "- Topics (lower dimensional units) can be expressed as a probability distribution over words \n",
    "\n",
    "\n",
    "<img src=\"figs/topic_model.png\" style=\"width :85%; height: 85%\"/>\n",
    "\n",
    "\n",
    "Return to [TOC](#Table-of-Contents)"
   ]
  },
  {
   "cell_type": "markdown",
   "metadata": {
    "slideshow": {
     "slide_type": "subslide"
    }
   },
   "source": [
    "## Topic Model IO\n",
    "\n",
    "### Input     \n",
    "\n",
    "Document term count matrix    \n",
    "\n",
    "### Output \n",
    "\n",
    "**Topics**--the probability of each word being expressed in a given topic    \n",
    "**Document Mixtures**--the probability of each topic being expressed in a document  \n",
    "\n",
    "<img src=\"figs/topic_model_io.png\" style=\"width:85%; height:85%\"/>\n"
   ]
  },
  {
   "cell_type": "markdown",
   "metadata": {
    "slideshow": {
     "slide_type": "subslide"
    }
   },
   "source": [
    "## Example Topics \n",
    "\n",
    "<img src=\"figs/example_topics.png\" style=\"width:85%; height:85%\"/>\n",
    "\n",
    "\\* These topics were extracted from a *supervised* topic model. In this case, the topics correspond to each subreddit. "
   ]
  },
  {
   "cell_type": "markdown",
   "metadata": {
    "slideshow": {
     "slide_type": "subslide"
    }
   },
   "source": [
    "## Load and Preprocess Reddit Data"
   ]
  },
  {
   "cell_type": "code",
   "execution_count": 78,
   "metadata": {
    "collapsed": false,
    "slideshow": {
     "slide_type": "fragment"
    }
   },
   "outputs": [
    {
     "name": "stdout",
     "output_type": "stream",
     "text": [
      "Loading takes 4.061205s\n"
     ]
    }
   ],
   "source": [
    "start = time.time()\n",
    "corpus_all, subreddit_id_all = load_reddit('./data/RC_2015-05.json',MIN_CHAR=250)\n",
    "end = time.time()\n",
    "print('Loading takes {0:2f}s'.format(end-start))"
   ]
  },
  {
   "cell_type": "code",
   "execution_count": 79,
   "metadata": {
    "collapsed": false,
    "slideshow": {
     "slide_type": "fragment"
    }
   },
   "outputs": [],
   "source": [
    "# parameters for vectorizer \n",
    "ANALYZER = \"word\" # unit of features are single words rather then phrases of words \n",
    "STRIP_ACCENTS = 'unicode' \n",
    "TOKENIZER = None\n",
    "NGRAM_RANGE = (0,1) # Range for n-grams \n",
    "MIN_DF = 10/len(corpus_all) # Exclude words that are contained in less that x percent of documents \n",
    "MAX_DF = 0.9  # Exclude words that are contained in more than x percent of documents \n",
    "\n",
    "vectorizer = CountVectorizer(analyzer=ANALYZER,\n",
    "                            tokenizer=None, # alternatively tokenize_and_stem but it will be slower \n",
    "                            ngram_range=NGRAM_RANGE,\n",
    "                            stop_words = stopwords.words('english'),\n",
    "                            strip_accents=STRIP_ACCENTS,\n",
    "                            min_df = MIN_DF,\n",
    "                            max_df = MAX_DF)"
   ]
  },
  {
   "cell_type": "code",
   "execution_count": 80,
   "metadata": {
    "collapsed": false,
    "slideshow": {
     "slide_type": "fragment"
    }
   },
   "outputs": [
    {
     "name": "stdout",
     "output_type": "stream",
     "text": [
      "Processing took 21.793128967285156s\n"
     ]
    }
   ],
   "source": [
    "# Get rid of punctuation and set to lowercase  \n",
    "start = time.time()\n",
    "processed_corpus_all = [ re.sub( RE_PREPROCESS, ' ', comment).lower() for comment in corpus_all]\n",
    "\n",
    "#tokenzie the words\n",
    "bag_of_words_all = vectorizer.fit_transform( processed_corpus_all ) \n",
    "end = time.time() \n",
    "#grab the features/vocabulary\n",
    "features_all = vectorizer.get_feature_names()\n",
    "print(\"Processing took {}s\".format(end - start))"
   ]
  },
  {
   "cell_type": "code",
   "execution_count": 81,
   "metadata": {
    "collapsed": false,
    "slideshow": {
     "slide_type": "fragment"
    }
   },
   "outputs": [
    {
     "name": "stdout",
     "output_type": "stream",
     "text": [
      "13832 words in vocabulary\n",
      "\n",
      "Counter({'depression': 12079, 'offmychest': 10661, 'stopdrinking': 6958, 'SuicideWatch': 6098, 'ADHD': 5674, 'GetMotivated': 4799, 'Anxiety': 4466, 'Meditation': 3608, 'stopsmoking': 1867, 'leaves': 1629, 'BPD': 1618, 'BipolarReddit': 1515, 'OpiatesRecovery': 1391, 'socialanxiety': 1221, 'StopGaming': 946, 'schizophrenia': 898, 'mentalhealth': 572, 'ptsd': 566, 'MMFB': 483, 'alcoholism': 378, 'rapecounseling': 283, 'BipolarSOs': 272, 'AlAnon': 267, 'ZenHabits': 237, 'alcoholicsanonymous': 219, 'getting_over_it': 208, 'EatingDisorders': 203, 'Anger': 165, 'selfhelp': 150, 'StopSelfHarm': 136, 'dpdr': 105, 'survivorsofabuse': 96, 'helpmecope': 45, 'AtheistTwelveSteppers': 29, 'problemgambling': 17, 'buddhistrecovery': 12, 'MaladaptiveDreaming': 9, 'PanicAttack': 8, 'psychoticreddit': 8, 'secularsobriety': 6, 'SMARTRecovery': 5, 'secondary_survivors': 5, 'hardshipmates': 4, 'PanicParty': 4, 'afterthesilence': 3, 'feelgood': 2, 'Existential_crisis': 1, 'jessiesparents': 1})\n",
      "69927\n"
     ]
    }
   ],
   "source": [
    "print(\"{} words in vocabulary\\n\".format(len(features_all)))\n",
    "\n",
    "# print subreddits and number of topics \n",
    "print(Counter(subreddit_id_all))\n",
    "print(len(subreddit_id_all))"
   ]
  },
  {
   "cell_type": "markdown",
   "metadata": {
    "slideshow": {
     "slide_type": "subslide"
    }
   },
   "source": [
    "## Fit a Topic Model\n",
    "\n",
    "To create our topics we will use Latent Dirichlet Allocation (LDA, i.e., the standard topic model). Both [scikit learn](http://scikit-learn.org/stable/modules/generated/sklearn.decomposition.LatentDirichletAllocation.html) and [gensim](https://radimrehurek.com/gensim/) provide software for fitting LDA. Both modules use [online variational inference](https://www.cs.princeton.edu/~blei/papers/HoffmanBleiBach2010b.pdf) to fit the model, but methods such as [Gibbs sampling](https://people.cs.umass.edu/~wallach/courses/s11/cmpsci791ss/readings/steyvers06probabilistic.pdf) are also popular. "
   ]
  },
  {
   "cell_type": "code",
   "execution_count": 82,
   "metadata": {
    "collapsed": false,
    "slideshow": {
     "slide_type": "fragment"
    }
   },
   "outputs": [
    {
     "name": "stdout",
     "output_type": "stream",
     "text": [
      "Processing took 442.95932483673096s\n",
      "Shape of document topic matrix: (69927, 50)\n",
      "Shape of topic word matrix: (50, 13832)\n"
     ]
    }
   ],
   "source": [
    "# Options\n",
    "N_TOPICS = 50\n",
    "N_TOP_WORDS = 10\n",
    "\n",
    "start = time.time()\n",
    "lda = LatentDirichletAllocation( n_topics = N_TOPICS )\n",
    "#lda.fit(bag_of_words_all)\n",
    "doctopic = lda.fit_transform(bag_of_words_all)\n",
    "end = time.time() \n",
    "print(\"Processing took {}s\".format(end- start)) # ~255s for ~1000 features, , ~475 for 13000\n",
    "\n",
    "print(\"Shape of document topic matrix: {}\".format(doctopic.shape))\n",
    "print(\"Shape of topic word matrix: {}\".format(lda.components_.shape))"
   ]
  },
  {
   "cell_type": "markdown",
   "metadata": {
    "slideshow": {
     "slide_type": "subslide"
    }
   },
   "source": [
    "## Display the top ten words for each topics \n",
    "\n",
    "Qualitatively examining the topic output is the most common method for assessing fit of a topic model. Ideally, most topics will be interpretable. Topic interpretability tends to increase with the number of documents used during fitting. Since this topic model is unsupervised, topic names (in this case integers $1,...,T$) are arbitrary. "
   ]
  },
  {
   "cell_type": "code",
   "execution_count": 83,
   "metadata": {
    "collapsed": false,
    "scrolled": true,
    "slideshow": {
     "slide_type": "fragment"
    }
   },
   "outputs": [
    {
     "name": "stdout",
     "output_type": "stream",
     "text": [
      "0 meditation, mind, practice, body, eat, breath, mindfulness, breathing, gym, dog\n",
      "1 mental, health, book, treatment, kill, interested, hospital, state, called, coffee\n",
      "2 quite, must, news, movie, patterns, role, chemical, hello, ice, email\n",
      "3 stay, control, hate, get, worry, goes, easier, heart, husband, definitely\n",
      "4 meds, system, response, expect, information, insurance, memory, throw, handle, usually\n",
      "5 job, work, working, success, top, position, company, business, useful, career\n",
      "6 day, time, days, get, week, first, one, like, months, much\n",
      "7 years, life, never, got, back, still, let, went, home, guess\n",
      "8 answer, question, asking, kid, putting, research, doubt, terms, clear, bring\n",
      "9 money, using, jobs, higher, eye, spending, doc, attitude, hobby, picture\n",
      "10 wonder, opposite, strange, faith, occasionally, complicated, insight, hardly, master, agreed\n",
      "11 friends, relationship, friend, love, reading, girl, true, words, meet, person\n",
      "12 honestly, yet, lose, sex, weight, knows, healthy, ex, trust, wow\n",
      "13 society, upon, law, vent, sent, statement, ignorant, fantasy, prison, presence\n",
      "14 depressed, god, anti, disease, correct, smile, motivated, religion, air, credit\n",
      "15 told, one, mom, would, said, issue, asked, put, tried, room\n",
      "16 literally, reality, minutes, sitting, hour, fight, thought, meditate, sit, meditating\n",
      "17 today, aware, bpd, cancer, tend, overwhelming, episode, paid, complex, manic\n",
      "18 stress, horrible, knowing, moved, bullshit, difference, new, differently, voice, says\n",
      "19 guy, love, women, hold, guys, men, please, woman, someone, sorry\n",
      "20 thanks, giving, experiences, helping, choice, medical, mine, keeping, perfect, dude\n",
      "21 year, half, shit, fuck, changes, death, sucks, fucking, changed, girls\n",
      "22 pain, short, term, long, certainly, option, gain, ultimately, aspect, chronic\n",
      "23 sleep, effects, worked, exercise, side, food, eating, dose, water, energy\n",
      "24 emotionally, cases, catch, source, zero, permanent, picking, perception, remain, influence\n",
      "25 kids, play, suicide, gone, happiness, phone, awesome, writing, playing, online\n",
      "26 com, http, www, amp, reddit, wiki, https, org, en, wikipedia\n",
      "27 watch, listen, music, video, youtube, fighting, rock, temporary, favorite, nights\n",
      "28 smoking, quit, smoke, addiction, steps, currently, gaming, goals, nicotine, allow\n",
      "29 big, wife, car, study, test, forever, home, incredibly, drive, near\n",
      "30 help, depression, anxiety, doctor, also, therapy, therapist, get, medication, issues\n",
      "31 game, common, program, behavior, cannot, avoid, purpose, therapists, rarely, rate\n",
      "32 self, panic, continue, abuse, tomorrow, attack, proud, attacks, dr, harm\n",
      "33 normal, im, dont, easily, inside, speak, guess, listening, nearly, thats\n",
      "34 honest, decision, house, cool, normally, provide, except, seeking, anywhere, visit\n",
      "35 link, note, studies, idk, carry, related, valuable, notes, articles, use\n",
      "36 adhd, games, brain, lack, sister, use, several, also, dopamine, environment\n",
      "37 post, meeting, sorry, disorder, definitely, based, diagnosed, op, bipolar, diagnosis\n",
      "38 thoughts, positive, negative, recovery, hang, agree, supposed, step, believe, power\n",
      "39 social, hours, morning, focus, check, clean, motivation, day, gt, begin\n",
      "40 mg, tired, take, adderall, pills, allowed, rules, per, schizophrenia, save\n",
      "41 peace, focused, cost, paying, attention, trauma, expectations, acceptance, breaks, unhealthy\n",
      "42 read, books, skills, chat, science, fairly, stuff, teach, pull, individual\n",
      "43 drinking, drink, sober, alcohol, aa, drugs, sobriety, meetings, drunk, alcoholic\n",
      "44 like, people, know, think, feel, get, things, want, really, something\n",
      "45 please, automatically, message, subreddit, action, contact, tags, questions, concerns, compose\n",
      "46 child, area, present, different, certain, looked, brain, immediately, body, part\n",
      "47 kind, totally, share, sub, internet, whenever, appointment, resources, strangers, character\n",
      "48 thank, group, support, available, across, sign, apply, quiet, breathe, powerful\n",
      "49 school, parents, college, high, class, pay, job, degree, classes, university\n"
     ]
    }
   ],
   "source": [
    "ls_keywords = []\n",
    "for i,topic in enumerate(lda.components_):\n",
    "    word_idx = np.argsort(topic)[::-1][:N_TOP_WORDS]\n",
    "    keywords = ', '.join( features_all[i] for i in word_idx)\n",
    "    ls_keywords.append(keywords)\n",
    "    print(i, keywords)\n",
    "    "
   ]
  },
  {
   "cell_type": "markdown",
   "metadata": {
    "collapsed": false,
    "slideshow": {
     "slide_type": "subslide"
    }
   },
   "source": [
    "## Most Prevalent Topic in Each Comment\n",
    "\n",
    "We will examine some of the comments and list which topic comprises the largest portion of the document. "
   ]
  },
  {
   "cell_type": "code",
   "execution_count": 84,
   "metadata": {
    "collapsed": false,
    "slideshow": {
     "slide_type": "fragment"
    }
   },
   "outputs": [
    {
     "name": "stdout",
     "output_type": "stream",
     "text": [
      "comment_id: 0 offmychest topic_id: 44 \n",
      "keywords: like, people, know, think, feel, get, things, want, really, something\n",
      "---\n",
      "It's not your \u001b[31mfault\u001b[0m don't \u001b[31mthink\u001b[0m that. \u001b[31mHey\u001b[0m if this \u001b[31mhelps\u001b[0m it does then if it doesn't \u001b[31mwell.\u001b[0m At \u001b[31mleast\u001b[0m I can \u001b[31mtalk\u001b[0m about it. I \u001b[31mshot\u001b[0m my dog. I had him for 10 years. I can home from partying and it was \u001b[31mNew\u001b[0m Years so I was \u001b[31mgoing\u001b[0m to \u001b[31mshoot\u001b[0m off my .40 so... \u001b[31mWell\u001b[0m I was loading it \u001b[31moutside\u001b[0m and I \u001b[31mshot\u001b[0m it off accidentally. \u001b[31mRight\u001b[0m into my dog. Me having about 5-7 tequila shots into me \u001b[31mthough\u001b[0m if I \u001b[31mgo\u001b[0m to sleep I \u001b[31mwould\u001b[0m wake up and he \u001b[31mwould\u001b[0m be \u001b[31mokay.\u001b[0m \u001b[31mWell\u001b[0m if I \u001b[31mcalled\u001b[0m a vet when I \u001b[31mshot\u001b[0m him I \u001b[31mcould\u001b[0m have saved him. Or at \u001b[31mleast\u001b[0m from his pain. So I woke up \u001b[31msaw\u001b[0m a \u001b[31mdead\u001b[0m dog in my yard… i cried for hours. That \u001b[31mold\u001b[0m dog \u001b[31mstill\u001b[0m had a few \u001b[31mgood\u001b[0m years in him. That was my \u001b[31mfault\u001b[0m and you sitting on a \u001b[31mlittle\u001b[0m \u001b[31mtiny\u001b[0m mouse is more \u001b[31munderstandable\u001b[0m than a \u001b[31mman\u001b[0m discharging a firearm into a shitzu. Don't \u001b[31mfeel\u001b[0m to \u001b[31mbad.\u001b[0m\n",
      "===\n",
      "comment_id: 1 offmychest topic_id: 11 \n",
      "keywords: friends, relationship, friend, love, reading, girl, true, words, meet, person\n",
      "---\n",
      "You do have a \u001b[31mvalid\u001b[0m point--I've \u001b[31malways\u001b[0m been a \u001b[31mbit\u001b[0m of a \u001b[31mbehind\u001b[0m the \u001b[31mscenes\u001b[0m \u001b[31mperson.\u001b[0m While I'm \u001b[31msuper\u001b[0m \u001b[31mbubbly\u001b[0m and extraverted \u001b[31mIRL,\u001b[0m I'm not too \u001b[31mbig\u001b[0m on \u001b[31mbringing\u001b[0m \u001b[31mmuch\u001b[0m \u001b[31mattention\u001b[0m to myself. I don't \u001b[31meven\u001b[0m have a \u001b[31mFacebook\u001b[0m because I just \u001b[31mfound\u001b[0m it so \u001b[31mweird\u001b[0m over the \u001b[31myears.\u001b[0m \u001b[31mPerhaps\u001b[0m I \u001b[31mkinda\u001b[0m \u001b[31minadvertently\u001b[0m \u001b[31mset\u001b[0m a \u001b[31mstandard\u001b[0m \u001b[31mwithout\u001b[0m \u001b[31mrealizing\u001b[0m it, and \u001b[31mreading\u001b[0m this \u001b[31mmade\u001b[0m me \u001b[31mreflect.\u001b[0m I \u001b[31mreached\u001b[0m out to some \u001b[31mpeople\u001b[0m today after \u001b[31mreading\u001b[0m this \u001b[31mlast\u001b[0m \u001b[31mnight\u001b[0m and \u001b[31mthinking\u001b[0m \u001b[31mthings\u001b[0m through. Some \u001b[31mpeople\u001b[0m are \u001b[31mstill\u001b[0m jerks--but that's just who they are and I \u001b[31mknow\u001b[0m to just \u001b[31mstay\u001b[0m \u001b[31maway\u001b[0m from them. \u001b[31mOthers\u001b[0m did \u001b[31mcare.\u001b[0m Again, my \u001b[31mfamily\u001b[0m and my \u001b[31mboyfriend's\u001b[0m (he's \u001b[31mcoming\u001b[0m with) don't \u001b[31mreally,\u001b[0m and that \u001b[31mcuts\u001b[0m \u001b[31mreal\u001b[0m \u001b[31mdeep,\u001b[0m but what are \u001b[31mya\u001b[0m \u001b[31mgonna\u001b[0m do? I do \u001b[31magree\u001b[0m with the other commenter \u001b[31mthough\u001b[0m as \u001b[31mwell.\u001b[0m I \u001b[31mthink\u001b[0m it's \u001b[31mone\u001b[0m \u001b[31mthing\u001b[0m to \u001b[31msuggest\u001b[0m \u001b[31msomething,\u001b[0m as in \u001b[31m\"Hey\u001b[0m \u001b[31mmaybe\u001b[0m we should do this \u001b[31msmall\u001b[0m \u001b[31mthing\u001b[0m Saturday for my \u001b[31mbirthday\",\u001b[0m but in my \u001b[31mexperience,\u001b[0m I've \u001b[31mknown\u001b[0m \u001b[31mway\u001b[0m too \u001b[31mmany\u001b[0m \u001b[31mpeople\u001b[0m who, when they \u001b[31msuggest\u001b[0m such \u001b[31mthings,\u001b[0m are very over the \u001b[31mtop\u001b[0m and it just \u001b[31malways\u001b[0m \u001b[31mcame\u001b[0m to me as tacky, \u001b[31mespecially\u001b[0m (to me) if they haven't \u001b[31mreally\u001b[0m \u001b[31machieved\u001b[0m \u001b[31manything.\u001b[0m\n",
      "===\n",
      "comment_id: 2 depression topic_id: 44 \n",
      "keywords: like, people, know, think, feel, get, things, want, really, something\n",
      "---\n",
      "\u001b[31mHey,\u001b[0m do you \u001b[31mknow\u001b[0m what it is that \u001b[31mmakes\u001b[0m you \u001b[31mfeel\u001b[0m such hatred towards these \u001b[31mthings?\u001b[0m Does the violence \u001b[31mmake\u001b[0m your thoughts \u001b[31mgo\u001b[0m in an unwanted direction? And when you \u001b[31msay\u001b[0m these \u001b[31mthings\u001b[0m \u001b[31mmake\u001b[0m them \u001b[31mbad\u001b[0m \u001b[31mpeople,\u001b[0m do you \u001b[31mmean\u001b[0m you \u001b[31mthink\u001b[0m your \u001b[31mfriends\u001b[0m are \u001b[31mbad\u001b[0m \u001b[31mpeople\u001b[0m for enjoying the shows/games, or that the \u001b[31mpeople\u001b[0m who \u001b[31mmake\u001b[0m them are \u001b[31mbad?\u001b[0m It \u001b[31msounds\u001b[0m \u001b[31mlike\u001b[0m it \u001b[31mcould\u001b[0m easily be a depression \u001b[31mthing\u001b[0m tbh.\n",
      "===\n",
      "comment_id: 3 depression topic_id: 29 \n",
      "keywords: big, wife, car, study, test, forever, home, incredibly, drive, near\n",
      "---\n",
      "\u001b[31mRight\u001b[0m there with you. \u001b[31mNational\u001b[0m \u001b[31mmerit\u001b[0m \u001b[31mscholar\u001b[0m now \u001b[31mfailing\u001b[0m classes. Gpa from 3.7 to 2.5. \u001b[31mDepression\u001b[0m is a \u001b[31mbitch.\u001b[0m You just have to \u001b[31mfind\u001b[0m what \u001b[31mworks\u001b[0m for you \u001b[31mstudy\u001b[0m \u001b[31mwise.\u001b[0m For me, \u001b[31mempty\u001b[0m classrooms \u001b[31mhelp.\u001b[0m \u001b[31mSpace\u001b[0m and \u001b[31misolation.\u001b[0m You have to be \u001b[31mstrict\u001b[0m about \u001b[31msetting\u001b[0m \u001b[31mstudy\u001b[0m \u001b[31mdays.\u001b[0m It's \u001b[31mincredibly\u001b[0m \u001b[31mdifficult\u001b[0m and I'm \u001b[31mnowhere\u001b[0m \u001b[31mnear\u001b[0m \u001b[31msucceeding,\u001b[0m but it's \u001b[31mgiven\u001b[0m me some \u001b[31mimprovement.\u001b[0m Do it for yourself, not your \u001b[31mfamily.\u001b[0m\n",
      "===\n",
      "comment_id: 4 ADHD topic_id: 31 \n",
      "keywords: game, common, program, behavior, cannot, avoid, purpose, therapists, rarely, rate\n",
      "---\n",
      "I \u001b[31mcannot\u001b[0m \u001b[31mput\u001b[0m into \u001b[31mwords\u001b[0m how \u001b[31mmuch\u001b[0m I \u001b[31mlove\u001b[0m \u001b[31mprogramming.\u001b[0m So \u001b[31mmany\u001b[0m \u001b[31mavenues\u001b[0m to \u001b[31mgo\u001b[0m down, so \u001b[31mmany\u001b[0m \u001b[31mways\u001b[0m to innovate, and the very \u001b[31mreal\u001b[0m \u001b[31mpossibility\u001b[0m of \u001b[31mchanging\u001b[0m the \u001b[31mworld\u001b[0m just by doing it a \u001b[31mlot.\u001b[0m I \u001b[31mwork\u001b[0m at a \u001b[31mweb\u001b[0m \u001b[31mdevelopment\u001b[0m \u001b[31mcompany\u001b[0m and do \u001b[31mindependent\u001b[0m \u001b[31mgame\u001b[0m \u001b[31mdesign\u001b[0m in my off \u001b[31mtime,\u001b[0m and \u001b[31mrarely\u001b[0m \u001b[31mfeel\u001b[0m burnt out. If I \u001b[31mcould\u001b[0m add an \u001b[31mextra\u001b[0m \u001b[31mday\u001b[0m to the \u001b[31mweek\u001b[0m to \u001b[31mprogram,\u001b[0m I \u001b[31mwould\u001b[0m do it \u001b[31mtwice.\u001b[0m\n",
      "===\n"
     ]
    }
   ],
   "source": [
    "p = 95 # percentile of words to highlight \n",
    "num_comments = 5\n",
    "for comment_id in range(num_comments):\n",
    "    \n",
    "    # get most prevalent topic \n",
    "    topic_id = np.argsort(doctopic[comment_id])[N_TOPICS-1]\n",
    "    \n",
    "    # find most prevalent words in the most prevalent topic\n",
    "    topic = lda.components_[topic_id]\n",
    "    feat_idx = np.argsort(topic)[::-1]\n",
    "    num_words = (topic > np.percentile(topic, p)).sum()\n",
    "    feat_idx = feat_idx[0:num_words]\n",
    "    top_features = [features_all[i] for i in feat_idx]\n",
    "    \n",
    "    # create highlighted version of the comment \n",
    "    comment_color = []\n",
    "    comment = corpus_all[comment_id].split()\n",
    "    \n",
    "    for word in comment: \n",
    "        if re.sub(RE_PREPROCESS, '', word).lower() in top_features:\n",
    "            comment_color.append('\\x1b[31m' + word + '\\x1b[0m') # makes the word print in red \n",
    "        else:\n",
    "            comment_color.append(word)\n",
    "    \n",
    "    print('comment_id:',\n",
    "          comment_id,\n",
    "          subreddit_id_all[comment_id],\n",
    "          'topic_id:',\n",
    "          topic_id,\n",
    "          '\\nkeywords:',\n",
    "           ls_keywords[topic_id])\n",
    "    print('---')\n",
    "    print(' '.join(comment_color))\n",
    "    print('===')"
   ]
  },
  {
   "cell_type": "markdown",
   "metadata": {
    "slideshow": {
     "slide_type": "subslide"
    }
   },
   "source": [
    "## Comment with Largest Proportion of Each Topic\n",
    "\n",
    "We will iterate through topics and find the comment that most expresses that topic.  "
   ]
  },
  {
   "cell_type": "code",
   "execution_count": 85,
   "metadata": {
    "collapsed": false,
    "slideshow": {
     "slide_type": "fragment"
    }
   },
   "outputs": [
    {
     "name": "stdout",
     "output_type": "stream",
     "text": [
      "comment_id: 53965 stopsmoking topic_id: 6 \n",
      "keywords: day, time, days, get, week, first, one, like, months, much\n",
      "---\n",
      "I have been \u001b[31msmoking\u001b[0m a \u001b[31mpack\u001b[0m a \u001b[31mday\u001b[0m \u001b[31msince\u001b[0m my \u001b[31mearly\u001b[0m 20s. I'm 45 now. I \u001b[31mquit\u001b[0m 309 \u001b[31mdays\u001b[0m \u001b[31mago,\u001b[0m and I will \u001b[31mnever\u001b[0m touch \u001b[31manother\u001b[0m \u001b[31mcigarette\u001b[0m again. It's been the \u001b[31mbest\u001b[0m decision in my \u001b[31mlife.\u001b[0m This sub did it for me. The short version: you're addicted to nicotine, the \u001b[31maddiction\u001b[0m is real, junkie-you will tell yourself anything to \u001b[31mget\u001b[0m \u001b[31mback\u001b[0m to \u001b[31msmoking,\u001b[0m don't do it. It \u001b[31mmay\u001b[0m seem \u001b[31mdifficult\u001b[0m now, but you basically have a nicotine hangover. It will \u001b[31mgo\u001b[0m \u001b[31maway\u001b[0m if you don't \u001b[31msmoke\u001b[0m (stay sober). It's worth it, \u001b[31msmoking\u001b[0m is silly, you don't need nicotine. The \u001b[31mlong\u001b[0m version: Here are my thoughts on \u001b[31mquitting,\u001b[0m rehashed from a post I \u001b[31mmade\u001b[0m when I was 30 \u001b[31mdays\u001b[0m in. I \u001b[31mknow\u001b[0m there are other thoughts, but these are mine. **How / when to \u001b[31mquit:**\u001b[0m * \u001b[31mQuitting\u001b[0m is easy, just \u001b[31mstop\u001b[0m \u001b[31msmoking.\u001b[0m \u001b[31mGetting\u001b[0m the nicotine out of your \u001b[31mbody\u001b[0m only takes three \u001b[31mdays.\u001b[0m * \u001b[31mCold\u001b[0m \u001b[31mturkey\u001b[0m is the \u001b[31mbest\u001b[0m \u001b[31mway\u001b[0m to \u001b[31mquit.\u001b[0m Gum, patches, ecigs, just prolong the suffering and \u001b[31mkeep\u001b[0m you addicted to, and thinking about, nicotine for a \u001b[31mlong\u001b[0m \u001b[31mtime.\u001b[0m They \u001b[31malso\u001b[0m increase the \u001b[31mchance\u001b[0m of relapse. I failed many \u001b[31mtimes\u001b[0m to \u001b[31mquit\u001b[0m using NRT. * However, \u001b[31meverything\u001b[0m is \u001b[31mbetter\u001b[0m than \u001b[31msmoking,\u001b[0m so if NRT does \u001b[31mhelp\u001b[0m you to \u001b[31mstop,\u001b[0m or if it shows you that you'll be \u001b[31mfine\u001b[0m \u001b[31mwithout\u001b[0m \u001b[31msmoking,\u001b[0m or if it will \u001b[31mhelp\u001b[0m you \u001b[31mget\u001b[0m \u001b[31mrid\u001b[0m of the \u001b[31mmental\u001b[0m \u001b[31maddiction\u001b[0m to cigarettes, you should do it. Just \u001b[31mremember\u001b[0m that if you fail to \u001b[31mquit\u001b[0m that \u001b[31mway,\u001b[0m \u001b[31mcold\u001b[0m \u001b[31mturkey\u001b[0m is always an option * Don't be afraid if you \u001b[31mquit.\u001b[0m The \u001b[31mpanic\u001b[0m is just the addict inside of you \u001b[31mgoing\u001b[0m \u001b[31mwithout\u001b[0m the nicotine. It will \u001b[31mgo\u001b[0m \u001b[31maway\u001b[0m very soon once you realize the freedom you just gained. * \u001b[31mRemember\u001b[0m that nicotine is just a poison, not a nutrient. You'll be \u001b[31mfine\u001b[0m \u001b[31mwithout\u001b[0m it. * Don't make a ritual out of your \u001b[31mquit.\u001b[0m Don't \u001b[31mset\u001b[0m a date to \u001b[31mquit,\u001b[0m just do it today. Setting a date will only give you \u001b[31mtime\u001b[0m to come up with reasons to not do it. * There's no such \u001b[31mthing\u001b[0m as a \u001b[31mbad\u001b[0m \u001b[31mtime\u001b[0m to \u001b[31mquit.\u001b[0m It doesn't exist. Now is the \u001b[31mbest\u001b[0m \u001b[31mtime.\u001b[0m Anything else is just the nicotine junkie talking. Don't let it come up with a real \u001b[31mgood\u001b[0m reason to not \u001b[31mquit,\u001b[0m or not \u001b[31mquit\u001b[0m \u001b[31mright\u001b[0m now. \u001b[31mSee\u001b[0m the junkie for who he/she is. * Have that \u001b[31mlast\u001b[0m \u001b[31msmoke\u001b[0m if you \u001b[31mwant\u001b[0m to, but realize you're not giving \u001b[31msomething\u001b[0m up of value. You're just no \u001b[31mlonger\u001b[0m systematically choking yourself. \u001b[31m**Get\u001b[0m support and track your progress** * \u001b[31mGet\u001b[0m support, and burn all bridges. \u001b[31mGet\u001b[0m a badge here, tell your story. Tell family, \u001b[31mfriends,\u001b[0m colleagues and ask for their support. Hang a X \u001b[31mdays\u001b[0m smoke-free paper on your \u001b[31mwork\u001b[0m desk. Bring cake to \u001b[31mwork\u001b[0m after being nicotine free for \u001b[31mtwo\u001b[0m \u001b[31mweeks\u001b[0m / \u001b[31mone\u001b[0m \u001b[31mmonth.\u001b[0m Tattoo your \u001b[31mquit\u001b[0m date on your forehead. * Tell the \u001b[31mpeople\u001b[0m where you buy your smokes that you have \u001b[31mquit,\u001b[0m and that under no circumstance should they sell you any more. * Download an app to \u001b[31msee\u001b[0m how many \u001b[31mdays,\u001b[0m hours, mins, and secs have \u001b[31mpassed\u001b[0m \u001b[31msince\u001b[0m your \u001b[31mlast\u001b[0m \u001b[31msmoke.\u001b[0m Track the number of cigarettes not \u001b[31msmoked,\u001b[0m and money saved. * \u001b[31mRead\u001b[0m up on health \u001b[31mbenefits\u001b[0m of not \u001b[31msmoking,\u001b[0m so you understand what to expect and when. * I \u001b[31mmade\u001b[0m a wager with \u001b[31meveryone\u001b[0m that \u001b[31mwanted\u001b[0m \u001b[31mone.\u001b[0m I will pay 10 to 1 if I \u001b[31msmoke\u001b[0m again \u001b[31mwithin\u001b[0m a year. If I do, I will loose approximately 5000 dollars. If I don't I will win 500 dollars (for charity). * I mean you're \u001b[31mserious\u001b[0m about \u001b[31mquitting,\u001b[0m \u001b[31mright?\u001b[0m You're not just \u001b[31m\"trying\u001b[0m to \u001b[31mquit\",\u001b[0m but you will be a non-smoker. Decide how \u001b[31mserious\u001b[0m you are, and burn those bridges, and then nuke them to make \u001b[31msure.\u001b[0m **The detox phase** * If you \u001b[31mgo\u001b[0m \u001b[31mcold\u001b[0m \u001b[31mturkey,\u001b[0m it should only \u001b[31mlast\u001b[0m a \u001b[31mcouple\u001b[0m of \u001b[31mdays.\u001b[0m \u001b[31mFirst\u001b[0m \u001b[31mcouple\u001b[0m of \u001b[31mdays\u001b[0m can be a \u001b[31mlittle\u001b[0m annoying, but it will \u001b[31mget\u001b[0m easier very soon. * \u001b[31mCravings,\u001b[0m should you have them (I didn't this \u001b[31mtime),\u001b[0m only \u001b[31mlast\u001b[0m 3 mins max. Watch a timer on your phone if you have to. \u001b[31mEvery\u001b[0m \u001b[31mcraving\u001b[0m is a reminder of how awesome you are to have \u001b[31mstopped.\u001b[0m * Drink lots of \u001b[31mfruit\u001b[0m juice the \u001b[31mfirst\u001b[0m \u001b[31mcouple\u001b[0m of \u001b[31mdays,\u001b[0m breathe. You \u001b[31mmay\u001b[0m \u001b[31mfeel\u001b[0m down a \u001b[31mlittle.\u001b[0m Don't let it \u001b[31mget\u001b[0m to you. * Don't \u001b[31mkeep\u001b[0m cigarettes around, and \u001b[31mavoid\u001b[0m smokers and \u001b[31mstrong\u001b[0m triggers \u001b[31mlike\u001b[0m alcohol until you \u001b[31mknow\u001b[0m you'll be \u001b[31mfine\u001b[0m around them. * Don't listen to yourself talking you into \u001b[31msmoking\u001b[0m again. This includes: \"now is not a \u001b[31mgood\u001b[0m \u001b[31mtime\u001b[0m to \u001b[31mstop\",\u001b[0m \"it's too \u001b[31mdifficult\u001b[0m for me\", \"I can't \u001b[31mstop\u001b[0m this \u001b[31mway\",\u001b[0m \"I can just cut \u001b[31mback\u001b[0m slowly\", \"I should have just \u001b[31mone\u001b[0m to make me \u001b[31mfeel\u001b[0m \u001b[31mbetter\",\u001b[0m \"I will \u001b[31mquit\u001b[0m \u001b[31manother\u001b[0m \u001b[31mtime\".\u001b[0m \u001b[31metc.\u001b[0m Junkie alarm, typical addict behavior to \u001b[31mthink\u001b[0m \u001b[31mlike\u001b[0m that! * \u001b[31mStop\u001b[0m being a wuss, and just \u001b[31mget\u001b[0m it over with. Stay in \u001b[31mbed\u001b[0m eating ice cream if you \u001b[31mwant\u001b[0m to, but don't \u001b[31msmoke.\u001b[0m **The battle inside your \u001b[31mhead**\u001b[0m * The biggest battle is in the mind, not in the detox. Make \u001b[31msure\u001b[0m you \u001b[31mreally\u001b[0m \u001b[31mwant\u001b[0m to \u001b[31mquit\u001b[0m before you do it. Make \u001b[31msure\u001b[0m you're ready to fight the addict inside of you. * \u001b[31mKnow\u001b[0m that \u001b[31msmoking\u001b[0m is an \u001b[31maddiction\u001b[0m and not a habit. Realize that your own \u001b[31mbrain\u001b[0m is \u001b[31mtrying\u001b[0m to trick you into believing you need to, or you can, \u001b[31msmoke\u001b[0m again. * All \u001b[31mpeople\u001b[0m that \u001b[31msmoke\u001b[0m on a regular basis are nicotine junkies. \u001b[31mEven\u001b[0m those that \u001b[31msay\u001b[0m they can \u001b[31mgo\u001b[0m for \u001b[31mdays\u001b[0m \u001b[31mwithout.\u001b[0m There's no so \u001b[31mthing\u001b[0m as casual \u001b[31msmoking,\u001b[0m social \u001b[31msmoking,\u001b[0m not buying your own smokes, or just \u001b[31msmoking\u001b[0m when you drink beer. That's just the junkie talking. These \u001b[31mthings\u001b[0m aren't real, they're just excuses for \u001b[31msmoking.\u001b[0m * Understand that \u001b[31msmoking\u001b[0m brings \u001b[31mnothing\u001b[0m of value to you. It doesn't relax you, it doesn't \u001b[31mhelp\u001b[0m with concentration, it doesn't \u001b[31msmell\u001b[0m or taste \u001b[31mgood,\u001b[0m it doesn't \u001b[31meven\u001b[0m give you a \u001b[31mhigh.\u001b[0m It just fills the hole \u001b[31mleft\u001b[0m by the \u001b[31mlast\u001b[0m \u001b[31mcigarette.\u001b[0m Watch the Alan Carr video (google it). * Realize fully that you're not giving \u001b[31msomething\u001b[0m up, you're not sacrificing \u001b[31msomething\u001b[0m by not \u001b[31msmoking.\u001b[0m This is \u001b[31mimportant.\u001b[0m Don't \u001b[31mromanticize\u001b[0m the smokes, don't become sentimental about your nicotine \u001b[31maddiction.\u001b[0m That's all just typical junkie talk. * \u001b[31mRead\u001b[0m up on all \u001b[31mbenefits\u001b[0m of being a non-smoker. * Be a non-smoker, and do and \u001b[31mfeel\u001b[0m all the \u001b[31mthings\u001b[0m non-smokers do and \u001b[31mfeel.\u001b[0m Non-smokers \u001b[31mwould\u001b[0m \u001b[31mnever\u001b[0m \u001b[31mreach\u001b[0m for a \u001b[31msmoke\u001b[0m if they \u001b[31mfeel\u001b[0m \u001b[31mbad,\u001b[0m stressed, \u001b[31mgood,\u001b[0m bored. * You're a \u001b[31mnon\u001b[0m \u001b[31msmoker.\u001b[0m You have \u001b[31mreally\u001b[0m \u001b[31mstopped.\u001b[0m \u001b[31mNever\u001b[0m have that \u001b[31mfirst\u001b[0m \u001b[31mcigarette.\u001b[0m Now that you're a non-smoker, don't \u001b[31mstart\u001b[0m \u001b[31msmoking.\u001b[0m Nicotine is highly \u001b[31maddictive\u001b[0m (more so than crack and heroin), and \u001b[31mone\u001b[0m \u001b[31mcigarette\u001b[0m can/will \u001b[31mget\u001b[0m you \u001b[31mhooked\u001b[0m again. Don't make the same mistake you \u001b[31mmade\u001b[0m when you \u001b[31mfirst\u001b[0m \u001b[31mstarted.\u001b[0m * Three options: (1) \u001b[31msmoke\u001b[0m just \u001b[31mone\u001b[0m more and be a \u001b[31msmoker\u001b[0m for the rest of your live, (2) \u001b[31msmoke\u001b[0m just \u001b[31mone\u001b[0m more and \u001b[31mgo\u001b[0m through detox / \u001b[31mcravings\u001b[0m again, and (3) don't have \u001b[31meven\u001b[0m just \u001b[31mone.\u001b[0m You chose which \u001b[31mone\u001b[0m you \u001b[31mwant.\u001b[0m * When you're \u001b[31mfeeling\u001b[0m \u001b[31mgood,\u001b[0m don't become arrogant and \u001b[31mthink\u001b[0m you've \u001b[31mgot\u001b[0m this or that \u001b[31mquitting\u001b[0m is easy for you. You can't just have \u001b[31mone,\u001b[0m not \u001b[31meven\u001b[0m when you're \u001b[31mfeeling\u001b[0m you're in control, because you \u001b[31mnever\u001b[0m are with \u001b[31msomething\u001b[0m as \u001b[31maddictive\u001b[0m as nicotine. \u001b[31mRemember\u001b[0m what it was \u001b[31mlike\u001b[0m to be a junkie. Thanks all , goodbye and I hope that you all succeed and lead \u001b[31mlong,\u001b[0m happy, and healthy lives.\n",
      "===\n",
      "comment_id: 61416 depression topic_id: 25 \n",
      "keywords: kids, play, suicide, gone, happiness, phone, awesome, writing, playing, online\n",
      "---\n",
      "\u001b[31mHi,\u001b[0m I am not \u001b[31mactually\u001b[0m diagnosed with \u001b[31mdepression,\u001b[0m \u001b[31msometimes\u001b[0m I \u001b[31mthink\u001b[0m it \u001b[31mmay\u001b[0m be the case hence why I am browsing this subreddit, but I \u001b[31mlove\u001b[0m the hiphops so I figured I would share with you. \u001b[31mIm\u001b[0m not to familiar with Yelawolf, but that \u001b[31msong\u001b[0m you posted was pretty \u001b[31mgood.\u001b[0m The \u001b[31msong\u001b[0m that \u001b[31musually\u001b[0m sticks with me when it comes to songs about \u001b[31mdepression\u001b[0m is Illogic's \"Hate is a Puddle.\" I spent many \u001b[31mtimes\u001b[0m teary eyed listening to this \u001b[31msong,\u001b[0m it definitely hit a spot within my brain. A choice quote, although the whole \u001b[31msong\u001b[0m is quotable. \u001b[31mAlot\u001b[0m of other Illogic songs are \u001b[31mreal\u001b[0m \u001b[31mnice\u001b[0m to. \"Cause inside he fights \u001b[31mfeelings\u001b[0m that he was a mistake by God I \u001b[31msee\u001b[0m his confusion and self-deception Questions of relevance and intelligence He holds an illusion of self-acceptance That he shows to those outside lookin in\" https://www.youtube.com/watch?v=ICB-TbY96_8 It was kind of a weird \u001b[31mtime\u001b[0m to be a hiphop fan, that grew up with hiphop in the mid to \u001b[31mlate\u001b[0m 90s, in the \u001b[31mearly\u001b[0m 2000s. Towards the end of the 90s \u001b[31mearly\u001b[0m 2000s, Mase and Puffy and other terrible rappers \u001b[31mseemed\u001b[0m to be almost all you would hear. \u001b[31mThanks\u001b[0m to the \u001b[31minternet\u001b[0m I \u001b[31mdiscovered\u001b[0m underground hiphop. The stuff that you would not \u001b[31msee\u001b[0m on Yo MTV Raps or BET. \u001b[31mLooking\u001b[0m \u001b[31mback\u001b[0m \u001b[31malot\u001b[0m of the stuff that I thought was \u001b[31mdeep\u001b[0m and \u001b[31mbetter\u001b[0m than the mainstream hiphop did not hold up \u001b[31mwell\u001b[0m (chalk it up to my \u001b[31mlate\u001b[0m teens \u001b[31mearly\u001b[0m 20s trying to be \"cool\" by not listening to any of that popular \u001b[31mshit).\u001b[0m But there was \u001b[31mstill\u001b[0m some decent stuff being \u001b[31mdone\u001b[0m during the \u001b[31mtime,\u001b[0m \u001b[31malot\u001b[0m of the underground people's were trying to hide their lack of rapping ability/ear for \u001b[31mbeats\u001b[0m with the fact that poured their hearts into their lyrics. Sage Francis is \u001b[31mone\u001b[0m of those artists, \u001b[31malot\u001b[0m of his stuff does not \u001b[31mreally\u001b[0m hold up for me now a \u001b[31mdays,\u001b[0m but \u001b[31mone\u001b[0m of his strongest songs that I feel \u001b[31mstill\u001b[0m holds up is \"Inherited Scars.\" Deals with his sister revealing that she cuts herself to him (dont \u001b[31mknow\u001b[0m if it is a \u001b[31mtrue\u001b[0m story), doesnt \u001b[31mdeal\u001b[0m with \u001b[31mdepression\u001b[0m directly, but deals with \u001b[31mmental\u001b[0m \u001b[31mhealth.\u001b[0m https://www.youtube.com/watch?v=9VL0mB8ILeo Years later Sage Francis came out with his \u001b[31msong\u001b[0m \"The \u001b[31mBest\u001b[0m of \u001b[31mTimes.\"\u001b[0m Sage Francis was \u001b[31mone\u001b[0m of those \u001b[31m\"deep\"\u001b[0m \u001b[31mearly\u001b[0m 2000s rappers who put out some stuff that held up and some other stuff that was kind of a \"this wasnt \u001b[31mreally\u001b[0m that \u001b[31mgood.\"\u001b[0m But he did \u001b[31mmake\u001b[0m stuff that seems to stick with me when it comes to songs I would \u001b[31mlike\u001b[0m to listen to when I am not \u001b[31mfeeling\u001b[0m the \u001b[31mhappiness\u001b[0m of the \u001b[31mworld.\u001b[0m \"The \u001b[31mBest\u001b[0m of \u001b[31mTimes\"\u001b[0m is about loneliness, sadness, awkwardness but \u001b[31malso\u001b[0m about maybe \u001b[31mthings\u001b[0m might be ok. https://www.youtube.com/watch?v=VA8hzUDXvtk Murs has been doing his \u001b[31mthing\u001b[0m \u001b[31msince\u001b[0m the \u001b[31mlate\u001b[0m 90s, he has \u001b[31mmade\u001b[0m \u001b[31malot\u001b[0m of songs/albums, again some dont \u001b[31malways\u001b[0m hold up today, but \u001b[31malot\u001b[0m of that has to do with the \u001b[31mrecording\u001b[0m of the albums. Recorded on a low technology/money so they can be kind of \u001b[31mhard\u001b[0m to listen to as the quality is not \u001b[31mgreat.\u001b[0m His \u001b[31msong\u001b[0m \"Varsity Blues\" is more about \u001b[31mgetting\u001b[0m older, but I can \u001b[31msee\u001b[0m some parallels between his lyrics that he \u001b[31muses\u001b[0m to describe \u001b[31mgetting\u001b[0m older and some of the symptoms some \u001b[31mpeople\u001b[0m experience with \u001b[31mdepression.\u001b[0m https://www.youtube.com/watch?v=36HPOA4mN8U My \u001b[31mfavorite\u001b[0m producer to emerge in the \u001b[31mlast\u001b[0m decade Apollo Brown \u001b[31mgot\u001b[0m together with \u001b[31mtwo\u001b[0m emcees who werent \u001b[31mreally\u001b[0m known to me, and I am not \u001b[31msure\u001b[0m if either of them had a huge \u001b[31mfollowing\u001b[0m before this \u001b[31malbum,\u001b[0m but the 3 of them came together to produce my 2014 \u001b[31malbum\u001b[0m of the year. The Ugly Heroes \u001b[31malbum\u001b[0m is an ode to the \u001b[31mworking\u001b[0m man/woman in modern America. While no songs directly \u001b[31mdeal\u001b[0m with \u001b[31mdepression,\u001b[0m the \u001b[31missue\u001b[0m of \u001b[31mdepression\u001b[0m is sprinkled throughout the \u001b[31malbum.\u001b[0m The double burdens of being part of the \u001b[31mworking\u001b[0m poor and \u001b[31mdepression\u001b[0m heavily influences the lyrics through this \u001b[31malbum.\u001b[0m The lyrics are \u001b[31mbacked\u001b[0m up by some stellar production, seriously Apollo Brown is \u001b[31mone\u001b[0m of the greatest hiphop producers of all \u001b[31mtime.\u001b[0m I listen to this \u001b[31malbum\u001b[0m \u001b[31malot.\u001b[0m \"Desperate\" starts the \u001b[31malbum\u001b[0m off so that you \u001b[31mknow\u001b[0m what you are about to \u001b[31mget\u001b[0m into, the despair and hopelessness so many in modern society feel yet \u001b[31musually\u001b[0m \u001b[31mkeep\u001b[0m to themselves. Verbal Kent - \u001b[31m\"I'm\u001b[0m in my flat flat broke, \u001b[31mlast\u001b[0m smoke The voice in the \u001b[31mback\u001b[0m of my mind sighs have hope I have rope, I \u001b[31mcould\u001b[0m end it all feelin' that Local rapper found hanging from a ceiling fan That would be the \u001b[31measy\u001b[0m \u001b[31mway\u001b[0m out \u001b[31mthough\u001b[0m But what would that amount to apart from a outro?\" https://www.youtube.com/watch?v=xxXzkm67yPw \"Long \u001b[31mDrive\u001b[0m Home\" continues the theme of the downtrodden \u001b[31mworking\u001b[0m \u001b[31mman.\u001b[0m Although this album's theme is depressing and \u001b[31mdark,\u001b[0m listening to this \u001b[31malbum\u001b[0m makes me feel \u001b[31mgood,\u001b[0m it might be the production or it might be the \u001b[31mway\u001b[0m the emcees were \u001b[31mable\u001b[0m to capture many of the \u001b[31mfeelings\u001b[0m I have but cant put into such words. Maybe its because \u001b[31m\"every\u001b[0m \u001b[31mgood\u001b[0m hero \u001b[31mneed\u001b[0m a theme \u001b[31msong.\"\u001b[0m Red Pill - \"These student loans, this stupid phones I rarely \u001b[31meven\u001b[0m answer, peoples wonder what I do at home I sit \u001b[31maround\u001b[0m with Captain, eat and drink a \u001b[31mlot\u001b[0m Cause I don't \u001b[31mlike\u001b[0m to \u001b[31mthink\u001b[0m a \u001b[31mlot\u001b[0m Cause when I \u001b[31mthink\u001b[0m a tend to \u001b[31mget\u001b[0m myself in trouble My blood \u001b[31mpressure\u001b[0m doubles An anxiety is coupled With not so subtle hint to try to tell me What \u001b[31mI'm\u001b[0m doing isn't healthy When \u001b[31mpeople\u001b[0m try to help I just tell them \u001b[31m\"go\u001b[0m to hell\" Let me worry about myself\" https://www.youtube.com/watch?v=wuxysQ-qCAI In the weird \u001b[31mearly\u001b[0m \u001b[31mdays\u001b[0m of aughts there came a \u001b[31mgroup\u001b[0m Cunninlynguists, with a young producer \u001b[31mname\u001b[0m Kno. The Cunninlynguists are a very capable \u001b[31mgroup\u001b[0m (check out all of their stuff, their \u001b[31malbum\u001b[0m Dirty Acres is \u001b[31mone\u001b[0m of my \u001b[31mfavorite\u001b[0m albums) but their standout is the production from Kno. Over the years both the rappers and producer grew and \u001b[31mgot\u001b[0m \u001b[31mbetter\u001b[0m at their craft. Kno decided to \u001b[31mwork\u001b[0m on his solo \u001b[31malbum\u001b[0m with a theme. The theme of course was death. Now it \u001b[31mmay\u001b[0m not \u001b[31mseem\u001b[0m that an \u001b[31malbum\u001b[0m about death would be \u001b[31msomething\u001b[0m you would \u001b[31mwant\u001b[0m to listen to when you are depressed, but there is a beauty in it. For an \u001b[31malbum\u001b[0m about death there is a surprising amount of positivity sprinkled in the lyrics. Maybe its just the excellent \u001b[31mbeats\u001b[0m Kno crafted but there is \u001b[31msomething\u001b[0m comforting to me about listening to this \u001b[31malbum\u001b[0m about the cousin to sleep. Deacon - \"(They told me) not to fear \u001b[31mliving\u001b[0m for eternity But, not \u001b[31meven\u001b[0m Heaven \u001b[31mseemed\u001b[0m pleasant it was burning me Raised with peasants in the crescents we were shadows When reality television was \u001b[31mwatching\u001b[0m adults And, throughout the comedy was drama and \u001b[31malot\u001b[0m of pain And that \u001b[31msentence\u001b[0m it would run on 'til the comma came Until the eulogy and \u001b[31musually\u001b[0m my mama sang About the pheasants and presence we no longer claim (they told me) that Heaven is forever But at \u001b[31mtimes\u001b[0m I'd \u001b[31mfind\u001b[0m myself thinking I'd rather never Lived, I \u001b[31mmean,\u001b[0m my \u001b[31mlife\u001b[0m was \u001b[31mlike\u001b[0m a dream I had \u001b[31meverything\u001b[0m I wanted but, that ain't all it seems\" https://www.youtube.com/watch?v=1HeikQGmcpM As a little off topic, \u001b[31msince\u001b[0m you are familiar with Eminem, I was wondering if you were familiar with fellow Detroit emcee Royce Da 5'9, thats on a few of Em's songs. He released an \u001b[31malbum\u001b[0m with \u001b[31mone\u001b[0m of the greatest hiphop producers of all \u001b[31mtime\u001b[0m DJ Premier a few months \u001b[31mback.\u001b[0m \u001b[31mMay\u001b[0m end up my \u001b[31malbum\u001b[0m of the year. https://www.youtube.com/watch?v=zRZDVhs9xWc I hope this \u001b[31mpost\u001b[0m maybe gives you more music to help you \u001b[31m\"get\u001b[0m past \u001b[31mshit.\"\u001b[0m I am not \u001b[31msure\u001b[0m why I was compelled to \u001b[31mwrite\u001b[0m this \u001b[31mpost\u001b[0m the \u001b[31mway\u001b[0m I did, but maybe at the very least you \u001b[31mfind\u001b[0m some more hiphop you \u001b[31mlike.\u001b[0m TLDR; This \u001b[31mpost\u001b[0m is long, \u001b[31msorry.\u001b[0m .\n",
      "===\n",
      "comment_id: 53965 stopsmoking topic_id: 28 \n",
      "keywords: smoking, quit, smoke, addiction, steps, currently, gaming, goals, nicotine, allow\n",
      "---\n",
      "I have been \u001b[31msmoking\u001b[0m a pack a \u001b[31mday\u001b[0m since my early 20s. I'm 45 now. I \u001b[31mquit\u001b[0m 309 \u001b[31mdays\u001b[0m ago, and I will never touch another cigarette again. It's been the best decision in my life. This sub did it for me. The short version: you're addicted to \u001b[31mnicotine,\u001b[0m the \u001b[31maddiction\u001b[0m is real, junkie-you will tell yourself anything to get \u001b[31mback\u001b[0m to \u001b[31msmoking,\u001b[0m don't do it. It may seem difficult now, but you basically have a \u001b[31mnicotine\u001b[0m hangover. It will go away if you don't \u001b[31msmoke\u001b[0m (stay sober). It's worth it, \u001b[31msmoking\u001b[0m is silly, you don't need \u001b[31mnicotine.\u001b[0m The long version: Here are my thoughts on quitting, rehashed from a post I made when I was 30 \u001b[31mdays\u001b[0m in. I \u001b[31mknow\u001b[0m there are other thoughts, but these are mine. **How / when to \u001b[31mquit:**\u001b[0m * Quitting is easy, just stop \u001b[31msmoking.\u001b[0m \u001b[31mGetting\u001b[0m the \u001b[31mnicotine\u001b[0m out of your body only takes three \u001b[31mdays.\u001b[0m * Cold turkey is the best way to \u001b[31mquit.\u001b[0m \u001b[31mGum,\u001b[0m patches, \u001b[31mecigs,\u001b[0m just \u001b[31mprolong\u001b[0m the suffering and keep you addicted to, and thinking about, \u001b[31mnicotine\u001b[0m for a long time. They \u001b[31malso\u001b[0m increase the chance of relapse. I failed many times to \u001b[31mquit\u001b[0m using NRT. * However, everything is better than \u001b[31msmoking,\u001b[0m so if NRT does \u001b[31mhelp\u001b[0m you to stop, or if it shows you that you'll be fine without \u001b[31msmoking,\u001b[0m or if it will \u001b[31mhelp\u001b[0m you get rid of the mental \u001b[31maddiction\u001b[0m to \u001b[31mcigarettes,\u001b[0m you should do it. Just remember that if you fail to \u001b[31mquit\u001b[0m that way, cold turkey is always an option * Don't be afraid if you \u001b[31mquit.\u001b[0m The panic is just the \u001b[31maddict\u001b[0m inside of you going without the \u001b[31mnicotine.\u001b[0m It will go away very soon once you realize the freedom you just gained. * Remember that \u001b[31mnicotine\u001b[0m is just a poison, not a \u001b[31mnutrient.\u001b[0m You'll be fine without it. * Don't make a \u001b[31mritual\u001b[0m out of your \u001b[31mquit.\u001b[0m Don't \u001b[31mset\u001b[0m a date to \u001b[31mquit,\u001b[0m just do it today. Setting a date will only give you time to come up with reasons to not do it. * There's no such thing as a bad time to \u001b[31mquit.\u001b[0m It doesn't exist. Now is the best time. Anything else is just the \u001b[31mnicotine\u001b[0m junkie talking. Don't let it come up with a real good reason to not \u001b[31mquit,\u001b[0m or not \u001b[31mquit\u001b[0m right now. See the junkie for who he/she is. * Have that last \u001b[31msmoke\u001b[0m if you \u001b[31mwant\u001b[0m to, but realize you're not giving something up of value. You're just no longer \u001b[31msystematically\u001b[0m choking yourself. **Get support and \u001b[31mtrack\u001b[0m your progress** * Get support, and burn all bridges. Get a badge here, tell your story. Tell family, \u001b[31mfriends,\u001b[0m colleagues and ask for their support. Hang a X \u001b[31mdays\u001b[0m smoke-free paper on your work desk. Bring cake to work after being \u001b[31mnicotine\u001b[0m free for two weeks / one month. Tattoo your \u001b[31mquit\u001b[0m date on your forehead. * Tell the people where you buy your smokes that you have \u001b[31mquit,\u001b[0m and that under no circumstance should they sell you any more. * Download an app to see how many \u001b[31mdays,\u001b[0m hours, mins, and secs have passed since your last \u001b[31msmoke.\u001b[0m \u001b[31mTrack\u001b[0m the number of \u001b[31mcigarettes\u001b[0m not \u001b[31msmoked,\u001b[0m and money saved. * Read up on health benefits of not \u001b[31msmoking,\u001b[0m so you understand what to expect and when. * I made a wager with everyone that wanted one. I will pay 10 to 1 if I \u001b[31msmoke\u001b[0m again within a year. If I do, I will loose \u001b[31mapproximately\u001b[0m 5000 dollars. If I don't I will win 500 dollars (for charity). * I mean you're serious about quitting, right? You're not just \"trying to \u001b[31mquit\",\u001b[0m but you will be a non-smoker. \u001b[31mDecide\u001b[0m how serious you are, and burn those bridges, and then \u001b[31mnuke\u001b[0m them to make sure. **The detox phase** * If you go cold turkey, it should only last a \u001b[31mcouple\u001b[0m of \u001b[31mdays.\u001b[0m First \u001b[31mcouple\u001b[0m of \u001b[31mdays\u001b[0m can be a \u001b[31mlittle\u001b[0m annoying, but it will get easier very soon. * Cravings, should you have them (I didn't this time), only last 3 mins max. Watch a \u001b[31mtimer\u001b[0m on your phone if you have to. \u001b[31mEvery\u001b[0m craving is a reminder of how awesome you are to have stopped. * Drink lots of fruit juice the first \u001b[31mcouple\u001b[0m of \u001b[31mdays,\u001b[0m breathe. You may feel down a \u001b[31mlittle.\u001b[0m Don't let it get to you. * Don't keep \u001b[31mcigarettes\u001b[0m around, and avoid \u001b[31msmokers\u001b[0m and strong triggers \u001b[31mlike\u001b[0m alcohol until you \u001b[31mknow\u001b[0m you'll be fine around them. * Don't listen to yourself talking you into \u001b[31msmoking\u001b[0m again. This includes: \"now is not a good time to stop\", \"it's too difficult for me\", \"I can't stop this way\", \"I can just cut \u001b[31mback\u001b[0m slowly\", \"I should have just one to make me feel better\", \"I will \u001b[31mquit\u001b[0m another time\". etc. Junkie \u001b[31malarm,\u001b[0m typical \u001b[31maddict\u001b[0m behavior to think \u001b[31mlike\u001b[0m that! * Stop being a wuss, and just get it over with. Stay in bed eating ice cream if you \u001b[31mwant\u001b[0m to, but don't \u001b[31msmoke.\u001b[0m **The battle inside your head** * The biggest battle is in the mind, not in the detox. Make sure you really \u001b[31mwant\u001b[0m to \u001b[31mquit\u001b[0m before you do it. Make sure you're ready to fight the \u001b[31maddict\u001b[0m inside of you. * \u001b[31mKnow\u001b[0m that \u001b[31msmoking\u001b[0m is an \u001b[31maddiction\u001b[0m and not a \u001b[31mhabit.\u001b[0m Realize that your own brain is trying to trick you into believing you need to, or you can, \u001b[31msmoke\u001b[0m again. * All people that \u001b[31msmoke\u001b[0m on a regular basis are \u001b[31mnicotine\u001b[0m junkies. Even those that say they can go for \u001b[31mdays\u001b[0m without. There's no so thing as casual \u001b[31msmoking,\u001b[0m social \u001b[31msmoking,\u001b[0m not buying your own smokes, or just \u001b[31msmoking\u001b[0m when you drink beer. That's just the junkie talking. These things aren't real, they're just excuses for \u001b[31msmoking.\u001b[0m * Understand that \u001b[31msmoking\u001b[0m brings nothing of value to you. It doesn't relax you, it doesn't \u001b[31mhelp\u001b[0m with concentration, it doesn't smell or taste good, it doesn't even give you a high. It just fills the hole left by the last cigarette. Watch the \u001b[31mAlan\u001b[0m \u001b[31mCarr\u001b[0m video (google it). * Realize fully that you're not giving something up, you're not sacrificing something by not \u001b[31msmoking.\u001b[0m This is important. Don't romanticize the smokes, don't become \u001b[31msentimental\u001b[0m about your \u001b[31mnicotine\u001b[0m \u001b[31maddiction.\u001b[0m That's all just typical junkie talk. * Read up on all benefits of being a non-smoker. * Be a non-smoker, and do and feel all the things non-smokers do and feel. Non-smokers would never reach for a \u001b[31msmoke\u001b[0m if they feel bad, stressed, good, bored. * You're a non smoker. You have really stopped. Never have that first cigarette. Now that you're a non-smoker, don't start \u001b[31msmoking.\u001b[0m \u001b[31mNicotine\u001b[0m is highly \u001b[31maddictive\u001b[0m (more so than crack and \u001b[31mheroin),\u001b[0m and one cigarette can/will get you hooked again. Don't make the same mistake you made when you first started. * Three options: (1) \u001b[31msmoke\u001b[0m just one more and be a smoker for the rest of your live, (2) \u001b[31msmoke\u001b[0m just one more and go through detox / cravings again, and (3) don't have even just one. You chose which one you \u001b[31mwant.\u001b[0m * When you're feeling good, don't become arrogant and think you've got this or that quitting is easy for you. You can't just have one, not even when you're feeling you're in control, because you never are with something as \u001b[31maddictive\u001b[0m as \u001b[31mnicotine.\u001b[0m Remember what it was \u001b[31mlike\u001b[0m to be a junkie. Thanks all , goodbye and I hope that you all \u001b[31msucceed\u001b[0m and lead long, happy, and healthy lives.\n",
      "===\n",
      "comment_id: 642 alcoholism topic_id: 41 \n",
      "keywords: peace, focused, cost, paying, attention, trauma, expectations, acceptance, breaks, unhealthy\n",
      "---\n",
      "That's what is great about this subreddit. We don't have a lot of mobs coming in a wanting to watch the world burn. Most of the repeat participants have healthy conversations. I \u001b[31mreally\u001b[0m \u001b[31mlike\u001b[0m what you typed. You touch a couple of \u001b[31mthings\u001b[0m that a lot say and that I have said, and I \u001b[31mwant\u001b[0m to give a few \u001b[31mpoints\u001b[0m for those who may be on the \u001b[31mfence.\u001b[0m ----- AA is free, and they \u001b[31mtake\u001b[0m anonymity \u001b[31mserious.\u001b[0m So, if you are on the \u001b[31mfence\u001b[0m and you have a \u001b[31mproblem\u001b[0m with alcohol or drugs, go to a meeting on the other side of town and use a fake name. It won't \u001b[31mcost\u001b[0m you anything. Also, go to a SMART Recovery meeting. Then go to more. Each meeting and each group is different. AA has a proven track record. AA works enough that it self perpetuates, has continued to do so for 75 plus years, and continues to have \u001b[31mgroups\u001b[0m nationwide and worldwide. Sure, it isn't everything to \u001b[31meveryone,\u001b[0m but it works for some \u001b[31mpeople.\u001b[0m It works enough to continue to exist even in today's world. AA is no \u001b[31mcost\u001b[0m because it is a completely volunteer organization. \u001b[31mPeople\u001b[0m who have found AA helpful, come back. They volunteer and make themselves available to \u001b[31mpeople\u001b[0m who \u001b[31mwant\u001b[0m to \u001b[31mtry\u001b[0m \u001b[31msomething\u001b[0m different. There are thousands of \u001b[31mgroups\u001b[0m all over the world because volunteers offer their free time to help \u001b[31mpeople\u001b[0m \u001b[31mlike\u001b[0m themselves. Now. These next three \u001b[31mpoints\u001b[0m drive \u001b[31mpeople\u001b[0m nuts. Most of us cannot explain it \u001b[31mlet\u001b[0m alone understand it. 1) The Big Book, the book that AA uses to help an individual get sober, is an average self help book written by an average human. 2) AA is structured to so that average volunteers can run their \u001b[31mgroups\u001b[0m based on their average \u001b[31minterpretation\u001b[0m of that book. 3) There is no specific central governance and each group is \u001b[31mbasically\u001b[0m autonomous, volunteers running their \u001b[31mgroups\u001b[0m as \u001b[31mbest\u001b[0m as average \u001b[31mpeople\u001b[0m can: following an average book written by an average \u001b[31mperson.\u001b[0m That's the rub. Average \u001b[31mpeople\u001b[0m helping. ---- Now. I understand more than my words are showing how \u001b[31mflawed\u001b[0m AA is. Yet I do not grok how \u001b[31mpeople\u001b[0m criticize AA as they \u001b[31mwould\u001b[0m criticize an scientific knowledge based organization or system. They are totally different types of organizations. Yes. Everything has to be \u001b[31mexamined,\u001b[0m but I can rarely imagine how a close examination of AA, NA, CA, MA, \u001b[31mSA,\u001b[0m GA, OA, \u001b[31met\u001b[0m al merits \u001b[31mlengthy\u001b[0m critiques or analyses once its true nature is \u001b[31mrealized.\u001b[0m AA and all of these organizations are volunteer: volunteers of average humans. They are run by volunteer average humans. The system is based on a \u001b[31msomething\u001b[0m developed by volunteer average humans. Of \u001b[31mcourse\u001b[0m it is going to have problems.. Then AA, NA, CA, MA, \u001b[31met\u001b[0m al get criticized that they do not do more, do not lead the field, do not change fast enough, they aren't culpable, \u001b[31met\u001b[0m al. But they do all of these \u001b[31mthings.\u001b[0m They just do them as tiny independent \u001b[31mgroups.\u001b[0m AA, NA, CA, \u001b[31met\u001b[0m al. are not big organizations that \u001b[31mpeople\u001b[0m think they are. They are structured to avoid being a proactive big, national, world wide organization. And this is a common misunderstanding. Sure, there are other organizations that do those \u001b[31mthings:\u001b[0m National Council on Drugs and Alcohol and more. AA is a group name for thousands of tiny local \u001b[31mgroups.\u001b[0m Then, I get real again. This issue isn't academic or \u001b[31msomething\u001b[0m just on a chalkboard. Addiction and chemical abuse is an \u001b[31menormous\u001b[0m \u001b[31mproblem.\u001b[0m It is horribly fatal to the users and \u001b[31mpeople\u001b[0m around them. The numbers of \u001b[31mpeople\u001b[0m dying \u001b[31mevery\u001b[0m day are frigging horrible. AA and the others are trying to help. Shouldn't they get a bit of slack? I \u001b[31mmean,\u001b[0m they are no \u001b[31mcost.\u001b[0m \u001b[31mPeople\u001b[0m forget to stop and think about that. NO \u001b[31mCOST.\u001b[0m All of the science based solutions \u001b[31mcost.\u001b[0m Addiction and alcohol has a tendency to damage people's economic position or power. AA is no \u001b[31mcost.\u001b[0m But, I can understand a lot of the issues. AA is run by average \u001b[31mpeople\u001b[0m a majority have no college education or organizational experience. In my 12 plus years of going in and out of the rooms, I have never experienced many of your \u001b[31mpoints\u001b[0m \"supremcy of AA\", \"unwilling to change or address problems in the organization\", or \"blame game\". I have been lucky to be around AA \u001b[31mpeople\u001b[0m that \u001b[31mknow\u001b[0m and share and promote our \u001b[31mimperfect\u001b[0m solution. Yet, I \u001b[31mknow\u001b[0m those issues exist in other \u001b[31mgroups\u001b[0m or areas. Again, I \u001b[31mlike\u001b[0m what you typed. Usually, I don't respond to these issues, because \u001b[31mlike\u001b[0m you typed, \"diminishing \u001b[31mreturns\",\u001b[0m but I step into the waters sometimes. AA and all the anonymous \u001b[31mgroups\u001b[0m are \u001b[31mflawed,\u001b[0m but they are volunteer organizations of average humans trying to help average humans who are having \u001b[31mBAD\u001b[0m and FATAL issues. They are not for \u001b[31meveryone,\u001b[0m but they have a solution that is free and that works for enough \u001b[31mpeople\u001b[0m that it is still here today. If you are having a \u001b[31mproblem,\u001b[0m give them a \u001b[31mtry.\u001b[0m It certainly won't \u001b[31mcost\u001b[0m you anything.\n",
      "===\n"
     ]
    }
   ],
   "source": [
    "p = 95 # percentile of words to highlight \n",
    "topics_to_view = [6, 25, 28, 41] \n",
    "for topic_id in topics_to_view:\n",
    "    \n",
    "    # find the comment that most expresses that topic\n",
    "    comment_id = doctopic[:,topic_id].argmax()\n",
    "    \n",
    "    # find most prevalent words in the most prevalent topic\n",
    "    topic = lda.components_[topic_id]\n",
    "    feat_idx = np.argsort(topic)[::-1]\n",
    "    num_words = (topic > np.percentile(topic, p)).sum()\n",
    "    feat_idx = feat_idx[0:num_words]\n",
    "    top_features = [features_all[i] for i in feat_idx]\n",
    "    \n",
    "    # create highlighted version of the comment \n",
    "    comment_color = []\n",
    "    comment = corpus_all[comment_id].split()\n",
    "    \n",
    "    for word in comment: \n",
    "        if re.sub(RE_PREPROCESS, '', word).lower() in top_features:\n",
    "            comment_color.append('\\x1b[31m' + word + '\\x1b[0m') # makes the word print in red \n",
    "        else:\n",
    "            comment_color.append(word)\n",
    "    \n",
    "    print('comment_id:',\n",
    "          comment_id,\n",
    "          subreddit_id_all[comment_id],\n",
    "          'topic_id:',\n",
    "          topic_id,\n",
    "          '\\nkeywords:',\n",
    "           ls_keywords[topic_id])\n",
    "    print('---')\n",
    "    print(' '.join(comment_color))\n",
    "    print('===')"
   ]
  },
  {
   "cell_type": "markdown",
   "metadata": {
    "slideshow": {
     "slide_type": "subslide"
    }
   },
   "source": [
    "## Cool Visualizations \n",
    "    \n",
    "<img src=\"figs/supreme_court_topics.jpg\"/> \n",
    "\n",
    "[Mental Health Subreddit Topics](http://geebioso.github.io/Subreddit-Topic-Visualization/)"
   ]
  },
  {
   "cell_type": "markdown",
   "metadata": {
    "slideshow": {
     "slide_type": "fragment"
    }
   },
   "source": [
    "Return to [TOC](#Table-of-Contents)\n"
   ]
  },
  {
   "cell_type": "code",
   "execution_count": 86,
   "metadata": {
    "collapsed": false,
    "slideshow": {
     "slide_type": "skip"
    }
   },
   "outputs": [
    {
     "name": "stdout",
     "output_type": "stream",
     "text": [
      "1.89865984\n"
     ]
    }
   ],
   "source": [
    "print_memory() # prints memory usage in Gb "
   ]
  }
 ],
 "metadata": {
  "celltoolbar": "Slideshow",
  "kernelspec": {
   "display_name": "Python 3",
   "language": "python",
   "name": "python3"
  },
  "language_info": {
   "codemirror_mode": {
    "name": "ipython",
    "version": 3
   },
   "file_extension": ".py",
   "mimetype": "text/x-python",
   "name": "python",
   "nbconvert_exporter": "python",
   "pygments_lexer": "ipython3",
   "version": "3.5.2"
  }
 },
 "nbformat": 4,
 "nbformat_minor": 1
}
