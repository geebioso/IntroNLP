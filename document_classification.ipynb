{
 "cells": [
  {
   "cell_type": "markdown",
   "metadata": {},
   "source": [
    "# Document Classification Pipeline\n",
    "\n",
    "Before you run this script make sure you run \n",
    "\n",
    "`pip install -r requirements.txt`\n",
    "\n",
    "This script:  \n",
    "1) Loads Reddit comments from mental health subreddits  \n",
    "2) Preprocesses the comments   \n",
    "3) Fits a logistic regressoin classifier that distinguishes between   \n",
    "4) Generates model evaluation   \n",
    "5) Generates lists of words that are useful for classifiing between subreddits   \n",
    "6) Shows the comments most likely to be from each subreddit as predicted by the model"
   ]
  },
  {
   "cell_type": "code",
   "execution_count": 1,
   "metadata": {
    "collapsed": false
   },
   "outputs": [
    {
     "name": "stdout",
     "output_type": "stream",
     "text": [
      "[nltk_data] Downloading package stopwords to\n",
      "[nltk_data]     /Users/Garren/nltk_data...\n",
      "[nltk_data]   Package stopwords is already up-to-date!\n"
     ]
    },
    {
     "data": {
      "text/plain": [
       "True"
      ]
     },
     "execution_count": 1,
     "metadata": {},
     "output_type": "execute_result"
    }
   ],
   "source": [
    "import nltk\n",
    "import ujson\n",
    "import numpy as np\n",
    "import re \n",
    "import time\n",
    "import matplotlib.pyplot as plt\n",
    "import pprint\n",
    "%matplotlib inline\n",
    "\n",
    "from sklearn.feature_extraction.text import CountVectorizer, TfidfTransformer\n",
    "from sklearn.decomposition import LatentDirichletAllocation\n",
    "from sklearn.linear_model import LogisticRegression\n",
    "from sklearn.metrics import precision_recall_curve, roc_auc_score\n",
    "from collections import Counter\n",
    "from nltk.corpus import stopwords\n",
    "from nltk import SnowballStemmer\n",
    "\n",
    "\n",
    "nltk.download('stopwords')"
   ]
  },
  {
   "cell_type": "code",
   "execution_count": 2,
   "metadata": {
    "collapsed": true
   },
   "outputs": [],
   "source": [
    "# Options \n",
    "\n",
    "# Count Vectorizer \n",
    "RE_PREPROCESS = r'\\W+|\\d+' # text preprocessing on input \n",
    "ANALYZER = \"word\"          # CountVectorizer also supports character tokenization \n",
    "TOKENIZER = None           # can pass custom tokenization function \n",
    "STRIP_ACCENTS = 'unicode'  # gets rid of accents \n",
    "NGRAM_RANGE = (0,2)        # unigrams and bigrams \n",
    "MIN_DF = 0.01              # minimum document frequency \n",
    "MAX_DF = 0.8               # maximum document frequency \n",
    "MIN_CHARACTERS = 30        # shortest acceptable comment \n",
    "\n",
    "# TfIdf\n",
    "NORM = None\n",
    "SMOOTH_IDF = True \n",
    "SUBLINEAR_IDF = True \n",
    "USE_IDF = True "
   ]
  },
  {
   "cell_type": "code",
   "execution_count": 3,
   "metadata": {
    "collapsed": false
   },
   "outputs": [],
   "source": [
    "def load_reddit_mh( filename = 'RC_2015-05.json', subreddits = ['SuicideWatch', 'depression'], MIN_CHARACTERS = 100):\n",
    "    \"\"\"\n",
    "    Function to import Reddit comments from mental helth forums from May 2015 \n",
    "    \n",
    "    params: \n",
    "        str filename: name of file to open \n",
    "        list(str): name of subreddits we would like to load\n",
    "        int MIN_CHARACTERS: thresholds comments we load by comment length (in characters) \n",
    "    \"\"\"\n",
    "    if len(subreddits) != 2:\n",
    "        raise ValueError('read_reddit_mh only takes two subreddits')\n",
    "    corpus = []\n",
    "    subreddit_id = []\n",
    "    with open(filename, 'r') as f:\n",
    "        for line in f:\n",
    "            json_dict = ujson.loads(line)\n",
    "            subreddit = json_dict['subreddit']\n",
    "            if subreddit in subreddits:\n",
    "                comment = json_dict['body']\n",
    "                if len(comment) > MIN_CHARACTERS:\n",
    "                    corpus.append(comment)\n",
    "                    subreddit_id.append(subreddits.index(subreddit))\n",
    "    return [corpus, subreddit_id]\n"
   ]
  },
  {
   "cell_type": "markdown",
   "metadata": {},
   "source": [
    "## Load Data"
   ]
  },
  {
   "cell_type": "code",
   "execution_count": 7,
   "metadata": {
    "collapsed": false
   },
   "outputs": [
    {
     "name": "stdout",
     "output_type": "stream",
     "text": [
      "Counter({1: 24683, 0: 12610})\n"
     ]
    }
   ],
   "source": [
    "# Load data from subreddits \n",
    "subreddits = ['SuicideWatch', 'depression']\n",
    "[corpus, subreddit_id] = load_reddit_mh(subreddits = subreddits, MIN_CHARACTERS = MIN_CHARACTERS)\n",
    "subreddit_id = np.asarray(subreddit_id)\n",
    "\n",
    "# Get rid of punctuation and set to lowercase  \n",
    "processed_corpus = [ re.sub( RE_PREPROCESS, ' ', comment).lower() for comment in corpus]\n",
    "\n",
    "# Comment counts from each subreddit \n",
    "print(Counter(subreddit_id))"
   ]
  },
  {
   "cell_type": "markdown",
   "metadata": {},
   "source": [
    "## Preprocessing: Count Vectorizer \n",
    "\n",
    "CountVectorizer [Documentation](http://scikit-learn.org/stable/modules/generated/sklearn.feature_extraction.text.CountVectorizer.html)\n",
    "\n",
    "TfidfTransformer [Documentation](http://scikit-learn.org/stable/modules/generated/sklearn.feature_extraction.text.TfidfVectorizer.html)"
   ]
  },
  {
   "cell_type": "code",
   "execution_count": 8,
   "metadata": {
    "collapsed": false
   },
   "outputs": [],
   "source": [
    "def tokenize_and_stem(text, stemmer= SnowballStemmer('english')):\n",
    "    \"\"\"\n",
    "    Function to tokenize petitions using Snowballstemmer\n",
    "    params:\n",
    "        string text: text to be tokenized and stemmed\n",
    "        stemmer: function for stemming text\n",
    "    \"\"\"\n",
    "    tokens = text.split()\n",
    "    return [ stemmer.stem(token) for token in tokens]"
   ]
  },
  {
   "cell_type": "code",
   "execution_count": 9,
   "metadata": {
    "collapsed": false
   },
   "outputs": [],
   "source": [
    "vectorizer = CountVectorizer(analyzer=ANALYZER,\n",
    "            tokenizer=None, # alternatively tokenize_and_stem but it will be slower \n",
    "            ngram_range=(0,2),\n",
    "            stop_words = stopwords.words('english'),\n",
    "            strip_accents=STRIP_ACCENTS,\n",
    "            min_df = MIN_DF,\n",
    "            max_df = MAX_DF)\n",
    "\n",
    "transformer = TfidfTransformer(\n",
    "                norm = NORM,\n",
    "                smooth_idf = SMOOTH_IDF,\n",
    "                sublinear_tf = True)"
   ]
  },
  {
   "cell_type": "code",
   "execution_count": 10,
   "metadata": {
    "collapsed": false
   },
   "outputs": [],
   "source": [
    "#vectorizer"
   ]
  },
  {
   "cell_type": "code",
   "execution_count": 11,
   "metadata": {
    "collapsed": false
   },
   "outputs": [
    {
     "name": "stdout",
     "output_type": "stream",
     "text": [
      "Processing took 12.4480400085s\n"
     ]
    }
   ],
   "source": [
    "# Put corpus into a bag of words, get features from the count vectorizer \n",
    "start_time = time.time()\n",
    "bag_of_words = vectorizer.fit_transform( processed_corpus )\n",
    "if USE_IDF: \n",
    "    tfidf = transformer.fit_transform(bag_of_words) \n",
    "features = vectorizer.get_feature_names()\n",
    "end_time = time.time()\n",
    "print(\"Processing took {}s\".format(end_time-start_time)) # takes 14s without stemming "
   ]
  },
  {
   "cell_type": "code",
   "execution_count": 12,
   "metadata": {
    "collapsed": false
   },
   "outputs": [],
   "source": [
    "#bag_of_words\n",
    "#features"
   ]
  },
  {
   "cell_type": "markdown",
   "metadata": {},
   "source": [
    "## Fit Classifier"
   ]
  },
  {
   "cell_type": "code",
   "execution_count": 13,
   "metadata": {
    "collapsed": false
   },
   "outputs": [
    {
     "name": "stdout",
     "output_type": "stream",
     "text": [
      "('Train Labels: ', Counter({1: 19382, 0: 10452}))\n",
      "('Test Labels: ', Counter({1: 5301, 0: 2158}))\n"
     ]
    }
   ],
   "source": [
    "# split data into train and test\n",
    "train_set_size = int(.80*len(subreddit_id))\n",
    "\n",
    "train_idx = np.arange(0,train_set_size)\n",
    "test_idx = np.arange(train_set_size,len(subreddit_id))\n",
    " \n",
    "print('Train Labels: ', Counter(subreddit_id[train_idx]))\n",
    "print('Test Labels: ', Counter(subreddit_id[test_idx]))"
   ]
  },
  {
   "cell_type": "code",
   "execution_count": 14,
   "metadata": {
    "collapsed": false
   },
   "outputs": [],
   "source": [
    "#X = bag_of_words \n",
    "X = tfidf\n",
    "\n",
    "mdl = LogisticRegression( penalty = 'l1')\n",
    "mdl.fit(X[train_idx,], subreddit_id[train_idx] )\n",
    "\n",
    "y_score = mdl.predict_proba( X[test_idx])"
   ]
  },
  {
   "cell_type": "markdown",
   "metadata": {},
   "source": [
    "## Evaluate Model"
   ]
  },
  {
   "cell_type": "code",
   "execution_count": 15,
   "metadata": {
    "collapsed": false
   },
   "outputs": [
    {
     "name": "stdout",
     "output_type": "stream",
     "text": [
      "0.649568541022\n"
     ]
    }
   ],
   "source": [
    "[precision, recall, threshold] = precision_recall_curve( subreddit_id[test_idx], y_score[:,1])\n",
    "auc = roc_auc_score( subreddit_id[test_idx], y_score[:,1])\n",
    "threshold = np.insert(threshold,0,0)\n",
    "\n",
    "print(auc)"
   ]
  },
  {
   "cell_type": "code",
   "execution_count": 16,
   "metadata": {
    "collapsed": false
   },
   "outputs": [],
   "source": [
    "x = np.arange(len(recall))/float(len(recall))\n",
    "recall = recall[::-1]\n",
    "precision= precision[::-1]"
   ]
  },
  {
   "cell_type": "code",
   "execution_count": 34,
   "metadata": {
    "collapsed": false
   },
   "outputs": [],
   "source": [
    "# Plot Ghani Curve \n",
    "def plot_precision_recall_n(y_true, y_prob, model_name):\n",
    "    from sklearn.metrics import precision_recall_curve\n",
    "    y_score = y_prob\n",
    "    precision_curve, recall_curve, pr_thresholds = precision_recall_curve(y_true, y_score)\n",
    "    precision_curve = precision_curve[:-1]\n",
    "    recall_curve = recall_curve[:-1]\n",
    "    pct_above_per_thresh = []\n",
    "    number_scored = len(y_score)\n",
    "    for value in pr_thresholds:\n",
    "        num_above_thresh = len(y_score[y_score>=value])\n",
    "        pct_above_thresh = num_above_thresh / float(number_scored)\n",
    "        pct_above_per_thresh.append(pct_above_thresh)\n",
    "    pct_above_per_thresh = np.array(pct_above_per_thresh)\n",
    "    plt.clf()\n",
    "    fig, ax1 = plt.subplots()\n",
    "    ax1.plot(pct_above_per_thresh, precision_curve, 'b')\n",
    "    ax1.set_xlabel('percent of population')\n",
    "    ax1.set_ylabel('precision', color='b')\n",
    "    ax2 = ax1.twinx()\n",
    "    ax2.plot(pct_above_per_thresh, recall_curve, 'r')\n",
    "    ax2.set_ylabel('recall', color='r')\n",
    "    \n",
    "    name = model_name\n",
    "    plt.title(name)\n",
    "    #plt.savefig(name)\n",
    "    plt.show()"
   ]
  },
  {
   "cell_type": "code",
   "execution_count": 37,
   "metadata": {
    "collapsed": false
   },
   "outputs": [
    {
     "data": {
      "text/plain": [
       "<matplotlib.figure.Figure at 0x111cd6050>"
      ]
     },
     "metadata": {},
     "output_type": "display_data"
    },
    {
     "data": {
      "image/png": "[encoded data removed]",
      "text/plain": [
       "<matplotlib.figure.Figure at 0x121cffc10>"
      ]
     },
     "metadata": {},
     "output_type": "display_data"
    }
   ],
   "source": [
    " plot_precision_recall_n(subreddit_id[test_idx], y_score[:,1], 'LR')"
   ]
  },
  {
   "cell_type": "markdown",
   "metadata": {},
   "source": [
    "## Generate list of words most useful for classification"
   ]
  },
  {
   "cell_type": "code",
   "execution_count": 18,
   "metadata": {
    "collapsed": false
   },
   "outputs": [
    {
     "name": "stdout",
     "output_type": "stream",
     "text": [
      "[u'helps', u'psychiatrist', u'depressed', u'effects', u'depression']\n",
      "[ 0.12033589  0.13568213  0.13642369  0.1870128   0.32267604]\n",
      "[u'suicide', u'please', u'talked', u'suicidal', u'hospital']\n",
      "[-0.1676791  -0.16323765 -0.11455768 -0.10142495 -0.09820164]\n"
     ]
    }
   ],
   "source": [
    "# See which words are correlated with being classified as subreddit1 or subreddit2 \n",
    "coef = mdl.coef_[0]\n",
    "num_features = 5\n",
    "coef_index = coef.argsort()\n",
    "subreddit1_features = [ features[i] for i in coef_index[-num_features:]]\n",
    "subreddit2_features = [ features[i] for i in coef_index[:num_features]]\n",
    "print(subreddit1_features)\n",
    "print(coef[coef_index[-num_features:]])\n",
    "print(subreddit2_features)\n",
    "print(coef[coef_index[:num_features]])\n"
   ]
  },
  {
   "cell_type": "markdown",
   "metadata": {},
   "source": [
    "## Comments most likely to be from each subreddit "
   ]
  },
  {
   "cell_type": "code",
   "execution_count": 19,
   "metadata": {
    "collapsed": false
   },
   "outputs": [
    {
     "name": "stdout",
     "output_type": "stream",
     "text": [
      "***depression, 0.997***:\n",
      " Yes, that's true. You've got to know that psychiatrists still focus on the medical aspect of mental illnesses and not on psychotherapy. Usually with psychiatrists, it's better to just give enough context to describe your depression, like what significant feelings upset you or other big concerns. This is just so you can elaborate everything with your therapist, because that's what therapists focus on. And if you do spill out stuff with your psychiatrist most of the time, then you'll lose the need to share the same things with your therapist since it's already out of your system. Just my two cents.\n",
      "\n",
      "Also, does your psychiatrist and therapist know each other? While your secrets or the events you've shared to your therapist (or psych) are completely confidential - they're not allowed to exchange those matters, ethically speaking) - usually the psychiatrist can call your therapist to update on your medications on any physical concerns (e.g. self-harm, headaches, med side-effects related to depression).\n",
      "\n",
      "TL;DR: -psychiatrists are medical doctors while therapists focus on talk therapy -all things med-related to psych, all things depression-related to therapist -you will talk more to your therapist, keep it simple with your psych\n",
      "\n",
      "***depression, 0.998***:\n",
      " Well, honestly no. Prozac is one of the oldest meds you can go on and it has the least severe side effects. The new meds actually have worse side effects, but act much quicker and hit you a lot harder. Prozac is good to treat a long burning depression like yours. There are a few other drugs you can try of course that are new, but the only one I ever had to try was prozac as I had only one side effect that isn't even worth mentioning. \n",
      "\n",
      "The most common type of antidepressant is called an SSRIs(Selective serotonin reuptake inhibitors) these are your Prozacs and your Zolofts etc. These are the oldest, safest, and in a lot of ways the most effective.\n",
      "\n",
      "The other kinds are SNRIs (Serotonin and norepinephrine reuptake inhibitors) which as far as I can tell are the same more or less just work a little differently. \n",
      "\n",
      "There are Tricyclic antidepressants which I think are phased out because they are old as hell and cause a lot of severe side effects.\n",
      "\n",
      "Then there are MAOIs (Monoamine oxidase inhibitors) which are newer and very effective, but are more or less a last resort because not only do they have severe side effects, but they can actually kill you if you don't eat right.\n",
      "\n",
      "Have a go at a psychiatrist, tell him you tried back in the 80's and that you want to try again, but there is a pretty good chance he'll put you on an SSRI especially  because you don't want side effects.\n",
      "\n",
      "Try it out, worse case scenario you don't like it and you stop again. \n",
      "\n",
      "***depression, 0.998***:\n",
      " I'm really not fond of people substituting the word \"sad\" or \"upset\" with \"depressed\". Even though it's technically not incorrect to use the word in such a manner, I really wish people would just stop. I mean, especially when you consider that a lot of us suffering from depression aren't chronically sad but instead we experience a long-lasting loss of emotions... I struggle to comprehend the more common use of the word.\n",
      "\n",
      "However, with that said, I think someone should also mention that some people can also experience depression after a traumatic event in their lives (such as losing a loved one). I believe it is called Situational Depression and it is different to chronic/clinical depression, by all means, but it is still a thing.\n",
      "\n",
      "I can understand why it annoys you though; it annoys the hell out of me too. Sometimes hearing the word(s) can make me feel quite uncomfortable and they definitely remind me of what haunts me day-in, day-out. \n",
      "\n",
      "It's a complicated topic...\n",
      "\n",
      "***depression, 0.998***:\n",
      " I know how you feel. I'm not the best in my diet, as I'm a depressed college student, but I can share what I do. The main thing I need is consistency. If I go out of consistency, it helps worsen my depression for the day.\n",
      "\n",
      "-In the morning, I usually find it a bit difficult to chew and stomach a lot of food. Usually I just have a a cup of greek yogurt, protein shake, and vitamins if I remember. All relatively easy to stomach.\n",
      "\n",
      "-By lunchtime, I usually can eat food. Turkey-cheese sandwich, granola bar, nuts. Things like that. I might save the nuts for later in case I get hungry before dinner time.\n",
      "\n",
      "-Dinner time varies a bit. Usually I have chicken, rice and vegetables. Pasta sometimes, but I find it makes me more lethargic than rice for some reason. In terms of actually cooking dinner, I find one/two days in the week to cook for the week. I find it very difficult to get the energy to do it, so when I do find a small window of energy, I take advantage of it and cook what I need for the week.\n",
      "\n",
      "-If I need something sweet, I'll try to stay away from chocolates or cakes and stuff. Eating those makes me depressed more. I'll just have a spoon of peanut butter, or some random fruits (cherries are my go-to for the moment, but it can change to plums, oranges, etc).\n",
      "\n",
      "-Of course, water throughout the day. I have a water bottle that I take everywhere to remind myself. No sodas. I will have milk with my protein shake for more flavor, though.\n",
      "\n",
      "That's it. Really, doing all of this requires an average depressive day. Any more than this and I'll skip out on meals. It's difficult, but like I said, I need consistency.\n",
      "\n",
      "Hope this helps.\n",
      "\n",
      "***depression, 0.998***:\n",
      " &gt; Edit: Also, if there is one thing I've learned in life it's no matter how much you ask or scream for help, nobody is going to come. You're always going to be on your own.\n",
      "\n",
      "You posted on this subreddit for a reason, and from one depressed to another, I want you to know this post can help you see that you truly aren't alone :)\n",
      "\n",
      "Job and money is... tricky. Our culture has esteemed the kind of job we have and the amount of money in our accounts to be the measures of success, and this puts a ton of pressure to adhere to that standard to find self-worth in this cruel life where not everyone starts on the same level. It's scary, because I don't have everything figured out, still trying to search for my career, and I have just enough to meek out a living with just enough to save and spend a little to have some fun. And guess what? I'm 27. I have a bachelor's which amounted to no career, and I'm trying to get back into school for a different bachelor's with a much better job pool; you're 21, and not to come off patronizing but there is plenty of time for you to keep searching and find your calling. If money is an issue regarding school, there is FAFSA you can apply for (assuming you're in the U.S.); you can start building a solid credit score if you haven't already by opening a credit line and treating it as you would a debit card to spend what you can afford while paying off the debt in full; you can work on getting certified or start community college to knock out general ed for much cheaper than you would at a uni if you haven't started school yet; you can bite the bullet and work part time somewhere to start your collection of job experience, or even consult a temp agency to get your foot in somewhere. There are options, and as I often say to others on this subreddit *it all begins with small, manageable steps*.\n",
      "\n",
      "Parties are overrated, especially if it's the kind of parties you think should be expected of from shows and movies and shit. Parties in general, however, can be pretty fun if you allow yourself to enjoy them :) You don't always need blowout parties, and if getting access to them is the issue, again... start small. Try Meetup.com. You can search based on your interests and hobbies, and if you don't have much hobbies to speak of try picking up something simple and small. It's daunting to meet new people, believe me I know. It took me years to develop extroverted habits, and even then I'm still an introvert at heart and need to recluse from social things to recharge my batteries. It's disheartening to put yourself out there and deal with rejection, but when it comes to social aspects in life it's what it takes, and the more you expose yourself to it the less daunting it will seem because you give yourself the opportunities to learn from what did and didn't work, and this most definitely applies to the dating world... which leads to:\n",
      "\n",
      "Your health, shape, whatever label that goes on it. Check out /r/fitness, get situated with the FAQs, and ask away if you have questions. It's a very helpful subreddit, and I refined my workout routines as a result of consulting there often. The thing with fitness is, it's difficult. It's really tough to get started, and it's a whole new battle to maintain it. **However**, once you start, it only gets better from there. It's so easy to sit down and look back to think \"If I only started __ years ago, I'd be so much more fit now...\", but with fitness your best time to start is NOW. It doesn't even have to start at the gym if money is an issue, because weight loss comes from the kitchen. If you're drinking 10 cans of soda a week, cut it down to 8 a week; then 6; then 4; then 2; then ween yourself from it and replace it with the occasional 100% juice. If you're eating fast food 3 meals a day, cut it down to 2, then 1, all the while making a trip or two to the market and avoid the aisles; slowly replace a meal or snack with something you can simply whip up in the kitchen. Even just grilling chicken and stir frying your veggies is a big step up from ordering your usual from the take out joint.\n",
      "\n",
      "Gym-wise, I recommend Planet Fitness: it's $10 a month to attend the gym you sign up at (or $20/mo. to gain access to any PF in the country) There's a lot of circlejerk hatred for PF, especially in /r/Fitness because of the general lack of access to squat racks or deadlift stations and weights that cap out at like 60-75 pounds, but if you're just starting out you don't need all that super heavy equipment (and most of the people crying about PF aren't olympic lifters either, so they're just joining in on the hate). Should you start going to the gym, don't make the wild expectation that you're going to go every day every morning if it's not your routine yet; start small. Try every two days, every other day, and once you get the hang of it you should add more gym days. I'm currently 205lbs at 6'3\", maybe at about 16-17% body fat. Not bad, but considering I used to be 250+lbs and struggled with eating right and maintaining good exercising and eating habits over the past 10+ years until now, it's a milestone for me. It doesn't have to take as long for you to get where you want to be, but it all starts with you.\n",
      "\n",
      "A healthy body image is important to building your confidence in many aspects, but figuring out who you are and allowing yourself to embrace all that is actually good, no matter how small, is where it should begin. You can look like Adonis himself and still have poor self-image, so know that looks aren't as important as you being confident with who you are, even with faults. When you find the things you know you can work on, whether it's eating habits or even something more abstract like having a hard time engaging people in conversation, it's a lot easier to break down the issues into smaller, realistic quest lines to complete. Before you know it, you'll have completed a full arc for you to gain XP on the next one.\n",
      "\n",
      "Notice the trend here? It's *all about small steps*.\n",
      "\n",
      "My biggest tip to you is to work on yourself with manageable goals, and give yourself time to let it all manifest into something greater than what you originally started with. You working on yourself will steadily give you the confidence and capacity to love yourself more, and until you love yourself you won't get yourself into a fulfilling position of someone else loving you back.\n",
      "\n",
      "You can do this.\n",
      "\n",
      "***depression, 0.999***:\n",
      " Sure! I'm taking 50mg of sertraline which is a fairly low dose. I started out at 25mg, they increased me to 50mg and I started seeing improvements. I started on medication and decided to stick with it because I wanted to pass my semester. I had previously dropped out of school and I really wanted to finish my degree. I experience a lot of classroom anxiety so I would avoid going to class. On the sertraline, boom, anxiety in the classroom gone. It took me about 3 months to get to that point - so give your medication time to work.\n",
      "\n",
      "I had no weight gain on the medication at all. In fact, it has probably helped my eating habits because I used to binge eat when I was very depressed. I have since stopped doing that. \n",
      "\n",
      "The side effects I do experience are issues acheiving orgasm. Possible TMI but last time I attempted an orgasm it took me 45 minutes! I still experience sexual satisfaction with my partner but I have just accepted that it will be more difficult for me now. I also experienced mild nausea when I first started taking the pills but that went away within a week. \n",
      "\n",
      "My advice - stick with it. SSRIs need a few months to kick in. But they gave me that little boost. I still struggle with depression - it isn't a magic cure all - but it seriously helped me. Go with what your doctor recommends. Good luck!\n",
      "\n",
      "***depression, 0.999***:\n",
      " Some antidepressants do have that side effect, because what you have to realize is the way they work is they \"balance\" out and change the levels of hormones and neurochemicals in our bodies. Citalopram specifically increases serotonin which surprisingly enough is a neurotransmitter inhibitor that calms and relaxes the brain. Which is possibly one of the reasons. \n",
      "\n",
      "My best suggestion for you is to speak with you psychiatrist or whoever is prescribing you the medications, and bring it up. There's a possibility if the citalopram is working and it keep your depression in check, your psychiatrist might be able to prescribe you a secondary med for days when you expect to have some form of romantic or intimate contact with you and your significant other.\n",
      "\n",
      "This is what folks with ED do with viagra. They only take it when they need it. Now I'm not saying go get viagra, but there are other drugs specifically NDRIs, where instead of changing serotonin levels they increase dopamine and norepinephrine, which for some people show very little side effects in terms of sexual drive.\n",
      "\n",
      "I'm not a psychiatrist or a pharmacist but definitely discuss it with whoever is prescribing your medications.\n",
      "\n",
      "***depression, 0.999***:\n",
      " As the other commenter said, it works differently for everyone.\n",
      "\n",
      "That being said, it is a perfectly good med. AFAIK research hasn't shown it to be any better or any worse than other antidepressants. I own quite a few psychopharmacology books and one of them says that virtually all antidepressants have a 68% response rate (in other words, 2 out of 3 people who take it will respond in some way). I also recall reading about something called \"the rule of thirds\": this refers to how in clinical studies for a particular antidepressant, the pattern tends to be that 1/3 of patients will go into partial remission (i.e., they are almost completely better but have residual symptoms), 1/3 will go into full remission, and 1/3 will not show any response.\n",
      "\n",
      "Celexa (citalopram) is a very commonly used antidepressant. It's an SSRI (selective serotonin reuptake inhibitor), which is a safe and pretty effective class of meds. SSRIs are commonly used because they don't cause side effects as much or as severely as other types of antidepressants like tricyclics (TCAs) or monoamine oxidase inhibitors (MAOIs).\n",
      "\n",
      "If you'd like to read more about Celexa, I would recommend looking at this site: http://cdn.neiglobal.com/content/pg/live/citalopram.pdf\n",
      "\n",
      "That site has the same info that is in the book my doctor uses for prescribing info (it's called Stahl's Essential Psychopharmacology: The Prescriber's Guide). It explains what it's used for, how it works, notable side effects, how it causes side effects, what to do about side effects, best augmenting agents, dosing, best/worse candidates for taking this med, etc.\n",
      "\n",
      "Good luck!\n",
      "\n",
      "***depression, 0.999***:\n",
      " This has not been said here, and I feel like it really needs to be.  Most anti-depressants will not make you less depressed. Period.  Finding one that works is difficult.  Some of the positive effects can be placebo or just your life circumstances changing.  They take 6-8 weeks to work with each medication.  It is normal to go through 2 or 3 before finding one that works for you and doesn't have nasty side effects.  From the first appointment until you find something you like might be 5-6 months.  \n",
      "\n",
      "I feel like you have this idea in your head that by getting anti-depressants your depression will go away, but that's not really how it works at all.  That being said, find a decent therapist or psychiatrist.  Sadly, in my experience, good ones are expensive.  \n",
      "\n",
      "Finally, your parents sound like they have no idea how anti-depressants actually work or what they do.  Do some of your own research.  The things that make you feel nothing are maybe anti-psychotics or like xanax (I don't actually know as much about those drug categories) and they are different from an anti-depressant.  \n",
      "\n",
      "***SuicideWatch, 1.0***:\n",
      " ##Looking for help?\n",
      "\n",
      "Mid twenties paedophile here.\n",
      "\n",
      "There **are** ethical options:\n",
      "- - -\n",
      "\n",
      "##Therapy &amp; Social Support\n",
      "\n",
      "[Various therapies](http://en.wikipedia.org/wiki/Sex_offender#Therapies) have been shown to reduce (often drastically) the instance of re-offense for sex offenders and (in my opinion) there is no reason or evidence to suggest it would be any different for those with difficult/perilous attractions, paedophilic or otherwise who haven't committed a crime.\n",
      "\n",
      "There are support groups for innocent paedophiles seeking to avoid dangerous or criminal behaviour, some being run by other self-titled \"[Virtuous Pedophiles](http://en.wikipedia.org/wiki/Virtuous_Pedophiles)\" and others by community outreach type groups like \"[Circles of Support and Accountability](http://en.wikipedia.org/wiki/Circles_of_Support_and_Accountability)\" and \"[B4U-ACT](http://www.b4u-act.org)\".\n",
      "\n",
      "\"[Stop It Now](http://www.stopitnow.org)\" is a good resource for survivors and reporting crimes in a general sense but also has [a page](http://www.stopitnow.org/treatment-resources-adults-risk-abuse-and-who-have-abused-0) dedicated specifically to helping us find help.\n",
      "\n",
      "On Reddit there's /r/pedtalk, /r/pedohelp , /r/pedophilia and the generic abuse prevention sub /r/abuseinterrupted that I've found or been referred to so far.\n",
      "\n",
      "In addition to such support, actual psychological treatment in the form of [behaviour modification](https://en.wikipedia.org/wiki/Behavior_modification) (whether through [operant conditioning](http://en.wikipedia.org/wiki/Operant_conditioning) or [respondent conditioning](http://en.wikipedia.org/wiki/Respondent_conditioning) including the ethically controversial [aversion therapy](http://en.wikipedia.org/wiki/Aversion_therapy)) has some substantial positive effect.\n",
      "- - -\n",
      "\n",
      "##Pharmaceutical Aid\n",
      "\n",
      "There is also [chemical castration](http://en.wikipedia.org/wiki/Chemical_castration) which attempts to reduce risk by lessening or eliminating sex drive entirely with varied (though often positive) results.\n",
      "\n",
      "Additionally, several other prescription medications (such as anti-depressants for example) list reduced or eliminated libido as a side effect (some without the more distressing side effects of standard chemical castration drugs) the use of which could allow someone to seek medication without \"outing\" themselves under the guise of someone suffering from something like depression, which is so common as to draw little or no attention, and has the side benefit of reducing the depression that often accompanies low libido and the social isolation associated with having a sexual identity that is incompatible with ethical sexual expression.\n",
      "\n",
      "I'm not certain which work on women but men at least should (very cautiously) research:\n",
      "\n",
      "**Antacids** (famotidine, ranitidine) can cause erectile dysfunction.\n",
      "\n",
      "**Anti-anxiety drugs** (alprazolam, clonazepam, lorazepam, diazepam) may result in lower libido, delayed ejaculation, and erectile dysfunction.\n",
      "\n",
      "**Antidepressants** (selective serotonin reuptake inhibitors [SSRIs], serotonin-norepinephrine reuptake inhibitor [SNRIs], monoamine oxidase inhibitors [MAOIs], tricyclic antidepressants [TCAs]) can lower libido and cause erectile dysfunction, delayed ejaculation, and sometimes painful ejaculation.\n",
      "\n",
      "**Antifungal drugs** (ketoconazole) can lower libido and cause erectile dysfunction.\n",
      "\n",
      "**Antipsychotics** (haloperidol, risperidone, fluphenazine, quetiapine, olanzapine, ziprasidone, clozapine) can result in lower libido, erectile dysfunction, and difficulty ejaculating.\n",
      "\n",
      "**Blood pressure medication** (beta-blockers, antiarrhythmic drugs, diuretics) can cause low libido, erectile dysfunction, and delayed ejaculation.\n",
      "\n",
      "**Cholesterol-lowering drugs** (statins, fibrates) can cause sexual side effects like low libido, and erectile dysfunction since cholesterol is needed to produce testosterone.\n",
      "\n",
      "**Chemotherapy drugs** can cause low libido and ejaculatory problems.\n",
      "\n",
      "**Prostate drugs** (finasteride, prazosin, tamsulosin) can cause erectile dysfunction. Terazosin may result in priapism. Anti-androgen drugs used to treat prostate cancer can also cause side effects because they are made to lower testosterone.\n",
      "- - -\n",
      "##Other Info\n",
      "\n",
      "**Additional Sources:** [I'm a Paedophile. Over ten years since my release without hurting anyone](http://www.reddit.com/r/IAmA/comments/1kpw5g/iama_paedophile_who_has_been_inactive_since_my/).\n",
      "\n",
      "**Other things I've found personally helpful in understanding and regulating my own behaviour in no particular order.**\n",
      "\n",
      "[Cognitive Biases](https://en.wikipedia.org/wiki/List_of_cognitive_biases) are what our minds do to protect our opinions from being challenged.\n",
      "\n",
      "[Logical Fallacies](https://en.wikipedia.org/wiki/List_of_logical_fallacies) are the failures of reasoning that we use intentionally or accidentally to prop up ill-thought-out positions.\n",
      "\n",
      "[YouAreNotSoSmart](http://youarenotsosmart.com/) is a site that has articles on some of each group above.\n",
      "\n",
      "[Mental Disorder.](https://en.wikipedia.org/wiki/Mental_illness) Focus less on these as directly indicative of a mental disorder and more on the potential for someone's brain/mind to just fail to function in some fashion. Understanding this can give you the will to recognize when yours might do the same even if you don't have some specific illness.\n",
      "\n",
      "[Maslow's Hierarchy of needs](https://en.wikipedia.org/wiki/Maslows_hierarchy_of_needs) is a good framework from which to build understanding of your own needs and to strive for their responsible fulfillment and to help others do the same for themselves.\n",
      "\n",
      "[Mindfulness Meditation](http://marc.ucla.edu/) is a particular type of meditation that eschews the metaphysical bullshit in favor of common, secular practices and scientifically studied and evidenced medical and psychological benefits.\n",
      "\n",
      "[Here](http://marc.ucla.edu/body.cfm?id=22) are some links to guided mindfulness meditation sessions from the study of it at UCLA.\n",
      "\n",
      "[TheraminTrees](https://www.youtube.com/user/TheraminTrees) is a YouTube channel that makes some pretty interesting videos about thought, faith, ethics and such. I should warn you it is from a quite secular viewpoint which may be unsettling to you if you are religious.\n",
      "\n",
      "[QualiaSoup](https://www.youtube.com/user/QualiaSoup) is quite similar and works frequently with TheraminTrees.\n",
      "\n",
      "QualiaSoup's [video on a logical basis for morality](https://www.youtube.com/watch?v=T7xt5LtgsxQ&amp;list=SP0EFCB22DFCD4F2E7) is quite helpful in divorcing the notion of morality from your own personal feelings as is [Sam Harris' TED talk on the subject](https://www.youtube.com/watch?v=Hj9oB4zpHww).\n",
      "\n",
      "I'd also recommend Sam's video on [free will](https://www.youtube.com/watch?v=pCofmZlC72g) as it outlines some pretty interesting points.\n",
      "\n",
      "[Phil Hellenes](https://www.youtube.com/user/philhellenes) has some food for thought/secular inspirational videos and is well worth checking out.\n",
      "\n",
      "[This](http://youtu.be/0qDtHdloK44) is a poem titled \"Shake The Dust\" written and performed by \"Anis Mojgani\" at the 2010 \"Heavy and Light\" concert/poetry slam hosted by the suicide/self-harm prevention advocacy group \"To Write Love On Her Arms\" that I've found particularly empowering when I'm struggling.\n",
      "- - -\n",
      "\n",
      "Once again, I derive a lot of my positions from very secular sources (because they're equally available to anyone regardless of belief system) so if you're religious they might put you off a bit.\n",
      "\n",
      "Just remember: You're not alone, you're not evil and you're not doomed.\n",
      "\n",
      "We're all here for you so talk to us.\n",
      "\n"
     ]
    }
   ],
   "source": [
    "num_comments = 10\n",
    "subreddit1_comment_idx = y_score[:,1].argsort()[-num_comments:]\n",
    "subreddit2_comment_idx = y_score[:,1].argsort()[:num_comments]\n",
    "\n",
    "for i in subreddit1_comment_idx:\n",
    "    print(u\"***{}, {}***:\\n {}\\n\".format(subreddits[subreddit_id[test_idx[i]]], \n",
    "                                np.around(y_score[i,1], decimals =3), corpus[test_idx[i]]))"
   ]
  },
  {
   "cell_type": "code",
   "execution_count": 20,
   "metadata": {
    "collapsed": false
   },
   "outputs": [
    {
     "name": "stdout",
     "output_type": "stream",
     "text": [
      "***SuicideWatch, 0.01***:\n",
      " It sounds like you're exhausted on many levels and are losing hope or have lost hope. I'm so sorry. \n",
      "\n",
      "For what it's worth, it's striking that you give equal weight in your post to your personal struggles and your existential despair at the state of the world. That's pretty remarkable - it speaks to your empathy. You are not worthless. I think that you want to help people. You say that you don't even know why you try - but it sounds like you do know. You care about the world so much that it hurts. Helping people gives life meaning, right? And sometimes jerks may deny that or try to take that from you, but we all have to fight them. \n",
      "\n",
      "I know that I can't imagine the added pain of being trans in a hostile world, though some of this, I get. I'm queer too and not in a good situation right now and it sounds like you've got something eating disordered type stuff going on - that certainly makes the world a harder place to live in. There is help out there though. Personally, I found support groups where people help me and I help them and they make my life not just survivable, but meaningful. Those may not be for everyone, but please don't stop believing that you deserve help. You are worth it and I'll be thinking about you.\n",
      "\n",
      "***SuicideWatch, 0.024***:\n",
      " If life were just, heartbreak would kill you on the spot. It hurts so bad and so deep in places only that person could touch. And when the hurt is gone there is a big hole for a long time that can get filled up any number of ways. Some people fill it with anger - anger about a lot of things; their life, their ex, themselves. But anger only makes the hole bigger and deeper. Some people fill it with other things - sometimes good (family, friends, new relationships), sometimes not so good (one night stands, drugs, alcohol). But what really goes in that hole is you. You have to patch yourself back up with bits and pieces you find of yourself through some uncomfortable self-discovery. It takes a long time, and it hurts, but one day, without even realizing it's working, you'll look around and think, \"I feel whole again.\" And then your heart won't be broken and you'll have room inside for someone else. Someone who won't burn holes into your heart, but fill it up to the brim with strong, confident, love. \n",
      "\n",
      "I had my heart broken so badly I wanted to die a little over a year ago. I said \"fuck it\" to the life I thought I was going to lead (but couldn't because of the break up) and did something absolutely crazy. I sailed across the Indian Ocean. Trust me, nothing makes you dig deeper down into yourself and confront uncomfortable and varying truths like pitting yourself against a fierce ocean. Now obviously not everyone can do what I did. But I encourage you to take this time to dig deep into yourself and do something crazy that you never thought you could do. Travel, even if it's just outside your city. Learn about yourself, push your body, your mind, your soul hard. You'll find someone amazing worth loving inside. \n",
      "\n",
      "I hope this didn't seem trite. I really empathize with your pain. Please let me know if you need someone to talk to. -- you can do anything in the world when you have nothing to lose.\n",
      "\n",
      "***SuicideWatch, 0.025***:\n",
      " I am sorry that you want to kill yourself. This is not a place to ask for methods, but let me tell you one thing - there is no fail safe method to kill yourself. Anything you would do, there's no guarantee that you wouldn't end up in some really fucked up state. Trust me, I researched it a lot in my life.\n",
      "\n",
      "Can you please tell us what's going on in your life that you consider suicide? Did something happened lately, or are you in permanent pain from something?\n",
      "\n",
      "***SuicideWatch, 0.031***:\n",
      " Hey OP, just letting you know I'm here, so I'll just carry over what you posted in your last post over here. I'll respond to that a little later, please give me a little moment. \n",
      "\n",
      "&gt; Original Post:\n",
      "This is my little way of venting and hopefully making myself feel better. Sort of my way of telling the whole world how I feel but not necessarily anyone will read it, if that makes sense. Well it does to me. The best way to describe it is that I prefer to have it here on reddit with the possibility of someone reading it than on microsoft word where I know no one will read it. I'm also typing what I feel none of this is planned so if it seems all over the place this is why. Like I said I just wrote this in attempt to make myself feel better. I'm tired and it's 5:51 am as im writing this so that explains any grammatical errors. Feel free to leave responses. I don't care. If I'm breaking any rules I'd greatly appreciate a PM mods, so I can edit it or if I have to copy it so I can post it somewhere else. Anyway....\n",
      "\n",
      "&gt; In short I want to die. That's it really. I just want to stop living. Not because I'm depressed from sadness, but because I'm tired. I'm only 19 years old and I feel like I'm 80. In high school teachers, counselors, etc. always use to ask my peers and I where we saw ourselves in ten years. I never knew the answer. I still don't. I can't picture my life in 10 years, or 5 years, or even next year. I hope I'm dead. Earlier I said I'm not depressed. That's not entirely true. Let me explain. I don't want to do anything with my life. The thought of going to college and having a career saddens me. Even the thought of having a simple job saddens me. The thought of interacting with strangers frightens me. The thought of living saddens me. I'm scum. I have the possibility to do anything with my life, and I don't have a hard life. My parent's didn't hit me. They didn't divorce. I have wonderful brothers and sisters, and yet I still feel this way. If I had the opportunity to not exist and somehow give my position to somebody who has had a hard life and suffered to them I would because at least they'd do something with it. I'd do it in a heartbeat. This is what depresses me. I am the definition of scum. I shouldn't be depressed, but I am. I don't feel like I deserve to be depressed but I am. And I hate myself even more because I am. I hold a small grudge towards my parents for bringing me into this world. I often find myself at night wishing they never met. Wishing I was never born. The thought of me not existing brings me such joy. But sadly I exist so the next best thing is death. And I would of killed myself by now but the thought of pain stops me. I'm too scared. Death is the only thing I want in life and once again the only person stopping me is me. I'm my own worst enemy. Sometimes I wonder if that's why I wanna kill myself. If somehow by committing suicide, I have killed the person who's made me feel the way I feel. I haven't told anyone the way I feel. No friends or family. I often joke to my friends about suicide but I'm positive they think I'm joking and have no idea how badly I want to die. This one time my friend casually told me at a party that he was kind of depressed, and he was describing exactly how I felt, and what did I do? I basically told him to shut up because no one wanted to hear that. I don't know why I told him that. I wonder if it was because he described my feelings and I felt like I couldn't accept it at the time. I regret it everyday of my life. It's another reason why I hate myself. My friend didn't commit suicide, and we've hung out since then, but he's never talked about it again and I haven't asked him. I'm not even good enough to be his friend. I've never felt connected to my family. At least not enough to ever tell them my feelings. I feel like my brothers and sisters were made for each other, if that makes sense. Like when you learn that they're related you think \"yeah, that makes sense\" but me, not so much. I'm nothing like them. We don't like the same things, and our personalities are so different that when we get together, like at a family gathering, I find that I don't talk to them much. and when we do they generally ask how's it going and I just say \"fine\". I've felt so lonely my entire life. Ever since I was a child. I've never had a girlfriend and at this point I don't even want one because I'm worried if I start dating someone and I tell her how I feel that she'll feel like she now has to stay in the relationship so I don't commit suicide. I often day dream of hanging out with this chick I had a crush on in one of my high school classes. We both love reggae music and we'd listen to it in class every now and then. I kind of gave signals that I was interested, but she never did anything. When I was attending community college she had the professor I had before me, and we'd talk for a few minutes. The first couple times was just catching up cause we didn't see each other for a while, and after that it was just me asking what we did in class. Now that I've dropped out of college I still think about her. I've even had dreams about her where we were just hanging out. I don't think that's healthy. I think I love her, but at the same time I just think I feel this way because I feel shitty. But when I dream of her I don't hurt so bad. But I'm just her friend, and I think I'm ok with that but it still hurts because she'll never know how I feel, but at the same time I know she doesn't feel the same. At this point I feel like I'm carrying a heavy weight and it just gets heavier and heavier. But I keep carrying it, and I want to drop it. But somehow I put a smile on my face, not because I'm happy but because the thought of losing this weight makes me laugh and the thought of me killing myself makes me laugh, because I know I'll carry it forever and I know I won't ever have the balls to kill myself, so I feel I'll always feel this way, but who knows. To me death sounds good all the time so maybe when I'm at my breaking point I'll do it. I have a lot more to say, but at this point I can't really think of a reason to keep going.\n",
      "\n",
      "***SuicideWatch, 0.034***:\n",
      " The reason why hotlines are the norm is that a lot of friends and family, even if they have all the love in the world, just aren't emotionally equipped to deal with our thoughts of suicide.  So I think you're being wise and realistic to put some thought into how you present this to your family.  \n",
      "\n",
      "I also answer a hotline IRL and one of the things we end up doing quite often is helping people figure out how to break things to their families.  We also always help people work out a \"Plan B\" for what to do if telling the family doesn't go well.  So talking to your local or national hotline first might be an option for you if you feel comfortable with that.\n",
      "\n",
      "Either way, I think we might be able to help you more here in framing the conversation if you could tell us a bit more about yourself and your family, how long you've been feeling this way, and what your relationship's been like up to this point.  \n",
      "\n",
      "It's never an easy conversation to have, no matter how well prepared we are, but it sounds like you need to have it soon.  You said that you've been really struggling with thoughts of suicide for a couple of weeks - were there any changes in your life or events that precipitated this?   \n",
      "\n",
      "Hugs. \n",
      "\n",
      "***depression, 0.041***:\n",
      " From the ages of 11-16 I fantasized practically every waking moment of my demise. I prayed to god that I would get into a traffic accident on the way to school, and I would be the only fatality. I sat in first period fantasizing every single day about slitting my wrists and hiding my arms in a backpack until I bled out and my corpse would rest quietly on my desk. I walked on the way to fourth period fantasizing about jumping off a second story building and landing ever so perfectly on my neck to instantly kill myself. I fantasized dying in a warzone so no one would ever know I was suicidal and that was my ultimate goal. \n",
      "\n",
      "These thoughts in my youth have left such an impression on my psyche that they have become intrusive thoughts. Even if I am not suicidal there is a voice that whispers in my ear, \"Kill yourself.\" I am thankful, somewhat, for I no longer fear death. Suicide is my escape mechanism, for if everything ever goes so bad, I will just kill myself. Easy solution. Suicide isn't something I fear, but something that comforts me. It is a teddy bear to a small child.\n",
      "\n",
      "I know with ever fiber of my being that this is wrong. This is atrocious. This is a squandering of the life \"God\" gave me. But I can't help it. It is etched in the folds of my brain. Thoughts of suicide are me, and I am it.\n",
      "\n",
      "And so I live each day in a fog. Unable to recognize my past, unable to appreciate the future, and unable to enjoy the present. Hoping that one day I will shatter through this glass prison which confines me.\n",
      "\n",
      "Thanks for letting me vent, OP. I hope both of us will some day experience peace in our lives.\n",
      "\n",
      "***SuicideWatch, 0.05***:\n",
      " You don't know me, but I care. I am new to SW and I've been originally browsing through it because due to my suicidal tendencies. You, my dear MamaToFive, are person that I remember the most. I've seen you going great lengths trying to help and actually helping a girl who had overdosed herself. You were there for her. I remember that vividly. You were the one who really helped her, even when you have your share of issues to bear with. It was incredible - you were incredible.\n",
      "\n",
      "Now it is my time to try to help you. Or at least be with you. Yesterday I almost stabbed knife to my heart. The pain was unbearable.\n",
      "\n",
      "The least I can do, and I want to do more for You, is let you know what helped me. It was this video of a man called Eckhart Tolle. It is not religious or condemning, just understanding. If you feel like it, please take a look at it, it is only few minutes. https://www.youtube.com/watch?v=1Ja75T5wF1U If you don't want to look at it, then don't, but anyway please talk to me. I am here for you. It will sound pathetic but I love you. You are a beautiful being to me no matter what you think about yourself.\n",
      "\n",
      "EDIT: reading through what I wrote it almost looks like I am trying to sell you some religion. Dammit, I am not, that video is not religious at all, and I am neither. There is just a lot of people who care about you here and I am one of them. I love you, even though I never met you. Please hang in there, that horrible feeling will go away. And it is just that a horrible feeling and thoughts, **it is not you**.\n",
      "\n",
      "***SuicideWatch, 0.053***:\n",
      " No! Please don't do this! Please call 911 if your life is in danger right now!             \n",
      "Please, don't do this. There's something, or someone out there worth living for. You've just gotta keep moving ahead and find them. Please reconsider this. Please, will you share your story with me? Maybe we can talk it through a bit. I'll be refreshing my inbox waiting. \n",
      "\n",
      "***depression, 0.054***:\n",
      " Hey man, I hope you can give yourself a bit of a break. You deserve it. I completely empathize with how you feel. I've been there too, and I know you can't see this clearly, but you are SO far from a failure, my friend. I'm gonna curse for a bit.\n",
      "\n",
      "* You are a fucking mechanical engineer. You might have to move, but I am 100% sure you can get a lucrative job with that degree/knowledge.  \n",
      "* That adviser doesn't know shit. Not only is she just an adviser and not a decider, but she also only works at one place. I don't know much about medical school, but I would be willing to bet that there are a few out there that would love to have you.  \n",
      "* Smart evaluations will see that you fucked up as a freshman and then got it together and blasted through your upper-level courses. They really do look at stuff like that.  \n",
      "* You can make the MCAT your bitch if you have to. If you can get an A in the hardest mechE courses, you can do very well on a test with well-defined study guidelines like the MCAT. The hardest parts for many people are the mathiest parts anyway.  \n",
      "\n",
      "&gt;I was supposed to be the smart one in my family, but turns out that was a bunch of bullshit.\n",
      "\n",
      "C'mon now. What was your GPA in those hard engineering classes? 3.5? Dumb people, failures, all that... people who fit those labels don't even get to *take* those classes. Logically, you are probably in a high percentile of intelligence. \n",
      "\n",
      "&gt; ...the only option is to go back to school and build up more student debt to try and ride out the imminent recession...\n",
      "\n",
      "The *only* option? Do you *have* to get debt, and might it be a good investment? Do you *know* a recession is imminent? My point here is not that you're wrong about any of those things (although...), but that your thinking appears to be affected by cognitive distortions right now. Have you heard of those? There are a ton of resources about them on Google. Maybe you can try to challenge those negative thoughts when they come up. The easiest for me to deal with are the factually untrue ones.\n",
      "\n",
      "I know you are in a really bad place right now, but I think that you will feel better. You have done a great job to graduate with such an impressive degree (and a not-bad transcript, fuck that adviser's opinion). Give yourself credit and be nice to yourself. You can handle this. Hang in there.\n",
      "\n",
      "Have you ever talked to a professional about these emotions? It might be worth it. It definitely won't hurt.\n",
      "\n",
      "***depression, 0.062***:\n",
      " My name is Andrew. I live in tucson AZ and I'm 30 years old. I have had depression all my life. It hit me the hardest when I was a teenager after I found out about my biological father and how he abandoned me and my mother when I was a baby. That news in the beginning started off as a curiosity and then became a never ending insecurity about myself. I started feeling not good enough, and to top it all off my adoptive father who married my mother when I was a baby was military, so I lived in a very strict household where it was hard for me to get proper support in all that I did. \n",
      "\n",
      "When I was 20 I hit low point and due to flunking out of basic training and being pawned off to different family members outside of my own family and because I felt so worthless that nobody wanted me around and dealing with my parents divorce, I then tried to kill myself via overdose. I got scared, and ended up in the hospital for a week and even then the docs didn't care enough to really help other then ask a few questions and to get the drugs out of my system. They sent me on my not so merry way without any true help so I learned to bury my emotions and hid myself from most people for years. Afterwards never quite making it job wise and moving around alot even getting into trouble for stealing jewelry from my mom and pawning it. She had me arrested. I got hit with the book. 2 years probation, community service and MORE, that plus I was homeless during this time. \n",
      "\n",
      "Fast forward to these last 4 years and I was finally in a good place job wise, met the love of my life and we proceeded to date for 4 years in a LDR. She was old fashioned, wanted to be taken care of, one of those red pill women types, I was fine with it and wanted things to work. In the beginning I worked hard to give us a future, spent money flying her down to visit 3 to 4 times during the year for 2 weeks at a time, we were both gamers so when we were apart we would play WoW and other games online and spent time with each other every single day to the point of unhealthy clinging for both of us. To the point where she would get upset if I wanted to hang out with a friend or give myself some me time. That went on enough that I pushed alot of people away because if I didn't spend time with her I would feel bad or somewhat scared she would get upset enough and want to break up. I eventually started school full time so I was working and going to school full time, pretty busy with that and her but for the most part I was happier then I ever have been. The LDR took it's toll a bit and because of the clinging I broke up with her last June for a day, it broke her when I did that, I regret it alot because it started the chain of events that happened afterwards. I begged her back because I loved her and I wanted to work on things, she normally had a rule that she wouldn't do off and on relationships but she loved me and she wanted to try again. Things started out okay, i turned 30 last October she came to visit for most of the month and it was great when we were together in person we were perfect we had no problems ever. When she went back home we tried to figure out a way to move in together but her personality was an extreme in which she didn't work or go to school ever and wanted so badly to be a housewife and stay at home mom that trying to convince her to work to help me a bit so we can earn our way to that point was like pulling teeth. There were times she would give in a bit and semi agree to things but it was just to placate me she never really wanted those things. She also really loved animals, she had a dog and several cats and she wanted at least her dog jack and her cat Cooper with her which I couldn't afford. She tried to make it so I moved in with her at her mom's house instead, but I had a good job and going to school it was illogical to drop everything like that. In the end we held off on moving in together because it would be all me taking care of her and I was too poor. Thus last January we talked about things and I asked her if she was unhappy, she was a little bit but enough that I said she had to make a choice since I didn't want to end things and keep trying. So we broke up, and in the end it was the LDR that killed it. \n",
      "\n",
      "I started off okay, trying to move on and move forward I was pretty upset and my heart was broken, I loved this women she was soul mate and the love of my life in every way, she had her flaws but we all did. We tried to stay friends because we had been through too much not to, we were a relationship of firsts for both of us so our connection was very very strong. Fast forward to February, I had noticed some distance, she was seeing someone already, it was a shock, it hit me in my heart, I was already broken up but she had already moved on? He even told her he loved her already she said, they barely knew each other, all my past came boiling to the front, the abandonment, the self hatred, what had I done? I wasn't ready for this and I still loved her,  I broke down mentally, lost my job, quit school. I spent the next month pleading with her to take me back that I still loved her that it was a mistake that we ended things but it was too late. She told me that moment last June during our first break up killed her and even though she tried she held onto it, she kept the texts, she kept them. She said it wasn't fair to this new guy, we were together almost 4 years we were supposed to get married and have kids this isn't supposed to be this way. We stopped talking for a bit but I kept trying to reach out to her, threatening suicide. I had to see a therapist and take medication for everything that was done. Now it's April her bday was that month he was taking her to Hawaii, he was well off money wise, could give her all she wanted, she sends me a picture when she is there, he asked her to marry him and now she is engaged. That picture was the final straw, it broke me. In the end she proved that she probably never really loved me as much as she said she did. During the whole of the relationship I carried it on my shoulders and gave her all that I could give. Lost a few things that I won't get back. Now she has what she wants, and I was stuck picking up the pieces dealing with my depression again, I didn't have a job and I didn't have school anymore I didn't care about alot of things. \n",
      "\n",
      "Fast forward to now, I have pushed and pushed through the emotional shit, it is still there but I am slowly getting better, I found work again, working for the same company different owner. I'm still poor but I can at least take care of me for now. I think about her every day and every night. I can't talk to her anymore, she felt bad and guilty for the way things went but because it wasn't fair to her new fiance I couldn't talk to her anymore, she even said that he recommended a restraining order if it got bad enough. Sigh how can you go from what we had to that so quickly? I am bombarded by memories of my past and now her every day and it is a struggle but I push, even trying to get back to my military weight again. She is my best friend and I still love her even through all this, it's sad really. \n",
      "\n",
      "Thank you for reading my story and I'm sorry it might of been a long one. \n",
      "\n",
      "*edit here is me http://imgur.com/8o3urUn\n",
      "\n",
      "*edit grammar\n",
      "\n"
     ]
    }
   ],
   "source": [
    "for i in subreddit2_comment_idx:\n",
    "    print(u\"***{}, {}***:\\n {}\\n\".format(subreddits[subreddit_id[test_idx[i]]], \n",
    "                                np.around(y_score[i,1], decimals =3), corpus[test_idx[i]]))\n",
    "    "
   ]
  },
  {
   "cell_type": "markdown",
   "metadata": {},
   "source": [
    "# Topic Modeling "
   ]
  },
  {
   "cell_type": "code",
   "execution_count": 31,
   "metadata": {
    "collapsed": false
   },
   "outputs": [],
   "source": [
    "N_TOPICS = 50\n",
    "N_TOP_WORDS = 10 \n",
    "\n",
    "def load_all_reddit_mh( directory = '.', filenames = ['RC_2015-01', 'RC_2015-02', 'RC_2015-03', 'RC_2015-04', 'RC_2015-05'], MIN_CHARACTERS = 50):\n",
    "    \"\"\"\n",
    "    Function to import Reddit comments from mental health forums from May 2015 \n",
    "    \n",
    "    params: \n",
    "        str filename: name of file to open \n",
    "        int MIN_CHARACTERS: thresholds comments we load by comment length (in characters) \n",
    "    \"\"\"\n",
    "    corpus = []\n",
    "    subreddit_id = []\n",
    "    subreddits = []\n",
    "    for filename in filenames: \n",
    "        with open(directory + '/' + filename, 'r') as f:\n",
    "            for line in f:\n",
    "                json_dict = ujson.loads(line)\n",
    "                subreddit = json_dict['subreddit']\n",
    "                comment = json_dict['body']\n",
    "                if len(comment) > MIN_CHARACTERS:\n",
    "                    corpus.append(comment)\n",
    "                    if subreddit in subreddits:\n",
    "                        pass\n",
    "                    else: \n",
    "                        subreddits.append(subreddit)\n",
    "                    subreddit_id.append(subreddits.index(subreddit))\n",
    "    return [corpus, subreddit_id, subreddits]\n",
    "\n"
   ]
  },
  {
   "cell_type": "code",
   "execution_count": 32,
   "metadata": {
    "collapsed": false
   },
   "outputs": [
    {
     "name": "stdout",
     "output_type": "stream",
     "text": [
      "Processing took 69.8867549896s\n"
     ]
    }
   ],
   "source": [
    "start = time.time()\n",
    "[corpus_all, subreddit_id_all, subreddits_all] = load_all_reddit_mh(filenames=['RC_2015-05.json'], MIN_CHARACTERS = MIN_CHARACTERS)\n",
    "\n",
    "# Get rid of punctuation and set to lowercase  \n",
    "processed_corpus_all = [ re.sub( RE_PREPROCESS, ' ', comment).lower() for comment in corpus_all]\n",
    "\n",
    "bag_of_words_all = vectorizer.fit_transform( processed_corpus_all )\n",
    "end = time.time() \n",
    "print(\"Processing took {}s\".format(end - start)) # takes ~62s for 1 file, 401s for 5 files "
   ]
  },
  {
   "cell_type": "code",
   "execution_count": 26,
   "metadata": {
    "collapsed": false
   },
   "outputs": [
    {
     "name": "stdout",
     "output_type": "stream",
     "text": [
      "(Counter({0: 133391, 1: 114579, 3: 102777, 5: 83124, 8: 57846, 2: 56590, 10: 44764, 11: 38184, 13: 35662, 18: 23305, 4: 16030, 12: 15127, 17: 13284, 7: 12908, 9: 7848, 27: 6511, 23: 5688, 14: 4924, 22: 4488, 15: 3586, 24: 2752, 26: 2071, 6: 2052, 16: 1901, 30: 1834, 19: 1564, 20: 1513, 31: 1399, 33: 1192, 40: 1098, 21: 948, 28: 582, 36: 309, 35: 248, 25: 217, 34: 186, 29: 142, 41: 126, 45: 85, 37: 56, 48: 49, 39: 47, 52: 35, 42: 30, 32: 28, 50: 28, 38: 19, 46: 16, 47: 16, 43: 14, 44: 14, 53: 14, 49: 11, 54: 9, 51: 7}), 801228)\n"
     ]
    }
   ],
   "source": [
    "print(Counter(subreddit_id_all), len(subreddit_id_all))"
   ]
  },
  {
   "cell_type": "code",
   "execution_count": 33,
   "metadata": {
    "collapsed": false
   },
   "outputs": [
    {
     "name": "stdout",
     "output_type": "stream",
     "text": [
      "Processing took 260.475250959s\n"
     ]
    }
   ],
   "source": [
    "start = time.time()\n",
    "lda = LatentDirichletAllocation( n_topics = N_TOPICS )\n",
    "lda.fit_transform( bag_of_words_all )\n",
    "end = time.time() \n",
    "print(\"Processing took {}s\".format(end- start)) # takes ~72s for 1 file, ~445s for 5 files "
   ]
  },
  {
   "cell_type": "code",
   "execution_count": 25,
   "metadata": {
    "collapsed": false
   },
   "outputs": [
    {
     "name": "stdout",
     "output_type": "stream",
     "text": [
      "\n",
      "Topics in LDA model:\n",
      "('Topic #0:', u'stuff, feels, like, definitely, music, really, must, stupid, together, feels like')\n",
      "('Topic #1:', u'job, actually, time, really, get, work, meds, like, think, even')\n",
      "('Topic #2:', u'people, like, kind, see, around, talking, know, meet, said, person')\n",
      "('Topic #3:', u'someone, care, many, pain, nice, help, know, talk, writing, people')\n",
      "('Topic #4:', u'thoughts, thinking, free, suicidal, kill, treatment, rather, helpful, horrible, physical')\n",
      "('Topic #5:', u'people, life, place, things, think, make, want, like, future, even')\n",
      "('Topic #6:', u'want, talk, make, need, pm, glad, feel, least, help, want talk')\n",
      "('Topic #7:', u'feeling, anything, nothing, hate, helps, wrong, chance, taking, trust, agree')\n",
      "('Topic #8:', u'feel, like, feel like, try, something, live, everything, maybe, way, never')\n",
      "('Topic #9:', u'could, wish, worth, wish could, sucks, get, anything, someone, seeing, enjoy')\n",
      "('Topic #10:', u'man, im, call, anymore, lost, left, cry, cant, says, fucked')\n",
      "('Topic #11:', u'help, need, way, depressed, good, get, feel, think, luck, maybe')\n",
      "('Topic #12:', u'would, love, parents, told, probably, honestly, helped, tell, recommend, called')\n",
      "('Topic #13:', u'happy, yeah, yes, die, sad, happiness, online, instead, drugs, struggle')\n",
      "('Topic #14:', u'life, hard, sometimes, easy, learn, enjoy, suffering, years, much, rest')\n",
      "('Topic #15:', u'thing, look, pretty, everyone, different, one, something, find, much, change')\n",
      "('Topic #16:', u'work, year, months, idea, mom, less, problem, put, dad, today')\n",
      "('Topic #17:', u'anxiety, working, last, social, night, far, positive, days, also, negative')\n",
      "('Topic #18:', u'better, hope, feel, mean, really, feel better, brain, know, appreciate, means')\n",
      "('Topic #19:', u'self, ask, doctor, therapy, problems, issues, medication, consider, possible, question')\n",
      "('Topic #20:', u'like, sounds, hey, sounds like, right, would, guess, situation, mother, difficult')\n",
      "('Topic #21:', u'sorry, well, hear, living, emotional, gives, giving, mostly, family, fun')\n",
      "('Topic #22:', u'problems, found, needed, alive, hurt, happens, get help, however, best, mood')\n",
      "('Topic #23:', u'therapist, makes, thank, living, parents, fix, depressed, easier, saying, contact')\n",
      "('Topic #24:', u'good, lot, also, person, relationship, like, things, easier, write, sometimes')\n",
      "('Topic #25:', u'think, makes, bad, things, thought, understand, never, people, play, make')\n",
      "('Topic #26:', u'bit, little, made, sleep, mental, side, health, quite, run, next')\n",
      "('Topic #27:', u'since, feelings, gets, deal, especially, control, emotions, hit, totally, dealing')\n",
      "('Topic #28:', u'know, even, though, let, tell, still, hard, okay, get, going')\n",
      "('Topic #29:', u'shit, us, keep, going, fuck, point, completely, deserve, anything, get')\n",
      "('Topic #30:', u'years, time, school, long, started, felt, got, ago, still, done')\n",
      "('Topic #31:', u'works, stopped, either, huge, care, later, believe, fucking, loved, worst')\n",
      "('Topic #32:', u'else, anyone, able, part, month, ones, someone else, girlfriend, perhaps, never')\n",
      "('Topic #33:', u'find, post, believe, world, others, hope, reddit, moment, telling, show')\n",
      "('Topic #34:', u'dad, physical, reddit, reasons, however, helped, tired, home, came, video')\n",
      "('Topic #35:', u'enough, away, tried, support, use, sense, long, words, relate, old')\n",
      "('Topic #36:', u'give, got, without, advice, weeks, gonna, talked, able, process, effort')\n",
      "('Topic #37:', u'best, end, always, suicide, great, stop, wanted, way, anyway, step')\n",
      "('Topic #38:', u'day, go, back, every, get, money, week, home, time, days')\n",
      "('Topic #39:', u'ok, done, last, gt, actually, fucked, like, either, coming, trying')\n",
      "('Topic #40:', u'seems, already, etc, like, true, saying, getting, bed, kids, usually')\n",
      "('Topic #41:', u'depression, gt, psychiatrist, hospital, games, video, works, state, help, seeing')\n",
      "('Topic #42:', u'get, take, try, may, help, things, better, one, might, time')\n",
      "('Topic #43:', u'mind, start, http, body, open, almost, check, healthy, went, huge')\n",
      "('Topic #44:', u'really, therapist, think, know, dont, worse, found, oh, much, happened')\n",
      "('Topic #45:', u'read, com, fucking, www, watch, listen, fun, heard, head, reading')\n",
      "('Topic #46:', u'friends, new, family, friend, trying, close, making, course, leave, bring')\n",
      "('Topic #47:', u'please, sure, alone, ever, say, whatever, similar, hang, young, pretty')\n",
      "('Topic #48:', u'thank, thanks, looking, much, exactly, asking, fine, finding, look, talked')\n",
      "('Topic #49:', u'guy, girl, death, low, fix, beautiful, wait, find, last, usually')\n",
      "()\n"
     ]
    }
   ],
   "source": [
    "def print_top_words(model, feature_names, n_top_words):\n",
    "    for topic_idx, topic in enumerate(model.components_):\n",
    "        print(\"Topic #%d:\" % topic_idx, \", \".join([feature_names[i]\n",
    "                        for i in topic.argsort()[:-n_top_words - 1:-1]]))\n",
    "    print()\n",
    "\n",
    "print(\"\\nTopics in LDA model:\")\n",
    "\n",
    "print_top_words(lda, features, N_TOP_WORDS)"
   ]
  }
 ],
 "metadata": {
  "kernelspec": {
   "display_name": "Python 2",
   "language": "python",
   "name": "python2"
  },
  "language_info": {
   "codemirror_mode": {
    "name": "ipython",
    "version": 2
   },
   "file_extension": ".py",
   "mimetype": "text/x-python",
   "name": "python",
   "nbconvert_exporter": "python",
   "pygments_lexer": "ipython2",
   "version": "2.7.10"
  }
 },
 "nbformat": 4,
 "nbformat_minor": 0
}
